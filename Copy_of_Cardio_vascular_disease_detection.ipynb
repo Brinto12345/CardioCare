{
  "cells": [
    {
      "cell_type": "code",
      "execution_count": null,
      "metadata": {
        "id": "xcy4HvZmoxXh"
      },
      "outputs": [],
      "source": [
        "import numpy as np\n",
        "import pandas as pd \n",
        "import seaborn as sns \n",
        "import matplotlib.pyplot as plt"
      ]
    },
    {
      "cell_type": "code",
      "execution_count": null,
      "metadata": {
        "colab": {
          "base_uri": "https://localhost:8080/",
          "height": 468
        },
        "id": "OK_7h3D22d2D",
        "outputId": "293f9202-3c4a-45cb-e37b-f690450f44b0"
      },
      "outputs": [
        {
          "output_type": "execute_result",
          "data": {
            "text/plain": [
              "     Age  Weight  Length    Sex        BMI  DM  HTN  Current Smoker  \\\n",
              "0     53      90     175   Male  29.387755   0    1               1   \n",
              "1     67      70     157  Fmale  28.398718   0    1               0   \n",
              "2     54      54     164   Male  20.077335   0    0               1   \n",
              "3     66      67     158  Fmale  26.838648   0    1               0   \n",
              "4     50      87     153  Fmale  37.165193   0    1               0   \n",
              "..   ...     ...     ...    ...        ...  ..  ...             ...   \n",
              "298   58      84     168   Male  29.761905   0    0               0   \n",
              "299   55      64     152  Fmale  27.700831   0    0               0   \n",
              "300   48      77     160  Fmale  30.078125   0    1               0   \n",
              "301   57      90     159  Fmale  35.599858   1    0               0   \n",
              "302   56      85     170  Fmale  29.411765   0    1               1   \n",
              "\n",
              "     EX-Smoker  FH  ...    K   Na    WBC Lymph Neut  PLT EF-TTE  Region RWMA  \\\n",
              "0            0   0  ...  4.7  141   5700    39   52  261     50            0   \n",
              "1            0   0  ...  4.7  156   7700    38   55  165     40            4   \n",
              "2            0   0  ...  4.7  139   7400    38   60  230     40            2   \n",
              "3            0   0  ...  4.4  142  13000    18   72  742     55            0   \n",
              "4            0   0  ...  4.0  140   9200    55   39  274     50            0   \n",
              "..         ...  ..  ...  ...  ...    ...   ...  ...  ...    ...          ...   \n",
              "298          0   0  ...  4.8  146   8500    34   58  251     45            0   \n",
              "299          0   0  ...  4.0  139  11400    16   80  377     40            0   \n",
              "300          0   1  ...  4.0  140   9000    35   55  279     55            0   \n",
              "301          0   0  ...  3.8  141   3800    48   40  208     55            0   \n",
              "302          0   0  ...  4.4  147   6000    32   55  302     55            0   \n",
              "\n",
              "        VHD    Cath  \n",
              "0         N     Cad  \n",
              "1         N     Cad  \n",
              "2      mild     Cad  \n",
              "3    Severe  Normal  \n",
              "4    Severe  Normal  \n",
              "..      ...     ...  \n",
              "298       N     Cad  \n",
              "299    mild  Normal  \n",
              "300       N  Normal  \n",
              "301       N  Normal  \n",
              "302       N     Cad  \n",
              "\n",
              "[303 rows x 56 columns]"
            ],
            "text/html": [
              "\n",
              "  <div id=\"df-057d16c6-6bfc-46b6-9983-e6ee8675ae1f\">\n",
              "    <div class=\"colab-df-container\">\n",
              "      <div>\n",
              "<style scoped>\n",
              "    .dataframe tbody tr th:only-of-type {\n",
              "        vertical-align: middle;\n",
              "    }\n",
              "\n",
              "    .dataframe tbody tr th {\n",
              "        vertical-align: top;\n",
              "    }\n",
              "\n",
              "    .dataframe thead th {\n",
              "        text-align: right;\n",
              "    }\n",
              "</style>\n",
              "<table border=\"1\" class=\"dataframe\">\n",
              "  <thead>\n",
              "    <tr style=\"text-align: right;\">\n",
              "      <th></th>\n",
              "      <th>Age</th>\n",
              "      <th>Weight</th>\n",
              "      <th>Length</th>\n",
              "      <th>Sex</th>\n",
              "      <th>BMI</th>\n",
              "      <th>DM</th>\n",
              "      <th>HTN</th>\n",
              "      <th>Current Smoker</th>\n",
              "      <th>EX-Smoker</th>\n",
              "      <th>FH</th>\n",
              "      <th>...</th>\n",
              "      <th>K</th>\n",
              "      <th>Na</th>\n",
              "      <th>WBC</th>\n",
              "      <th>Lymph</th>\n",
              "      <th>Neut</th>\n",
              "      <th>PLT</th>\n",
              "      <th>EF-TTE</th>\n",
              "      <th>Region RWMA</th>\n",
              "      <th>VHD</th>\n",
              "      <th>Cath</th>\n",
              "    </tr>\n",
              "  </thead>\n",
              "  <tbody>\n",
              "    <tr>\n",
              "      <th>0</th>\n",
              "      <td>53</td>\n",
              "      <td>90</td>\n",
              "      <td>175</td>\n",
              "      <td>Male</td>\n",
              "      <td>29.387755</td>\n",
              "      <td>0</td>\n",
              "      <td>1</td>\n",
              "      <td>1</td>\n",
              "      <td>0</td>\n",
              "      <td>0</td>\n",
              "      <td>...</td>\n",
              "      <td>4.7</td>\n",
              "      <td>141</td>\n",
              "      <td>5700</td>\n",
              "      <td>39</td>\n",
              "      <td>52</td>\n",
              "      <td>261</td>\n",
              "      <td>50</td>\n",
              "      <td>0</td>\n",
              "      <td>N</td>\n",
              "      <td>Cad</td>\n",
              "    </tr>\n",
              "    <tr>\n",
              "      <th>1</th>\n",
              "      <td>67</td>\n",
              "      <td>70</td>\n",
              "      <td>157</td>\n",
              "      <td>Fmale</td>\n",
              "      <td>28.398718</td>\n",
              "      <td>0</td>\n",
              "      <td>1</td>\n",
              "      <td>0</td>\n",
              "      <td>0</td>\n",
              "      <td>0</td>\n",
              "      <td>...</td>\n",
              "      <td>4.7</td>\n",
              "      <td>156</td>\n",
              "      <td>7700</td>\n",
              "      <td>38</td>\n",
              "      <td>55</td>\n",
              "      <td>165</td>\n",
              "      <td>40</td>\n",
              "      <td>4</td>\n",
              "      <td>N</td>\n",
              "      <td>Cad</td>\n",
              "    </tr>\n",
              "    <tr>\n",
              "      <th>2</th>\n",
              "      <td>54</td>\n",
              "      <td>54</td>\n",
              "      <td>164</td>\n",
              "      <td>Male</td>\n",
              "      <td>20.077335</td>\n",
              "      <td>0</td>\n",
              "      <td>0</td>\n",
              "      <td>1</td>\n",
              "      <td>0</td>\n",
              "      <td>0</td>\n",
              "      <td>...</td>\n",
              "      <td>4.7</td>\n",
              "      <td>139</td>\n",
              "      <td>7400</td>\n",
              "      <td>38</td>\n",
              "      <td>60</td>\n",
              "      <td>230</td>\n",
              "      <td>40</td>\n",
              "      <td>2</td>\n",
              "      <td>mild</td>\n",
              "      <td>Cad</td>\n",
              "    </tr>\n",
              "    <tr>\n",
              "      <th>3</th>\n",
              "      <td>66</td>\n",
              "      <td>67</td>\n",
              "      <td>158</td>\n",
              "      <td>Fmale</td>\n",
              "      <td>26.838648</td>\n",
              "      <td>0</td>\n",
              "      <td>1</td>\n",
              "      <td>0</td>\n",
              "      <td>0</td>\n",
              "      <td>0</td>\n",
              "      <td>...</td>\n",
              "      <td>4.4</td>\n",
              "      <td>142</td>\n",
              "      <td>13000</td>\n",
              "      <td>18</td>\n",
              "      <td>72</td>\n",
              "      <td>742</td>\n",
              "      <td>55</td>\n",
              "      <td>0</td>\n",
              "      <td>Severe</td>\n",
              "      <td>Normal</td>\n",
              "    </tr>\n",
              "    <tr>\n",
              "      <th>4</th>\n",
              "      <td>50</td>\n",
              "      <td>87</td>\n",
              "      <td>153</td>\n",
              "      <td>Fmale</td>\n",
              "      <td>37.165193</td>\n",
              "      <td>0</td>\n",
              "      <td>1</td>\n",
              "      <td>0</td>\n",
              "      <td>0</td>\n",
              "      <td>0</td>\n",
              "      <td>...</td>\n",
              "      <td>4.0</td>\n",
              "      <td>140</td>\n",
              "      <td>9200</td>\n",
              "      <td>55</td>\n",
              "      <td>39</td>\n",
              "      <td>274</td>\n",
              "      <td>50</td>\n",
              "      <td>0</td>\n",
              "      <td>Severe</td>\n",
              "      <td>Normal</td>\n",
              "    </tr>\n",
              "    <tr>\n",
              "      <th>...</th>\n",
              "      <td>...</td>\n",
              "      <td>...</td>\n",
              "      <td>...</td>\n",
              "      <td>...</td>\n",
              "      <td>...</td>\n",
              "      <td>...</td>\n",
              "      <td>...</td>\n",
              "      <td>...</td>\n",
              "      <td>...</td>\n",
              "      <td>...</td>\n",
              "      <td>...</td>\n",
              "      <td>...</td>\n",
              "      <td>...</td>\n",
              "      <td>...</td>\n",
              "      <td>...</td>\n",
              "      <td>...</td>\n",
              "      <td>...</td>\n",
              "      <td>...</td>\n",
              "      <td>...</td>\n",
              "      <td>...</td>\n",
              "      <td>...</td>\n",
              "    </tr>\n",
              "    <tr>\n",
              "      <th>298</th>\n",
              "      <td>58</td>\n",
              "      <td>84</td>\n",
              "      <td>168</td>\n",
              "      <td>Male</td>\n",
              "      <td>29.761905</td>\n",
              "      <td>0</td>\n",
              "      <td>0</td>\n",
              "      <td>0</td>\n",
              "      <td>0</td>\n",
              "      <td>0</td>\n",
              "      <td>...</td>\n",
              "      <td>4.8</td>\n",
              "      <td>146</td>\n",
              "      <td>8500</td>\n",
              "      <td>34</td>\n",
              "      <td>58</td>\n",
              "      <td>251</td>\n",
              "      <td>45</td>\n",
              "      <td>0</td>\n",
              "      <td>N</td>\n",
              "      <td>Cad</td>\n",
              "    </tr>\n",
              "    <tr>\n",
              "      <th>299</th>\n",
              "      <td>55</td>\n",
              "      <td>64</td>\n",
              "      <td>152</td>\n",
              "      <td>Fmale</td>\n",
              "      <td>27.700831</td>\n",
              "      <td>0</td>\n",
              "      <td>0</td>\n",
              "      <td>0</td>\n",
              "      <td>0</td>\n",
              "      <td>0</td>\n",
              "      <td>...</td>\n",
              "      <td>4.0</td>\n",
              "      <td>139</td>\n",
              "      <td>11400</td>\n",
              "      <td>16</td>\n",
              "      <td>80</td>\n",
              "      <td>377</td>\n",
              "      <td>40</td>\n",
              "      <td>0</td>\n",
              "      <td>mild</td>\n",
              "      <td>Normal</td>\n",
              "    </tr>\n",
              "    <tr>\n",
              "      <th>300</th>\n",
              "      <td>48</td>\n",
              "      <td>77</td>\n",
              "      <td>160</td>\n",
              "      <td>Fmale</td>\n",
              "      <td>30.078125</td>\n",
              "      <td>0</td>\n",
              "      <td>1</td>\n",
              "      <td>0</td>\n",
              "      <td>0</td>\n",
              "      <td>1</td>\n",
              "      <td>...</td>\n",
              "      <td>4.0</td>\n",
              "      <td>140</td>\n",
              "      <td>9000</td>\n",
              "      <td>35</td>\n",
              "      <td>55</td>\n",
              "      <td>279</td>\n",
              "      <td>55</td>\n",
              "      <td>0</td>\n",
              "      <td>N</td>\n",
              "      <td>Normal</td>\n",
              "    </tr>\n",
              "    <tr>\n",
              "      <th>301</th>\n",
              "      <td>57</td>\n",
              "      <td>90</td>\n",
              "      <td>159</td>\n",
              "      <td>Fmale</td>\n",
              "      <td>35.599858</td>\n",
              "      <td>1</td>\n",
              "      <td>0</td>\n",
              "      <td>0</td>\n",
              "      <td>0</td>\n",
              "      <td>0</td>\n",
              "      <td>...</td>\n",
              "      <td>3.8</td>\n",
              "      <td>141</td>\n",
              "      <td>3800</td>\n",
              "      <td>48</td>\n",
              "      <td>40</td>\n",
              "      <td>208</td>\n",
              "      <td>55</td>\n",
              "      <td>0</td>\n",
              "      <td>N</td>\n",
              "      <td>Normal</td>\n",
              "    </tr>\n",
              "    <tr>\n",
              "      <th>302</th>\n",
              "      <td>56</td>\n",
              "      <td>85</td>\n",
              "      <td>170</td>\n",
              "      <td>Fmale</td>\n",
              "      <td>29.411765</td>\n",
              "      <td>0</td>\n",
              "      <td>1</td>\n",
              "      <td>1</td>\n",
              "      <td>0</td>\n",
              "      <td>0</td>\n",
              "      <td>...</td>\n",
              "      <td>4.4</td>\n",
              "      <td>147</td>\n",
              "      <td>6000</td>\n",
              "      <td>32</td>\n",
              "      <td>55</td>\n",
              "      <td>302</td>\n",
              "      <td>55</td>\n",
              "      <td>0</td>\n",
              "      <td>N</td>\n",
              "      <td>Cad</td>\n",
              "    </tr>\n",
              "  </tbody>\n",
              "</table>\n",
              "<p>303 rows × 56 columns</p>\n",
              "</div>\n",
              "      <button class=\"colab-df-convert\" onclick=\"convertToInteractive('df-057d16c6-6bfc-46b6-9983-e6ee8675ae1f')\"\n",
              "              title=\"Convert this dataframe to an interactive table.\"\n",
              "              style=\"display:none;\">\n",
              "        \n",
              "  <svg xmlns=\"http://www.w3.org/2000/svg\" height=\"24px\"viewBox=\"0 0 24 24\"\n",
              "       width=\"24px\">\n",
              "    <path d=\"M0 0h24v24H0V0z\" fill=\"none\"/>\n",
              "    <path d=\"M18.56 5.44l.94 2.06.94-2.06 2.06-.94-2.06-.94-.94-2.06-.94 2.06-2.06.94zm-11 1L8.5 8.5l.94-2.06 2.06-.94-2.06-.94L8.5 2.5l-.94 2.06-2.06.94zm10 10l.94 2.06.94-2.06 2.06-.94-2.06-.94-.94-2.06-.94 2.06-2.06.94z\"/><path d=\"M17.41 7.96l-1.37-1.37c-.4-.4-.92-.59-1.43-.59-.52 0-1.04.2-1.43.59L10.3 9.45l-7.72 7.72c-.78.78-.78 2.05 0 2.83L4 21.41c.39.39.9.59 1.41.59.51 0 1.02-.2 1.41-.59l7.78-7.78 2.81-2.81c.8-.78.8-2.07 0-2.86zM5.41 20L4 18.59l7.72-7.72 1.47 1.35L5.41 20z\"/>\n",
              "  </svg>\n",
              "      </button>\n",
              "      \n",
              "  <style>\n",
              "    .colab-df-container {\n",
              "      display:flex;\n",
              "      flex-wrap:wrap;\n",
              "      gap: 12px;\n",
              "    }\n",
              "\n",
              "    .colab-df-convert {\n",
              "      background-color: #E8F0FE;\n",
              "      border: none;\n",
              "      border-radius: 50%;\n",
              "      cursor: pointer;\n",
              "      display: none;\n",
              "      fill: #1967D2;\n",
              "      height: 32px;\n",
              "      padding: 0 0 0 0;\n",
              "      width: 32px;\n",
              "    }\n",
              "\n",
              "    .colab-df-convert:hover {\n",
              "      background-color: #E2EBFA;\n",
              "      box-shadow: 0px 1px 2px rgba(60, 64, 67, 0.3), 0px 1px 3px 1px rgba(60, 64, 67, 0.15);\n",
              "      fill: #174EA6;\n",
              "    }\n",
              "\n",
              "    [theme=dark] .colab-df-convert {\n",
              "      background-color: #3B4455;\n",
              "      fill: #D2E3FC;\n",
              "    }\n",
              "\n",
              "    [theme=dark] .colab-df-convert:hover {\n",
              "      background-color: #434B5C;\n",
              "      box-shadow: 0px 1px 3px 1px rgba(0, 0, 0, 0.15);\n",
              "      filter: drop-shadow(0px 1px 2px rgba(0, 0, 0, 0.3));\n",
              "      fill: #FFFFFF;\n",
              "    }\n",
              "  </style>\n",
              "\n",
              "      <script>\n",
              "        const buttonEl =\n",
              "          document.querySelector('#df-057d16c6-6bfc-46b6-9983-e6ee8675ae1f button.colab-df-convert');\n",
              "        buttonEl.style.display =\n",
              "          google.colab.kernel.accessAllowed ? 'block' : 'none';\n",
              "\n",
              "        async function convertToInteractive(key) {\n",
              "          const element = document.querySelector('#df-057d16c6-6bfc-46b6-9983-e6ee8675ae1f');\n",
              "          const dataTable =\n",
              "            await google.colab.kernel.invokeFunction('convertToInteractive',\n",
              "                                                     [key], {});\n",
              "          if (!dataTable) return;\n",
              "\n",
              "          const docLinkHtml = 'Like what you see? Visit the ' +\n",
              "            '<a target=\"_blank\" href=https://colab.research.google.com/notebooks/data_table.ipynb>data table notebook</a>'\n",
              "            + ' to learn more about interactive tables.';\n",
              "          element.innerHTML = '';\n",
              "          dataTable['output_type'] = 'display_data';\n",
              "          await google.colab.output.renderOutput(dataTable, element);\n",
              "          const docLink = document.createElement('div');\n",
              "          docLink.innerHTML = docLinkHtml;\n",
              "          element.appendChild(docLink);\n",
              "        }\n",
              "      </script>\n",
              "    </div>\n",
              "  </div>\n",
              "  "
            ]
          },
          "metadata": {},
          "execution_count": 4
        }
      ],
      "source": [
        "d=pd.read_csv('/content/drive/MyDrive/Colab Notebooks/Z-Alizadeh sani dataset (1).csv')\n",
        "df=pd.DataFrame(d)\n",
        "df"
      ]
    },
    {
      "cell_type": "code",
      "execution_count": null,
      "metadata": {
        "colab": {
          "base_uri": "https://localhost:8080/",
          "height": 236
        },
        "id": "JqpUp7Wrs3p7",
        "outputId": "4d967aab-0761-47cf-eae3-dfc63c5f3968"
      },
      "outputs": [
        {
          "output_type": "execute_result",
          "data": {
            "text/plain": [
              "   Age  Weight  Length    Sex        BMI  DM  HTN  Current Smoker  EX-Smoker  \\\n",
              "0   53      90     175   Male  29.387755   0    1               1          0   \n",
              "1   67      70     157  Fmale  28.398718   0    1               0          0   \n",
              "2   54      54     164   Male  20.077335   0    0               1          0   \n",
              "3   66      67     158  Fmale  26.838648   0    1               0          0   \n",
              "4   50      87     153  Fmale  37.165193   0    1               0          0   \n",
              "\n",
              "   FH  ...    K   Na    WBC Lymph Neut  PLT EF-TTE  Region RWMA     VHD  \\\n",
              "0   0  ...  4.7  141   5700    39   52  261     50            0       N   \n",
              "1   0  ...  4.7  156   7700    38   55  165     40            4       N   \n",
              "2   0  ...  4.7  139   7400    38   60  230     40            2    mild   \n",
              "3   0  ...  4.4  142  13000    18   72  742     55            0  Severe   \n",
              "4   0  ...  4.0  140   9200    55   39  274     50            0  Severe   \n",
              "\n",
              "     Cath  \n",
              "0     Cad  \n",
              "1     Cad  \n",
              "2     Cad  \n",
              "3  Normal  \n",
              "4  Normal  \n",
              "\n",
              "[5 rows x 56 columns]"
            ],
            "text/html": [
              "\n",
              "  <div id=\"df-01125c8d-cd55-493c-b8a6-b717f8c6b00a\">\n",
              "    <div class=\"colab-df-container\">\n",
              "      <div>\n",
              "<style scoped>\n",
              "    .dataframe tbody tr th:only-of-type {\n",
              "        vertical-align: middle;\n",
              "    }\n",
              "\n",
              "    .dataframe tbody tr th {\n",
              "        vertical-align: top;\n",
              "    }\n",
              "\n",
              "    .dataframe thead th {\n",
              "        text-align: right;\n",
              "    }\n",
              "</style>\n",
              "<table border=\"1\" class=\"dataframe\">\n",
              "  <thead>\n",
              "    <tr style=\"text-align: right;\">\n",
              "      <th></th>\n",
              "      <th>Age</th>\n",
              "      <th>Weight</th>\n",
              "      <th>Length</th>\n",
              "      <th>Sex</th>\n",
              "      <th>BMI</th>\n",
              "      <th>DM</th>\n",
              "      <th>HTN</th>\n",
              "      <th>Current Smoker</th>\n",
              "      <th>EX-Smoker</th>\n",
              "      <th>FH</th>\n",
              "      <th>...</th>\n",
              "      <th>K</th>\n",
              "      <th>Na</th>\n",
              "      <th>WBC</th>\n",
              "      <th>Lymph</th>\n",
              "      <th>Neut</th>\n",
              "      <th>PLT</th>\n",
              "      <th>EF-TTE</th>\n",
              "      <th>Region RWMA</th>\n",
              "      <th>VHD</th>\n",
              "      <th>Cath</th>\n",
              "    </tr>\n",
              "  </thead>\n",
              "  <tbody>\n",
              "    <tr>\n",
              "      <th>0</th>\n",
              "      <td>53</td>\n",
              "      <td>90</td>\n",
              "      <td>175</td>\n",
              "      <td>Male</td>\n",
              "      <td>29.387755</td>\n",
              "      <td>0</td>\n",
              "      <td>1</td>\n",
              "      <td>1</td>\n",
              "      <td>0</td>\n",
              "      <td>0</td>\n",
              "      <td>...</td>\n",
              "      <td>4.7</td>\n",
              "      <td>141</td>\n",
              "      <td>5700</td>\n",
              "      <td>39</td>\n",
              "      <td>52</td>\n",
              "      <td>261</td>\n",
              "      <td>50</td>\n",
              "      <td>0</td>\n",
              "      <td>N</td>\n",
              "      <td>Cad</td>\n",
              "    </tr>\n",
              "    <tr>\n",
              "      <th>1</th>\n",
              "      <td>67</td>\n",
              "      <td>70</td>\n",
              "      <td>157</td>\n",
              "      <td>Fmale</td>\n",
              "      <td>28.398718</td>\n",
              "      <td>0</td>\n",
              "      <td>1</td>\n",
              "      <td>0</td>\n",
              "      <td>0</td>\n",
              "      <td>0</td>\n",
              "      <td>...</td>\n",
              "      <td>4.7</td>\n",
              "      <td>156</td>\n",
              "      <td>7700</td>\n",
              "      <td>38</td>\n",
              "      <td>55</td>\n",
              "      <td>165</td>\n",
              "      <td>40</td>\n",
              "      <td>4</td>\n",
              "      <td>N</td>\n",
              "      <td>Cad</td>\n",
              "    </tr>\n",
              "    <tr>\n",
              "      <th>2</th>\n",
              "      <td>54</td>\n",
              "      <td>54</td>\n",
              "      <td>164</td>\n",
              "      <td>Male</td>\n",
              "      <td>20.077335</td>\n",
              "      <td>0</td>\n",
              "      <td>0</td>\n",
              "      <td>1</td>\n",
              "      <td>0</td>\n",
              "      <td>0</td>\n",
              "      <td>...</td>\n",
              "      <td>4.7</td>\n",
              "      <td>139</td>\n",
              "      <td>7400</td>\n",
              "      <td>38</td>\n",
              "      <td>60</td>\n",
              "      <td>230</td>\n",
              "      <td>40</td>\n",
              "      <td>2</td>\n",
              "      <td>mild</td>\n",
              "      <td>Cad</td>\n",
              "    </tr>\n",
              "    <tr>\n",
              "      <th>3</th>\n",
              "      <td>66</td>\n",
              "      <td>67</td>\n",
              "      <td>158</td>\n",
              "      <td>Fmale</td>\n",
              "      <td>26.838648</td>\n",
              "      <td>0</td>\n",
              "      <td>1</td>\n",
              "      <td>0</td>\n",
              "      <td>0</td>\n",
              "      <td>0</td>\n",
              "      <td>...</td>\n",
              "      <td>4.4</td>\n",
              "      <td>142</td>\n",
              "      <td>13000</td>\n",
              "      <td>18</td>\n",
              "      <td>72</td>\n",
              "      <td>742</td>\n",
              "      <td>55</td>\n",
              "      <td>0</td>\n",
              "      <td>Severe</td>\n",
              "      <td>Normal</td>\n",
              "    </tr>\n",
              "    <tr>\n",
              "      <th>4</th>\n",
              "      <td>50</td>\n",
              "      <td>87</td>\n",
              "      <td>153</td>\n",
              "      <td>Fmale</td>\n",
              "      <td>37.165193</td>\n",
              "      <td>0</td>\n",
              "      <td>1</td>\n",
              "      <td>0</td>\n",
              "      <td>0</td>\n",
              "      <td>0</td>\n",
              "      <td>...</td>\n",
              "      <td>4.0</td>\n",
              "      <td>140</td>\n",
              "      <td>9200</td>\n",
              "      <td>55</td>\n",
              "      <td>39</td>\n",
              "      <td>274</td>\n",
              "      <td>50</td>\n",
              "      <td>0</td>\n",
              "      <td>Severe</td>\n",
              "      <td>Normal</td>\n",
              "    </tr>\n",
              "  </tbody>\n",
              "</table>\n",
              "<p>5 rows × 56 columns</p>\n",
              "</div>\n",
              "      <button class=\"colab-df-convert\" onclick=\"convertToInteractive('df-01125c8d-cd55-493c-b8a6-b717f8c6b00a')\"\n",
              "              title=\"Convert this dataframe to an interactive table.\"\n",
              "              style=\"display:none;\">\n",
              "        \n",
              "  <svg xmlns=\"http://www.w3.org/2000/svg\" height=\"24px\"viewBox=\"0 0 24 24\"\n",
              "       width=\"24px\">\n",
              "    <path d=\"M0 0h24v24H0V0z\" fill=\"none\"/>\n",
              "    <path d=\"M18.56 5.44l.94 2.06.94-2.06 2.06-.94-2.06-.94-.94-2.06-.94 2.06-2.06.94zm-11 1L8.5 8.5l.94-2.06 2.06-.94-2.06-.94L8.5 2.5l-.94 2.06-2.06.94zm10 10l.94 2.06.94-2.06 2.06-.94-2.06-.94-.94-2.06-.94 2.06-2.06.94z\"/><path d=\"M17.41 7.96l-1.37-1.37c-.4-.4-.92-.59-1.43-.59-.52 0-1.04.2-1.43.59L10.3 9.45l-7.72 7.72c-.78.78-.78 2.05 0 2.83L4 21.41c.39.39.9.59 1.41.59.51 0 1.02-.2 1.41-.59l7.78-7.78 2.81-2.81c.8-.78.8-2.07 0-2.86zM5.41 20L4 18.59l7.72-7.72 1.47 1.35L5.41 20z\"/>\n",
              "  </svg>\n",
              "      </button>\n",
              "      \n",
              "  <style>\n",
              "    .colab-df-container {\n",
              "      display:flex;\n",
              "      flex-wrap:wrap;\n",
              "      gap: 12px;\n",
              "    }\n",
              "\n",
              "    .colab-df-convert {\n",
              "      background-color: #E8F0FE;\n",
              "      border: none;\n",
              "      border-radius: 50%;\n",
              "      cursor: pointer;\n",
              "      display: none;\n",
              "      fill: #1967D2;\n",
              "      height: 32px;\n",
              "      padding: 0 0 0 0;\n",
              "      width: 32px;\n",
              "    }\n",
              "\n",
              "    .colab-df-convert:hover {\n",
              "      background-color: #E2EBFA;\n",
              "      box-shadow: 0px 1px 2px rgba(60, 64, 67, 0.3), 0px 1px 3px 1px rgba(60, 64, 67, 0.15);\n",
              "      fill: #174EA6;\n",
              "    }\n",
              "\n",
              "    [theme=dark] .colab-df-convert {\n",
              "      background-color: #3B4455;\n",
              "      fill: #D2E3FC;\n",
              "    }\n",
              "\n",
              "    [theme=dark] .colab-df-convert:hover {\n",
              "      background-color: #434B5C;\n",
              "      box-shadow: 0px 1px 3px 1px rgba(0, 0, 0, 0.15);\n",
              "      filter: drop-shadow(0px 1px 2px rgba(0, 0, 0, 0.3));\n",
              "      fill: #FFFFFF;\n",
              "    }\n",
              "  </style>\n",
              "\n",
              "      <script>\n",
              "        const buttonEl =\n",
              "          document.querySelector('#df-01125c8d-cd55-493c-b8a6-b717f8c6b00a button.colab-df-convert');\n",
              "        buttonEl.style.display =\n",
              "          google.colab.kernel.accessAllowed ? 'block' : 'none';\n",
              "\n",
              "        async function convertToInteractive(key) {\n",
              "          const element = document.querySelector('#df-01125c8d-cd55-493c-b8a6-b717f8c6b00a');\n",
              "          const dataTable =\n",
              "            await google.colab.kernel.invokeFunction('convertToInteractive',\n",
              "                                                     [key], {});\n",
              "          if (!dataTable) return;\n",
              "\n",
              "          const docLinkHtml = 'Like what you see? Visit the ' +\n",
              "            '<a target=\"_blank\" href=https://colab.research.google.com/notebooks/data_table.ipynb>data table notebook</a>'\n",
              "            + ' to learn more about interactive tables.';\n",
              "          element.innerHTML = '';\n",
              "          dataTable['output_type'] = 'display_data';\n",
              "          await google.colab.output.renderOutput(dataTable, element);\n",
              "          const docLink = document.createElement('div');\n",
              "          docLink.innerHTML = docLinkHtml;\n",
              "          element.appendChild(docLink);\n",
              "        }\n",
              "      </script>\n",
              "    </div>\n",
              "  </div>\n",
              "  "
            ]
          },
          "metadata": {},
          "execution_count": 5
        }
      ],
      "source": [
        "df.head()"
      ]
    },
    {
      "cell_type": "code",
      "execution_count": null,
      "metadata": {
        "colab": {
          "base_uri": "https://localhost:8080/",
          "height": 236
        },
        "id": "oDDrWo_1tCb_",
        "outputId": "0f6a14df-53d9-47d6-94f9-b630f6498e6b"
      },
      "outputs": [
        {
          "output_type": "execute_result",
          "data": {
            "text/plain": [
              "     Age  Weight  Length    Sex        BMI  DM  HTN  Current Smoker  \\\n",
              "298   58      84     168   Male  29.761905   0    0               0   \n",
              "299   55      64     152  Fmale  27.700831   0    0               0   \n",
              "300   48      77     160  Fmale  30.078125   0    1               0   \n",
              "301   57      90     159  Fmale  35.599858   1    0               0   \n",
              "302   56      85     170  Fmale  29.411765   0    1               1   \n",
              "\n",
              "     EX-Smoker  FH  ...    K   Na    WBC Lymph Neut  PLT EF-TTE  Region RWMA  \\\n",
              "298          0   0  ...  4.8  146   8500    34   58  251     45            0   \n",
              "299          0   0  ...  4.0  139  11400    16   80  377     40            0   \n",
              "300          0   1  ...  4.0  140   9000    35   55  279     55            0   \n",
              "301          0   0  ...  3.8  141   3800    48   40  208     55            0   \n",
              "302          0   0  ...  4.4  147   6000    32   55  302     55            0   \n",
              "\n",
              "      VHD    Cath  \n",
              "298     N     Cad  \n",
              "299  mild  Normal  \n",
              "300     N  Normal  \n",
              "301     N  Normal  \n",
              "302     N     Cad  \n",
              "\n",
              "[5 rows x 56 columns]"
            ],
            "text/html": [
              "\n",
              "  <div id=\"df-643d4e3d-9ad2-4879-9a8a-8727b3b5b8ea\">\n",
              "    <div class=\"colab-df-container\">\n",
              "      <div>\n",
              "<style scoped>\n",
              "    .dataframe tbody tr th:only-of-type {\n",
              "        vertical-align: middle;\n",
              "    }\n",
              "\n",
              "    .dataframe tbody tr th {\n",
              "        vertical-align: top;\n",
              "    }\n",
              "\n",
              "    .dataframe thead th {\n",
              "        text-align: right;\n",
              "    }\n",
              "</style>\n",
              "<table border=\"1\" class=\"dataframe\">\n",
              "  <thead>\n",
              "    <tr style=\"text-align: right;\">\n",
              "      <th></th>\n",
              "      <th>Age</th>\n",
              "      <th>Weight</th>\n",
              "      <th>Length</th>\n",
              "      <th>Sex</th>\n",
              "      <th>BMI</th>\n",
              "      <th>DM</th>\n",
              "      <th>HTN</th>\n",
              "      <th>Current Smoker</th>\n",
              "      <th>EX-Smoker</th>\n",
              "      <th>FH</th>\n",
              "      <th>...</th>\n",
              "      <th>K</th>\n",
              "      <th>Na</th>\n",
              "      <th>WBC</th>\n",
              "      <th>Lymph</th>\n",
              "      <th>Neut</th>\n",
              "      <th>PLT</th>\n",
              "      <th>EF-TTE</th>\n",
              "      <th>Region RWMA</th>\n",
              "      <th>VHD</th>\n",
              "      <th>Cath</th>\n",
              "    </tr>\n",
              "  </thead>\n",
              "  <tbody>\n",
              "    <tr>\n",
              "      <th>298</th>\n",
              "      <td>58</td>\n",
              "      <td>84</td>\n",
              "      <td>168</td>\n",
              "      <td>Male</td>\n",
              "      <td>29.761905</td>\n",
              "      <td>0</td>\n",
              "      <td>0</td>\n",
              "      <td>0</td>\n",
              "      <td>0</td>\n",
              "      <td>0</td>\n",
              "      <td>...</td>\n",
              "      <td>4.8</td>\n",
              "      <td>146</td>\n",
              "      <td>8500</td>\n",
              "      <td>34</td>\n",
              "      <td>58</td>\n",
              "      <td>251</td>\n",
              "      <td>45</td>\n",
              "      <td>0</td>\n",
              "      <td>N</td>\n",
              "      <td>Cad</td>\n",
              "    </tr>\n",
              "    <tr>\n",
              "      <th>299</th>\n",
              "      <td>55</td>\n",
              "      <td>64</td>\n",
              "      <td>152</td>\n",
              "      <td>Fmale</td>\n",
              "      <td>27.700831</td>\n",
              "      <td>0</td>\n",
              "      <td>0</td>\n",
              "      <td>0</td>\n",
              "      <td>0</td>\n",
              "      <td>0</td>\n",
              "      <td>...</td>\n",
              "      <td>4.0</td>\n",
              "      <td>139</td>\n",
              "      <td>11400</td>\n",
              "      <td>16</td>\n",
              "      <td>80</td>\n",
              "      <td>377</td>\n",
              "      <td>40</td>\n",
              "      <td>0</td>\n",
              "      <td>mild</td>\n",
              "      <td>Normal</td>\n",
              "    </tr>\n",
              "    <tr>\n",
              "      <th>300</th>\n",
              "      <td>48</td>\n",
              "      <td>77</td>\n",
              "      <td>160</td>\n",
              "      <td>Fmale</td>\n",
              "      <td>30.078125</td>\n",
              "      <td>0</td>\n",
              "      <td>1</td>\n",
              "      <td>0</td>\n",
              "      <td>0</td>\n",
              "      <td>1</td>\n",
              "      <td>...</td>\n",
              "      <td>4.0</td>\n",
              "      <td>140</td>\n",
              "      <td>9000</td>\n",
              "      <td>35</td>\n",
              "      <td>55</td>\n",
              "      <td>279</td>\n",
              "      <td>55</td>\n",
              "      <td>0</td>\n",
              "      <td>N</td>\n",
              "      <td>Normal</td>\n",
              "    </tr>\n",
              "    <tr>\n",
              "      <th>301</th>\n",
              "      <td>57</td>\n",
              "      <td>90</td>\n",
              "      <td>159</td>\n",
              "      <td>Fmale</td>\n",
              "      <td>35.599858</td>\n",
              "      <td>1</td>\n",
              "      <td>0</td>\n",
              "      <td>0</td>\n",
              "      <td>0</td>\n",
              "      <td>0</td>\n",
              "      <td>...</td>\n",
              "      <td>3.8</td>\n",
              "      <td>141</td>\n",
              "      <td>3800</td>\n",
              "      <td>48</td>\n",
              "      <td>40</td>\n",
              "      <td>208</td>\n",
              "      <td>55</td>\n",
              "      <td>0</td>\n",
              "      <td>N</td>\n",
              "      <td>Normal</td>\n",
              "    </tr>\n",
              "    <tr>\n",
              "      <th>302</th>\n",
              "      <td>56</td>\n",
              "      <td>85</td>\n",
              "      <td>170</td>\n",
              "      <td>Fmale</td>\n",
              "      <td>29.411765</td>\n",
              "      <td>0</td>\n",
              "      <td>1</td>\n",
              "      <td>1</td>\n",
              "      <td>0</td>\n",
              "      <td>0</td>\n",
              "      <td>...</td>\n",
              "      <td>4.4</td>\n",
              "      <td>147</td>\n",
              "      <td>6000</td>\n",
              "      <td>32</td>\n",
              "      <td>55</td>\n",
              "      <td>302</td>\n",
              "      <td>55</td>\n",
              "      <td>0</td>\n",
              "      <td>N</td>\n",
              "      <td>Cad</td>\n",
              "    </tr>\n",
              "  </tbody>\n",
              "</table>\n",
              "<p>5 rows × 56 columns</p>\n",
              "</div>\n",
              "      <button class=\"colab-df-convert\" onclick=\"convertToInteractive('df-643d4e3d-9ad2-4879-9a8a-8727b3b5b8ea')\"\n",
              "              title=\"Convert this dataframe to an interactive table.\"\n",
              "              style=\"display:none;\">\n",
              "        \n",
              "  <svg xmlns=\"http://www.w3.org/2000/svg\" height=\"24px\"viewBox=\"0 0 24 24\"\n",
              "       width=\"24px\">\n",
              "    <path d=\"M0 0h24v24H0V0z\" fill=\"none\"/>\n",
              "    <path d=\"M18.56 5.44l.94 2.06.94-2.06 2.06-.94-2.06-.94-.94-2.06-.94 2.06-2.06.94zm-11 1L8.5 8.5l.94-2.06 2.06-.94-2.06-.94L8.5 2.5l-.94 2.06-2.06.94zm10 10l.94 2.06.94-2.06 2.06-.94-2.06-.94-.94-2.06-.94 2.06-2.06.94z\"/><path d=\"M17.41 7.96l-1.37-1.37c-.4-.4-.92-.59-1.43-.59-.52 0-1.04.2-1.43.59L10.3 9.45l-7.72 7.72c-.78.78-.78 2.05 0 2.83L4 21.41c.39.39.9.59 1.41.59.51 0 1.02-.2 1.41-.59l7.78-7.78 2.81-2.81c.8-.78.8-2.07 0-2.86zM5.41 20L4 18.59l7.72-7.72 1.47 1.35L5.41 20z\"/>\n",
              "  </svg>\n",
              "      </button>\n",
              "      \n",
              "  <style>\n",
              "    .colab-df-container {\n",
              "      display:flex;\n",
              "      flex-wrap:wrap;\n",
              "      gap: 12px;\n",
              "    }\n",
              "\n",
              "    .colab-df-convert {\n",
              "      background-color: #E8F0FE;\n",
              "      border: none;\n",
              "      border-radius: 50%;\n",
              "      cursor: pointer;\n",
              "      display: none;\n",
              "      fill: #1967D2;\n",
              "      height: 32px;\n",
              "      padding: 0 0 0 0;\n",
              "      width: 32px;\n",
              "    }\n",
              "\n",
              "    .colab-df-convert:hover {\n",
              "      background-color: #E2EBFA;\n",
              "      box-shadow: 0px 1px 2px rgba(60, 64, 67, 0.3), 0px 1px 3px 1px rgba(60, 64, 67, 0.15);\n",
              "      fill: #174EA6;\n",
              "    }\n",
              "\n",
              "    [theme=dark] .colab-df-convert {\n",
              "      background-color: #3B4455;\n",
              "      fill: #D2E3FC;\n",
              "    }\n",
              "\n",
              "    [theme=dark] .colab-df-convert:hover {\n",
              "      background-color: #434B5C;\n",
              "      box-shadow: 0px 1px 3px 1px rgba(0, 0, 0, 0.15);\n",
              "      filter: drop-shadow(0px 1px 2px rgba(0, 0, 0, 0.3));\n",
              "      fill: #FFFFFF;\n",
              "    }\n",
              "  </style>\n",
              "\n",
              "      <script>\n",
              "        const buttonEl =\n",
              "          document.querySelector('#df-643d4e3d-9ad2-4879-9a8a-8727b3b5b8ea button.colab-df-convert');\n",
              "        buttonEl.style.display =\n",
              "          google.colab.kernel.accessAllowed ? 'block' : 'none';\n",
              "\n",
              "        async function convertToInteractive(key) {\n",
              "          const element = document.querySelector('#df-643d4e3d-9ad2-4879-9a8a-8727b3b5b8ea');\n",
              "          const dataTable =\n",
              "            await google.colab.kernel.invokeFunction('convertToInteractive',\n",
              "                                                     [key], {});\n",
              "          if (!dataTable) return;\n",
              "\n",
              "          const docLinkHtml = 'Like what you see? Visit the ' +\n",
              "            '<a target=\"_blank\" href=https://colab.research.google.com/notebooks/data_table.ipynb>data table notebook</a>'\n",
              "            + ' to learn more about interactive tables.';\n",
              "          element.innerHTML = '';\n",
              "          dataTable['output_type'] = 'display_data';\n",
              "          await google.colab.output.renderOutput(dataTable, element);\n",
              "          const docLink = document.createElement('div');\n",
              "          docLink.innerHTML = docLinkHtml;\n",
              "          element.appendChild(docLink);\n",
              "        }\n",
              "      </script>\n",
              "    </div>\n",
              "  </div>\n",
              "  "
            ]
          },
          "metadata": {},
          "execution_count": 6
        }
      ],
      "source": [
        "df.tail()"
      ]
    },
    {
      "cell_type": "code",
      "execution_count": null,
      "metadata": {
        "colab": {
          "base_uri": "https://localhost:8080/"
        },
        "id": "ishQoWhF5Gh4",
        "outputId": "98b6d17f-6df1-4b12-8b68-e9adcee859ef"
      },
      "outputs": [
        {
          "output_type": "execute_result",
          "data": {
            "text/plain": [
              "(303, 56)"
            ]
          },
          "metadata": {},
          "execution_count": 7
        }
      ],
      "source": [
        "df.shape"
      ]
    },
    {
      "cell_type": "code",
      "execution_count": null,
      "metadata": {
        "colab": {
          "base_uri": "https://localhost:8080/"
        },
        "id": "K-tMuopTW6kc",
        "outputId": "422f6931-4993-48a5-ac4a-ce69175c8d51"
      },
      "outputs": [
        {
          "output_type": "execute_result",
          "data": {
            "text/plain": [
              "<bound method DataFrame.info of      Age  Weight  Length    Sex        BMI  DM  HTN  Current Smoker  \\\n",
              "0     53      90     175   Male  29.387755   0    1               1   \n",
              "1     67      70     157  Fmale  28.398718   0    1               0   \n",
              "2     54      54     164   Male  20.077335   0    0               1   \n",
              "3     66      67     158  Fmale  26.838648   0    1               0   \n",
              "4     50      87     153  Fmale  37.165193   0    1               0   \n",
              "..   ...     ...     ...    ...        ...  ..  ...             ...   \n",
              "298   58      84     168   Male  29.761905   0    0               0   \n",
              "299   55      64     152  Fmale  27.700831   0    0               0   \n",
              "300   48      77     160  Fmale  30.078125   0    1               0   \n",
              "301   57      90     159  Fmale  35.599858   1    0               0   \n",
              "302   56      85     170  Fmale  29.411765   0    1               1   \n",
              "\n",
              "     EX-Smoker  FH  ...    K   Na    WBC Lymph Neut  PLT EF-TTE  Region RWMA  \\\n",
              "0            0   0  ...  4.7  141   5700    39   52  261     50            0   \n",
              "1            0   0  ...  4.7  156   7700    38   55  165     40            4   \n",
              "2            0   0  ...  4.7  139   7400    38   60  230     40            2   \n",
              "3            0   0  ...  4.4  142  13000    18   72  742     55            0   \n",
              "4            0   0  ...  4.0  140   9200    55   39  274     50            0   \n",
              "..         ...  ..  ...  ...  ...    ...   ...  ...  ...    ...          ...   \n",
              "298          0   0  ...  4.8  146   8500    34   58  251     45            0   \n",
              "299          0   0  ...  4.0  139  11400    16   80  377     40            0   \n",
              "300          0   1  ...  4.0  140   9000    35   55  279     55            0   \n",
              "301          0   0  ...  3.8  141   3800    48   40  208     55            0   \n",
              "302          0   0  ...  4.4  147   6000    32   55  302     55            0   \n",
              "\n",
              "        VHD    Cath  \n",
              "0         N     Cad  \n",
              "1         N     Cad  \n",
              "2      mild     Cad  \n",
              "3    Severe  Normal  \n",
              "4    Severe  Normal  \n",
              "..      ...     ...  \n",
              "298       N     Cad  \n",
              "299    mild  Normal  \n",
              "300       N  Normal  \n",
              "301       N  Normal  \n",
              "302       N     Cad  \n",
              "\n",
              "[303 rows x 56 columns]>"
            ]
          },
          "metadata": {},
          "execution_count": 8
        }
      ],
      "source": [
        "df.info"
      ]
    },
    {
      "cell_type": "code",
      "execution_count": null,
      "metadata": {
        "colab": {
          "base_uri": "https://localhost:8080/"
        },
        "id": "WkkjyzgCX4OY",
        "outputId": "b7546971-3237-439f-d512-8d52e6b02906"
      },
      "outputs": [
        {
          "output_type": "execute_result",
          "data": {
            "text/plain": [
              "<bound method NDFrame.describe of      Age  Weight  Length    Sex        BMI  DM  HTN  Current Smoker  \\\n",
              "0     53      90     175   Male  29.387755   0    1               1   \n",
              "1     67      70     157  Fmale  28.398718   0    1               0   \n",
              "2     54      54     164   Male  20.077335   0    0               1   \n",
              "3     66      67     158  Fmale  26.838648   0    1               0   \n",
              "4     50      87     153  Fmale  37.165193   0    1               0   \n",
              "..   ...     ...     ...    ...        ...  ..  ...             ...   \n",
              "298   58      84     168   Male  29.761905   0    0               0   \n",
              "299   55      64     152  Fmale  27.700831   0    0               0   \n",
              "300   48      77     160  Fmale  30.078125   0    1               0   \n",
              "301   57      90     159  Fmale  35.599858   1    0               0   \n",
              "302   56      85     170  Fmale  29.411765   0    1               1   \n",
              "\n",
              "     EX-Smoker  FH  ...    K   Na    WBC Lymph Neut  PLT EF-TTE  Region RWMA  \\\n",
              "0            0   0  ...  4.7  141   5700    39   52  261     50            0   \n",
              "1            0   0  ...  4.7  156   7700    38   55  165     40            4   \n",
              "2            0   0  ...  4.7  139   7400    38   60  230     40            2   \n",
              "3            0   0  ...  4.4  142  13000    18   72  742     55            0   \n",
              "4            0   0  ...  4.0  140   9200    55   39  274     50            0   \n",
              "..         ...  ..  ...  ...  ...    ...   ...  ...  ...    ...          ...   \n",
              "298          0   0  ...  4.8  146   8500    34   58  251     45            0   \n",
              "299          0   0  ...  4.0  139  11400    16   80  377     40            0   \n",
              "300          0   1  ...  4.0  140   9000    35   55  279     55            0   \n",
              "301          0   0  ...  3.8  141   3800    48   40  208     55            0   \n",
              "302          0   0  ...  4.4  147   6000    32   55  302     55            0   \n",
              "\n",
              "        VHD    Cath  \n",
              "0         N     Cad  \n",
              "1         N     Cad  \n",
              "2      mild     Cad  \n",
              "3    Severe  Normal  \n",
              "4    Severe  Normal  \n",
              "..      ...     ...  \n",
              "298       N     Cad  \n",
              "299    mild  Normal  \n",
              "300       N  Normal  \n",
              "301       N  Normal  \n",
              "302       N     Cad  \n",
              "\n",
              "[303 rows x 56 columns]>"
            ]
          },
          "metadata": {},
          "execution_count": 9
        }
      ],
      "source": [
        "df.describe"
      ]
    },
    {
      "cell_type": "code",
      "execution_count": null,
      "metadata": {
        "colab": {
          "base_uri": "https://localhost:8080/"
        },
        "id": "DUflQtYztDyw",
        "outputId": "d5ddc2f8-a499-4703-e37f-82d6dad5a7a2"
      },
      "outputs": [
        {
          "output_type": "execute_result",
          "data": {
            "text/plain": [
              "Index(['Age', 'Weight', 'Length', 'Sex', 'BMI', 'DM', 'HTN', 'Current Smoker',\n",
              "       'EX-Smoker', 'FH', 'Obesity', 'CRF', 'CVA', 'Airway disease',\n",
              "       'Thyroid Disease', 'CHF', 'DLP', 'BP', 'PR', 'Edema',\n",
              "       'Weak Peripheral Pulse', 'Lung rales', 'Systolic Murmur',\n",
              "       'Diastolic Murmur', 'Typical Chest Pain', 'Dyspnea', 'Function Class',\n",
              "       'Atypical', 'Nonanginal', 'Exertional CP', 'LowTH Ang', 'Q Wave',\n",
              "       'St Elevation', 'St Depression', 'Tinversion', 'LVH',\n",
              "       'Poor R Progression', 'BBB', 'FBS', 'CR', 'TG', 'LDL', 'HDL', 'BUN',\n",
              "       'ESR', 'HB', 'K', 'Na', 'WBC', 'Lymph', 'Neut', 'PLT', 'EF-TTE',\n",
              "       'Region RWMA', 'VHD', 'Cath'],\n",
              "      dtype='object')"
            ]
          },
          "metadata": {},
          "execution_count": 10
        }
      ],
      "source": [
        "df.columns"
      ]
    },
    {
      "cell_type": "code",
      "execution_count": null,
      "metadata": {
        "colab": {
          "base_uri": "https://localhost:8080/"
        },
        "id": "wi-_D074pMCK",
        "outputId": "7f32319d-1da0-4e4e-9edb-1d29eef666a6"
      },
      "outputs": [
        {
          "output_type": "execute_result",
          "data": {
            "text/plain": [
              "Age                      0\n",
              "Weight                   0\n",
              "Length                   0\n",
              "Sex                      0\n",
              "BMI                      0\n",
              "DM                       0\n",
              "HTN                      0\n",
              "Current Smoker           0\n",
              "EX-Smoker                0\n",
              "FH                       0\n",
              "Obesity                  0\n",
              "CRF                      0\n",
              "CVA                      0\n",
              "Airway disease           0\n",
              "Thyroid Disease          0\n",
              "CHF                      0\n",
              "DLP                      0\n",
              "BP                       0\n",
              "PR                       0\n",
              "Edema                    0\n",
              "Weak Peripheral Pulse    0\n",
              "Lung rales               0\n",
              "Systolic Murmur          0\n",
              "Diastolic Murmur         0\n",
              "Typical Chest Pain       0\n",
              "Dyspnea                  0\n",
              "Function Class           0\n",
              "Atypical                 0\n",
              "Nonanginal               0\n",
              "Exertional CP            0\n",
              "LowTH Ang                0\n",
              "Q Wave                   0\n",
              "St Elevation             0\n",
              "St Depression            0\n",
              "Tinversion               0\n",
              "LVH                      0\n",
              "Poor R Progression       0\n",
              "BBB                      0\n",
              "FBS                      0\n",
              "CR                       0\n",
              "TG                       0\n",
              "LDL                      0\n",
              "HDL                      0\n",
              "BUN                      0\n",
              "ESR                      0\n",
              "HB                       0\n",
              "K                        0\n",
              "Na                       0\n",
              "WBC                      0\n",
              "Lymph                    0\n",
              "Neut                     0\n",
              "PLT                      0\n",
              "EF-TTE                   0\n",
              "Region RWMA              0\n",
              "VHD                      0\n",
              "Cath                     0\n",
              "dtype: int64"
            ]
          },
          "metadata": {},
          "execution_count": 11
        }
      ],
      "source": [
        "df.isnull().sum()"
      ]
    },
    {
      "cell_type": "code",
      "execution_count": null,
      "metadata": {
        "colab": {
          "base_uri": "https://localhost:8080/"
        },
        "id": "3f81Xnad6dE7",
        "outputId": "d8260b82-94b6-4807-e9c8-48642e83f7fd"
      },
      "outputs": [
        {
          "output_type": "execute_result",
          "data": {
            "text/plain": [
              "Age                        int64\n",
              "Weight                     int64\n",
              "Length                     int64\n",
              "Sex                       object\n",
              "BMI                      float64\n",
              "DM                         int64\n",
              "HTN                        int64\n",
              "Current Smoker             int64\n",
              "EX-Smoker                  int64\n",
              "FH                         int64\n",
              "Obesity                   object\n",
              "CRF                       object\n",
              "CVA                       object\n",
              "Airway disease            object\n",
              "Thyroid Disease           object\n",
              "CHF                       object\n",
              "DLP                       object\n",
              "BP                         int64\n",
              "PR                         int64\n",
              "Edema                      int64\n",
              "Weak Peripheral Pulse     object\n",
              "Lung rales                object\n",
              "Systolic Murmur           object\n",
              "Diastolic Murmur          object\n",
              "Typical Chest Pain         int64\n",
              "Dyspnea                   object\n",
              "Function Class             int64\n",
              "Atypical                  object\n",
              "Nonanginal                object\n",
              "Exertional CP             object\n",
              "LowTH Ang                 object\n",
              "Q Wave                     int64\n",
              "St Elevation               int64\n",
              "St Depression              int64\n",
              "Tinversion                 int64\n",
              "LVH                       object\n",
              "Poor R Progression        object\n",
              "BBB                       object\n",
              "FBS                        int64\n",
              "CR                       float64\n",
              "TG                         int64\n",
              "LDL                        int64\n",
              "HDL                      float64\n",
              "BUN                        int64\n",
              "ESR                        int64\n",
              "HB                       float64\n",
              "K                        float64\n",
              "Na                         int64\n",
              "WBC                        int64\n",
              "Lymph                      int64\n",
              "Neut                       int64\n",
              "PLT                        int64\n",
              "EF-TTE                     int64\n",
              "Region RWMA                int64\n",
              "VHD                       object\n",
              "Cath                      object\n",
              "dtype: object"
            ]
          },
          "metadata": {},
          "execution_count": 12
        }
      ],
      "source": [
        "df.dtypes "
      ]
    },
    {
      "cell_type": "code",
      "execution_count": null,
      "metadata": {
        "colab": {
          "base_uri": "https://localhost:8080/"
        },
        "id": "p8iYkBSOlUlG",
        "outputId": "93fb2a3e-0a59-4e76-ebff-cbd54d4f74c0"
      },
      "outputs": [
        {
          "output_type": "execute_result",
          "data": {
            "text/plain": [
              "Male     176\n",
              "Fmale    127\n",
              "Name: Sex, dtype: int64"
            ]
          },
          "metadata": {},
          "execution_count": 13
        }
      ],
      "source": [
        "pd.value_counts(df['Sex'])"
      ]
    },
    {
      "cell_type": "code",
      "execution_count": null,
      "metadata": {
        "colab": {
          "base_uri": "https://localhost:8080/",
          "height": 466
        },
        "id": "NT7WQ3BPloyl",
        "outputId": "2d70cbb4-1f82-4404-dabb-b9e4e70e73f1"
      },
      "outputs": [
        {
          "output_type": "execute_result",
          "data": {
            "text/plain": [
              "<Axes: xlabel='Sex', ylabel='count'>"
            ]
          },
          "metadata": {},
          "execution_count": 14
        },
        {
          "output_type": "display_data",
          "data": {
            "text/plain": [
              "<Figure size 640x480 with 1 Axes>"
            ],
            "image/png": "[encoded data removed]"
          },
          "metadata": {}
        }
      ],
      "source": [
        "sns.countplot(x=df['Sex'])"
      ]
    },
    {
      "cell_type": "code",
      "execution_count": null,
      "metadata": {
        "colab": {
          "base_uri": "https://localhost:8080/"
        },
        "id": "K5YpN3j3mCOZ",
        "outputId": "3e73dd94-2a7c-4997-ec1a-4df98e677511"
      },
      "outputs": [
        {
          "output_type": "execute_result",
          "data": {
            "text/plain": [
              "Y    211\n",
              "N     92\n",
              "Name: Obesity, dtype: int64"
            ]
          },
          "metadata": {},
          "execution_count": 15
        }
      ],
      "source": [
        "pd.value_counts(df['Obesity'])"
      ]
    },
    {
      "cell_type": "code",
      "execution_count": null,
      "metadata": {
        "colab": {
          "base_uri": "https://localhost:8080/",
          "height": 466
        },
        "id": "IbjfsktomqoF",
        "outputId": "6b5b056e-6ca8-401e-b75e-117b6e52844c"
      },
      "outputs": [
        {
          "output_type": "execute_result",
          "data": {
            "text/plain": [
              "<Axes: xlabel='Obesity', ylabel='count'>"
            ]
          },
          "metadata": {},
          "execution_count": 16
        },
        {
          "output_type": "display_data",
          "data": {
            "text/plain": [
              "<Figure size 640x480 with 1 Axes>"
            ],
            "image/png": "[encoded data removed]"
          },
          "metadata": {}
        }
      ],
      "source": [
        "sns.countplot(x=df['Obesity'])"
      ]
    },
    {
      "cell_type": "code",
      "execution_count": null,
      "metadata": {
        "colab": {
          "base_uri": "https://localhost:8080/"
        },
        "id": "KWvOEECWpR2g",
        "outputId": "1d228d59-51de-428c-a6c3-fcfe68c53b8a"
      },
      "outputs": [
        {
          "output_type": "execute_result",
          "data": {
            "text/plain": [
              "N    297\n",
              "Y      6\n",
              "Name: CRF, dtype: int64"
            ]
          },
          "metadata": {},
          "execution_count": 17
        }
      ],
      "source": [
        "pd.value_counts(df['CRF'])"
      ]
    },
    {
      "cell_type": "code",
      "execution_count": null,
      "metadata": {
        "colab": {
          "base_uri": "https://localhost:8080/",
          "height": 466
        },
        "id": "FOOx1m-iqOhJ",
        "outputId": "edc5827d-b0f8-40ef-d039-07fcf596add4"
      },
      "outputs": [
        {
          "output_type": "execute_result",
          "data": {
            "text/plain": [
              "<Axes: xlabel='CRF', ylabel='count'>"
            ]
          },
          "metadata": {},
          "execution_count": 18
        },
        {
          "output_type": "display_data",
          "data": {
            "text/plain": [
              "<Figure size 640x480 with 1 Axes>"
            ],
            "image/png": "[encoded data removed]"
          },
          "metadata": {}
        }
      ],
      "source": [
        "sns.countplot(x=df['CRF'])"
      ]
    },
    {
      "cell_type": "code",
      "execution_count": null,
      "metadata": {
        "colab": {
          "base_uri": "https://localhost:8080/"
        },
        "id": "VNUB8JEFrAH2",
        "outputId": "ee1d2983-6aac-409e-f344-d137da7a75c5"
      },
      "outputs": [
        {
          "output_type": "execute_result",
          "data": {
            "text/plain": [
              "N    298\n",
              "Y      5\n",
              "Name: CVA, dtype: int64"
            ]
          },
          "metadata": {},
          "execution_count": 19
        }
      ],
      "source": [
        "pd.value_counts(df['CVA'])"
      ]
    },
    {
      "cell_type": "code",
      "execution_count": null,
      "metadata": {
        "colab": {
          "base_uri": "https://localhost:8080/",
          "height": 466
        },
        "id": "J1RD64uJrH5f",
        "outputId": "d2f0a0b4-3cd0-4b3c-c05a-e7747c917eed"
      },
      "outputs": [
        {
          "output_type": "execute_result",
          "data": {
            "text/plain": [
              "<Axes: xlabel='CVA', ylabel='count'>"
            ]
          },
          "metadata": {},
          "execution_count": 20
        },
        {
          "output_type": "display_data",
          "data": {
            "text/plain": [
              "<Figure size 640x480 with 1 Axes>"
            ],
            "image/png": "[encoded data removed]"
          },
          "metadata": {}
        }
      ],
      "source": [
        "sns.countplot(x=df['CVA'])"
      ]
    },
    {
      "cell_type": "code",
      "execution_count": null,
      "metadata": {
        "colab": {
          "base_uri": "https://localhost:8080/"
        },
        "id": "YPW__xGKrahN",
        "outputId": "75adc8e4-d0ab-4cc5-a2e6-d28a469ff2c8"
      },
      "outputs": [
        {
          "output_type": "execute_result",
          "data": {
            "text/plain": [
              "N    292\n",
              "Y     11\n",
              "Name: Airway disease, dtype: int64"
            ]
          },
          "metadata": {},
          "execution_count": 21
        }
      ],
      "source": [
        "pd.value_counts(df['Airway disease'])"
      ]
    },
    {
      "cell_type": "code",
      "execution_count": null,
      "metadata": {
        "colab": {
          "base_uri": "https://localhost:8080/",
          "height": 466
        },
        "id": "xPa9i0ojrpU2",
        "outputId": "12d0a494-18e0-4e79-a6c3-f4cb9b85496d"
      },
      "outputs": [
        {
          "output_type": "execute_result",
          "data": {
            "text/plain": [
              "<Axes: xlabel='Airway disease', ylabel='count'>"
            ]
          },
          "metadata": {},
          "execution_count": 22
        },
        {
          "output_type": "display_data",
          "data": {
            "text/plain": [
              "<Figure size 640x480 with 1 Axes>"
            ],
            "image/png": "[encoded data removed]"
          },
          "metadata": {}
        }
      ],
      "source": [
        "sns.countplot(x=df['Airway disease'])"
      ]
    },
    {
      "cell_type": "code",
      "execution_count": null,
      "metadata": {
        "colab": {
          "base_uri": "https://localhost:8080/"
        },
        "id": "AQgAyZIErp0r",
        "outputId": "f227270f-c89c-4c23-b2cd-9e6c5888d504"
      },
      "outputs": [
        {
          "output_type": "execute_result",
          "data": {
            "text/plain": [
              "N    296\n",
              "Y      7\n",
              "Name: Thyroid Disease, dtype: int64"
            ]
          },
          "metadata": {},
          "execution_count": 23
        }
      ],
      "source": [
        "pd.value_counts(df['Thyroid Disease'])"
      ]
    },
    {
      "cell_type": "code",
      "execution_count": null,
      "metadata": {
        "colab": {
          "base_uri": "https://localhost:8080/",
          "height": 466
        },
        "id": "EhWgKMNxsHoC",
        "outputId": "eae93c31-4650-4156-8a29-2911fb8edd0c"
      },
      "outputs": [
        {
          "output_type": "execute_result",
          "data": {
            "text/plain": [
              "<Axes: xlabel='Thyroid Disease', ylabel='count'>"
            ]
          },
          "metadata": {},
          "execution_count": 24
        },
        {
          "output_type": "display_data",
          "data": {
            "text/plain": [
              "<Figure size 640x480 with 1 Axes>"
            ],
            "image/png": "[encoded data removed]"
          },
          "metadata": {}
        }
      ],
      "source": [
        "sns.countplot(x=df['Thyroid Disease'])"
      ]
    },
    {
      "cell_type": "code",
      "execution_count": null,
      "metadata": {
        "colab": {
          "base_uri": "https://localhost:8080/"
        },
        "id": "j9xwYpwusJUP",
        "outputId": "dadfc0ee-d9d7-41b3-efe4-18b9f27c035f"
      },
      "outputs": [
        {
          "output_type": "execute_result",
          "data": {
            "text/plain": [
              "N    302\n",
              "Y      1\n",
              "Name: CHF, dtype: int64"
            ]
          },
          "metadata": {},
          "execution_count": 25
        }
      ],
      "source": [
        "pd.value_counts(df['CHF'])"
      ]
    },
    {
      "cell_type": "code",
      "execution_count": null,
      "metadata": {
        "colab": {
          "base_uri": "https://localhost:8080/",
          "height": 466
        },
        "id": "tPmHhN2rsQQ9",
        "outputId": "5a3f124d-b654-46c3-f78c-9e927d74f7d1"
      },
      "outputs": [
        {
          "output_type": "execute_result",
          "data": {
            "text/plain": [
              "<Axes: xlabel='CHF', ylabel='count'>"
            ]
          },
          "metadata": {},
          "execution_count": 26
        },
        {
          "output_type": "display_data",
          "data": {
            "text/plain": [
              "<Figure size 640x480 with 1 Axes>"
            ],
            "image/png": "[encoded data removed]"
          },
          "metadata": {}
        }
      ],
      "source": [
        "sns.countplot(x=df['CHF'])"
      ]
    },
    {
      "cell_type": "code",
      "execution_count": null,
      "metadata": {
        "colab": {
          "base_uri": "https://localhost:8080/"
        },
        "id": "ALsvjZ-TsQeq",
        "outputId": "73e790d3-6a6c-4171-aa64-56d971c878fe"
      },
      "outputs": [
        {
          "output_type": "execute_result",
          "data": {
            "text/plain": [
              "N    191\n",
              "Y    112\n",
              "Name: DLP, dtype: int64"
            ]
          },
          "metadata": {},
          "execution_count": 27
        }
      ],
      "source": [
        "pd.value_counts(df['DLP'])"
      ]
    },
    {
      "cell_type": "code",
      "execution_count": null,
      "metadata": {
        "colab": {
          "base_uri": "https://localhost:8080/",
          "height": 471
        },
        "id": "UD1Mj0ItsYSk",
        "outputId": "cd8ad551-96fd-44cf-e7b0-55eac8badf77"
      },
      "outputs": [
        {
          "output_type": "execute_result",
          "data": {
            "text/plain": [
              "<Axes: xlabel='DLP', ylabel='count'>"
            ]
          },
          "metadata": {},
          "execution_count": 28
        },
        {
          "output_type": "display_data",
          "data": {
            "text/plain": [
              "<Figure size 640x480 with 1 Axes>"
            ],
            "image/png": "[encoded data removed]"
          },
          "metadata": {}
        }
      ],
      "source": [
        "sns.countplot(x=df['DLP'])"
      ]
    },
    {
      "cell_type": "code",
      "execution_count": null,
      "metadata": {
        "colab": {
          "base_uri": "https://localhost:8080/"
        },
        "id": "PDDSsXuAsZAD",
        "outputId": "0fba6a5c-f691-4f6f-f832-60a9ee3b98a8"
      },
      "outputs": [
        {
          "output_type": "execute_result",
          "data": {
            "text/plain": [
              "N    298\n",
              "Y      5\n",
              "Name: Weak Peripheral Pulse, dtype: int64"
            ]
          },
          "metadata": {},
          "execution_count": 29
        }
      ],
      "source": [
        "pd.value_counts(df['Weak Peripheral Pulse'])"
      ]
    },
    {
      "cell_type": "code",
      "execution_count": null,
      "metadata": {
        "colab": {
          "base_uri": "https://localhost:8080/",
          "height": 466
        },
        "id": "qojkOi5QtiKt",
        "outputId": "ca6d17af-03c0-4023-d1e7-78a1406d7a9d"
      },
      "outputs": [
        {
          "output_type": "execute_result",
          "data": {
            "text/plain": [
              "<Axes: xlabel='Weak Peripheral Pulse', ylabel='count'>"
            ]
          },
          "metadata": {},
          "execution_count": 30
        },
        {
          "output_type": "display_data",
          "data": {
            "text/plain": [
              "<Figure size 640x480 with 1 Axes>"
            ],
            "image/png": "[encoded data removed]"
          },
          "metadata": {}
        }
      ],
      "source": [
        "sns.countplot(x=df['Weak Peripheral Pulse'])"
      ]
    },
    {
      "cell_type": "code",
      "execution_count": null,
      "metadata": {
        "colab": {
          "base_uri": "https://localhost:8080/"
        },
        "id": "-xFEfBgKtith",
        "outputId": "3b294faa-c216-4ab2-fbce-762ae49ae594"
      },
      "outputs": [
        {
          "output_type": "execute_result",
          "data": {
            "text/plain": [
              "N    262\n",
              "Y     41\n",
              "Name: Systolic Murmur, dtype: int64"
            ]
          },
          "metadata": {},
          "execution_count": 31
        }
      ],
      "source": [
        "pd.value_counts(df['Systolic Murmur'])"
      ]
    },
    {
      "cell_type": "code",
      "execution_count": null,
      "metadata": {
        "colab": {
          "base_uri": "https://localhost:8080/",
          "height": 466
        },
        "id": "tiWtux-VtqH6",
        "outputId": "4642d659-9814-4642-daf1-0ec64471ff75"
      },
      "outputs": [
        {
          "output_type": "execute_result",
          "data": {
            "text/plain": [
              "<Axes: xlabel='Systolic Murmur', ylabel='count'>"
            ]
          },
          "metadata": {},
          "execution_count": 32
        },
        {
          "output_type": "display_data",
          "data": {
            "text/plain": [
              "<Figure size 640x480 with 1 Axes>"
            ],
            "image/png": "[encoded data removed]"
          },
          "metadata": {}
        }
      ],
      "source": [
        "sns.countplot(x=df['Systolic Murmur'])"
      ]
    },
    {
      "cell_type": "code",
      "execution_count": null,
      "metadata": {
        "colab": {
          "base_uri": "https://localhost:8080/"
        },
        "id": "oqjODasZtqnk",
        "outputId": "8a557f92-59e2-48e3-b709-fa3871960991"
      },
      "outputs": [
        {
          "output_type": "execute_result",
          "data": {
            "text/plain": [
              "N    294\n",
              "Y      9\n",
              "Name: Diastolic Murmur, dtype: int64"
            ]
          },
          "metadata": {},
          "execution_count": 33
        }
      ],
      "source": [
        "pd.value_counts(df['Diastolic Murmur'])"
      ]
    },
    {
      "cell_type": "code",
      "execution_count": null,
      "metadata": {
        "colab": {
          "base_uri": "https://localhost:8080/",
          "height": 466
        },
        "id": "uRVsyspvuC4A",
        "outputId": "7ca91837-86b7-44b8-a3cd-c30760edaaa8"
      },
      "outputs": [
        {
          "output_type": "execute_result",
          "data": {
            "text/plain": [
              "<Axes: xlabel='Diastolic Murmur', ylabel='count'>"
            ]
          },
          "metadata": {},
          "execution_count": 34
        },
        {
          "output_type": "display_data",
          "data": {
            "text/plain": [
              "<Figure size 640x480 with 1 Axes>"
            ],
            "image/png": "[encoded data removed]"
          },
          "metadata": {}
        }
      ],
      "source": [
        "sns.countplot(x=df['Diastolic Murmur'])"
      ]
    },
    {
      "cell_type": "code",
      "execution_count": null,
      "metadata": {
        "colab": {
          "base_uri": "https://localhost:8080/"
        },
        "id": "lHQG4bgwuDT2",
        "outputId": "02d27fbf-9bac-4d1d-a5ce-d20b54ccb0e8"
      },
      "outputs": [
        {
          "output_type": "execute_result",
          "data": {
            "text/plain": [
              "N    169\n",
              "Y    134\n",
              "Name: Dyspnea, dtype: int64"
            ]
          },
          "metadata": {},
          "execution_count": 35
        }
      ],
      "source": [
        "pd.value_counts(df['Dyspnea'])"
      ]
    },
    {
      "cell_type": "code",
      "execution_count": null,
      "metadata": {
        "colab": {
          "base_uri": "https://localhost:8080/",
          "height": 466
        },
        "id": "6gWwMLCAuQar",
        "outputId": "5e43fb0d-c5fc-4f49-a2c4-fd41fc7fb0c9"
      },
      "outputs": [
        {
          "output_type": "execute_result",
          "data": {
            "text/plain": [
              "<Axes: xlabel='Dyspnea', ylabel='count'>"
            ]
          },
          "metadata": {},
          "execution_count": 36
        },
        {
          "output_type": "display_data",
          "data": {
            "text/plain": [
              "<Figure size 640x480 with 1 Axes>"
            ],
            "image/png": "[encoded data removed]"
          },
          "metadata": {}
        }
      ],
      "source": [
        "sns.countplot(x=df['Dyspnea'])"
      ]
    },
    {
      "cell_type": "code",
      "execution_count": null,
      "metadata": {
        "colab": {
          "base_uri": "https://localhost:8080/"
        },
        "id": "tPgi2xzruRKW",
        "outputId": "c582a1d1-ff1c-4848-9aa2-1abc7a95019b"
      },
      "outputs": [
        {
          "output_type": "execute_result",
          "data": {
            "text/plain": [
              "N    210\n",
              "Y     93\n",
              "Name: Atypical, dtype: int64"
            ]
          },
          "metadata": {},
          "execution_count": 37
        }
      ],
      "source": [
        "pd.value_counts(df['Atypical'])"
      ]
    },
    {
      "cell_type": "code",
      "execution_count": null,
      "metadata": {
        "colab": {
          "base_uri": "https://localhost:8080/",
          "height": 466
        },
        "id": "1ldvCD_NuWT6",
        "outputId": "2b072365-b18f-4a3e-b466-f0936688e446"
      },
      "outputs": [
        {
          "output_type": "execute_result",
          "data": {
            "text/plain": [
              "<Axes: xlabel='Atypical', ylabel='count'>"
            ]
          },
          "metadata": {},
          "execution_count": 38
        },
        {
          "output_type": "display_data",
          "data": {
            "text/plain": [
              "<Figure size 640x480 with 1 Axes>"
            ],
            "image/png": "[encoded data removed]"
          },
          "metadata": {}
        }
      ],
      "source": [
        "sns.countplot(x=df['Atypical'])"
      ]
    },
    {
      "cell_type": "code",
      "execution_count": null,
      "metadata": {
        "colab": {
          "base_uri": "https://localhost:8080/"
        },
        "id": "_1v251OYuoSG",
        "outputId": "465727dc-f405-446a-ff26-7df1fae05621"
      },
      "outputs": [
        {
          "output_type": "execute_result",
          "data": {
            "text/plain": [
              "N    287\n",
              "Y     16\n",
              "Name: Nonanginal, dtype: int64"
            ]
          },
          "metadata": {},
          "execution_count": 39
        }
      ],
      "source": [
        "pd.value_counts(df['Nonanginal'])"
      ]
    },
    {
      "cell_type": "code",
      "execution_count": null,
      "metadata": {
        "colab": {
          "base_uri": "https://localhost:8080/",
          "height": 470
        },
        "id": "bF85Ak8zuwtu",
        "outputId": "af0956d4-c5ed-494a-b145-57fc800cd5ef"
      },
      "outputs": [
        {
          "output_type": "execute_result",
          "data": {
            "text/plain": [
              "<Axes: xlabel='Nonanginal', ylabel='count'>"
            ]
          },
          "metadata": {},
          "execution_count": 40
        },
        {
          "output_type": "display_data",
          "data": {
            "text/plain": [
              "<Figure size 640x480 with 1 Axes>"
            ],
            "image/png": "[encoded data removed]"
          },
          "metadata": {}
        }
      ],
      "source": [
        "sns.countplot(x=df['Nonanginal'])"
      ]
    },
    {
      "cell_type": "code",
      "execution_count": null,
      "metadata": {
        "colab": {
          "base_uri": "https://localhost:8080/"
        },
        "id": "ScWto0Wvuw2j",
        "outputId": "45e88935-b944-434f-edf2-f3c3f861ebe8"
      },
      "outputs": [
        {
          "output_type": "execute_result",
          "data": {
            "text/plain": [
              "N    303\n",
              "Name: Exertional CP, dtype: int64"
            ]
          },
          "metadata": {},
          "execution_count": 41
        }
      ],
      "source": [
        "pd.value_counts(df['Exertional CP'])"
      ]
    },
    {
      "cell_type": "code",
      "execution_count": null,
      "metadata": {
        "colab": {
          "base_uri": "https://localhost:8080/",
          "height": 466
        },
        "id": "OUSPUZVHu5cq",
        "outputId": "f357574f-17db-4967-9880-f1a7a4168a5b"
      },
      "outputs": [
        {
          "output_type": "execute_result",
          "data": {
            "text/plain": [
              "<Axes: xlabel='Exertional CP', ylabel='count'>"
            ]
          },
          "metadata": {},
          "execution_count": 42
        },
        {
          "output_type": "display_data",
          "data": {
            "text/plain": [
              "<Figure size 640x480 with 1 Axes>"
            ],
            "image/png": "[encoded data removed]"
          },
          "metadata": {}
        }
      ],
      "source": [
        "sns.countplot(x=df['Exertional CP'])"
      ]
    },
    {
      "cell_type": "code",
      "execution_count": null,
      "metadata": {
        "colab": {
          "base_uri": "https://localhost:8080/"
        },
        "id": "320Ws6_5u52k",
        "outputId": "c6594c0d-c439-4754-9b5e-8f93da19bd78"
      },
      "outputs": [
        {
          "output_type": "execute_result",
          "data": {
            "text/plain": [
              "N    301\n",
              "Y      2\n",
              "Name: LowTH Ang, dtype: int64"
            ]
          },
          "metadata": {},
          "execution_count": 43
        }
      ],
      "source": [
        "pd.value_counts(df['LowTH Ang'])"
      ]
    },
    {
      "cell_type": "code",
      "execution_count": null,
      "metadata": {
        "colab": {
          "base_uri": "https://localhost:8080/",
          "height": 466
        },
        "id": "IcsZvGgYvBOt",
        "outputId": "a8a19163-12f6-4943-eced-8b8541b95616"
      },
      "outputs": [
        {
          "output_type": "execute_result",
          "data": {
            "text/plain": [
              "<Axes: xlabel='LowTH Ang', ylabel='count'>"
            ]
          },
          "metadata": {},
          "execution_count": 44
        },
        {
          "output_type": "display_data",
          "data": {
            "text/plain": [
              "<Figure size 640x480 with 1 Axes>"
            ],
            "image/png": "[encoded data removed]"
          },
          "metadata": {}
        }
      ],
      "source": [
        "sns.countplot(x=df['LowTH Ang'])"
      ]
    },
    {
      "cell_type": "code",
      "execution_count": null,
      "metadata": {
        "colab": {
          "base_uri": "https://localhost:8080/"
        },
        "id": "K1k6vLUAvFw1",
        "outputId": "122df952-76f5-48a1-fdf3-da93cfec787d"
      },
      "outputs": [
        {
          "output_type": "execute_result",
          "data": {
            "text/plain": [
              "N    283\n",
              "Y     20\n",
              "Name: LVH, dtype: int64"
            ]
          },
          "metadata": {},
          "execution_count": 45
        }
      ],
      "source": [
        "pd.value_counts(df['LVH'])"
      ]
    },
    {
      "cell_type": "code",
      "execution_count": null,
      "metadata": {
        "colab": {
          "base_uri": "https://localhost:8080/",
          "height": 466
        },
        "id": "LcCdvvMDvhBn",
        "outputId": "da05339b-d21e-4f93-de3e-8aaa911673c1"
      },
      "outputs": [
        {
          "output_type": "execute_result",
          "data": {
            "text/plain": [
              "<Axes: xlabel='LVH', ylabel='count'>"
            ]
          },
          "metadata": {},
          "execution_count": 46
        },
        {
          "output_type": "display_data",
          "data": {
            "text/plain": [
              "<Figure size 640x480 with 1 Axes>"
            ],
            "image/png": "[encoded data removed]"
          },
          "metadata": {}
        }
      ],
      "source": [
        "sns.countplot(x=df['LVH'])"
      ]
    },
    {
      "cell_type": "code",
      "execution_count": null,
      "metadata": {
        "colab": {
          "base_uri": "https://localhost:8080/"
        },
        "id": "aN9Kec4Hvh9m",
        "outputId": "cdc3f036-ee23-4374-ef6e-808c3c6336c6"
      },
      "outputs": [
        {
          "output_type": "execute_result",
          "data": {
            "text/plain": [
              "N       282\n",
              "LBBB     13\n",
              "RBBB      8\n",
              "Name: BBB, dtype: int64"
            ]
          },
          "metadata": {},
          "execution_count": 47
        }
      ],
      "source": [
        "pd.value_counts(df['BBB'])"
      ]
    },
    {
      "cell_type": "code",
      "execution_count": null,
      "metadata": {
        "colab": {
          "base_uri": "https://localhost:8080/",
          "height": 466
        },
        "id": "8yYCminNvsfZ",
        "outputId": "80cd3aab-57dd-4145-8f9c-7d886c674c6e"
      },
      "outputs": [
        {
          "output_type": "execute_result",
          "data": {
            "text/plain": [
              "<Axes: xlabel='BBB', ylabel='count'>"
            ]
          },
          "metadata": {},
          "execution_count": 48
        },
        {
          "output_type": "display_data",
          "data": {
            "text/plain": [
              "<Figure size 640x480 with 1 Axes>"
            ],
            "image/png": "[encoded data removed]"
          },
          "metadata": {}
        }
      ],
      "source": [
        "sns.countplot(x=df['BBB'])"
      ]
    },
    {
      "cell_type": "code",
      "execution_count": null,
      "metadata": {
        "colab": {
          "base_uri": "https://localhost:8080/"
        },
        "id": "bDL7ou8Qvs2-",
        "outputId": "14eaa123-7604-48da-b692-d6d50f9feb1a"
      },
      "outputs": [
        {
          "output_type": "execute_result",
          "data": {
            "text/plain": [
              "mild        149\n",
              "N           116\n",
              "Moderate     27\n",
              "Severe       11\n",
              "Name: VHD, dtype: int64"
            ]
          },
          "metadata": {},
          "execution_count": 49
        }
      ],
      "source": [
        "pd.value_counts(df['VHD'])"
      ]
    },
    {
      "cell_type": "code",
      "execution_count": null,
      "metadata": {
        "colab": {
          "base_uri": "https://localhost:8080/",
          "height": 466
        },
        "id": "RLFrnSZ-xHjq",
        "outputId": "e58b6d1e-d23a-44c5-c961-186cc3cb0f45"
      },
      "outputs": [
        {
          "output_type": "execute_result",
          "data": {
            "text/plain": [
              "<Axes: xlabel='VHD', ylabel='count'>"
            ]
          },
          "metadata": {},
          "execution_count": 50
        },
        {
          "output_type": "display_data",
          "data": {
            "text/plain": [
              "<Figure size 640x480 with 1 Axes>"
            ],
            "image/png": "[encoded data removed]"
          },
          "metadata": {}
        }
      ],
      "source": [
        "sns.countplot(x=df['VHD'])"
      ]
    },
    {
      "cell_type": "code",
      "execution_count": null,
      "metadata": {
        "colab": {
          "base_uri": "https://localhost:8080/",
          "height": 424
        },
        "id": "Ncnx2ONlYTjI",
        "outputId": "65a31389-fcc5-4f43-e23b-1012633691eb"
      },
      "outputs": [
        {
          "output_type": "execute_result",
          "data": {
            "text/plain": [
              "     VHD_N  VHD_Severe  VHD_mild\n",
              "0        1           0         0\n",
              "1        1           0         0\n",
              "2        0           0         1\n",
              "3        0           1         0\n",
              "4        0           1         0\n",
              "..     ...         ...       ...\n",
              "298      1           0         0\n",
              "299      0           0         1\n",
              "300      1           0         0\n",
              "301      1           0         0\n",
              "302      1           0         0\n",
              "\n",
              "[303 rows x 3 columns]"
            ],
            "text/html": [
              "\n",
              "  <div id=\"df-c39b9630-fd3c-4890-87b5-4143938b6041\">\n",
              "    <div class=\"colab-df-container\">\n",
              "      <div>\n",
              "<style scoped>\n",
              "    .dataframe tbody tr th:only-of-type {\n",
              "        vertical-align: middle;\n",
              "    }\n",
              "\n",
              "    .dataframe tbody tr th {\n",
              "        vertical-align: top;\n",
              "    }\n",
              "\n",
              "    .dataframe thead th {\n",
              "        text-align: right;\n",
              "    }\n",
              "</style>\n",
              "<table border=\"1\" class=\"dataframe\">\n",
              "  <thead>\n",
              "    <tr style=\"text-align: right;\">\n",
              "      <th></th>\n",
              "      <th>VHD_N</th>\n",
              "      <th>VHD_Severe</th>\n",
              "      <th>VHD_mild</th>\n",
              "    </tr>\n",
              "  </thead>\n",
              "  <tbody>\n",
              "    <tr>\n",
              "      <th>0</th>\n",
              "      <td>1</td>\n",
              "      <td>0</td>\n",
              "      <td>0</td>\n",
              "    </tr>\n",
              "    <tr>\n",
              "      <th>1</th>\n",
              "      <td>1</td>\n",
              "      <td>0</td>\n",
              "      <td>0</td>\n",
              "    </tr>\n",
              "    <tr>\n",
              "      <th>2</th>\n",
              "      <td>0</td>\n",
              "      <td>0</td>\n",
              "      <td>1</td>\n",
              "    </tr>\n",
              "    <tr>\n",
              "      <th>3</th>\n",
              "      <td>0</td>\n",
              "      <td>1</td>\n",
              "      <td>0</td>\n",
              "    </tr>\n",
              "    <tr>\n",
              "      <th>4</th>\n",
              "      <td>0</td>\n",
              "      <td>1</td>\n",
              "      <td>0</td>\n",
              "    </tr>\n",
              "    <tr>\n",
              "      <th>...</th>\n",
              "      <td>...</td>\n",
              "      <td>...</td>\n",
              "      <td>...</td>\n",
              "    </tr>\n",
              "    <tr>\n",
              "      <th>298</th>\n",
              "      <td>1</td>\n",
              "      <td>0</td>\n",
              "      <td>0</td>\n",
              "    </tr>\n",
              "    <tr>\n",
              "      <th>299</th>\n",
              "      <td>0</td>\n",
              "      <td>0</td>\n",
              "      <td>1</td>\n",
              "    </tr>\n",
              "    <tr>\n",
              "      <th>300</th>\n",
              "      <td>1</td>\n",
              "      <td>0</td>\n",
              "      <td>0</td>\n",
              "    </tr>\n",
              "    <tr>\n",
              "      <th>301</th>\n",
              "      <td>1</td>\n",
              "      <td>0</td>\n",
              "      <td>0</td>\n",
              "    </tr>\n",
              "    <tr>\n",
              "      <th>302</th>\n",
              "      <td>1</td>\n",
              "      <td>0</td>\n",
              "      <td>0</td>\n",
              "    </tr>\n",
              "  </tbody>\n",
              "</table>\n",
              "<p>303 rows × 3 columns</p>\n",
              "</div>\n",
              "      <button class=\"colab-df-convert\" onclick=\"convertToInteractive('df-c39b9630-fd3c-4890-87b5-4143938b6041')\"\n",
              "              title=\"Convert this dataframe to an interactive table.\"\n",
              "              style=\"display:none;\">\n",
              "        \n",
              "  <svg xmlns=\"http://www.w3.org/2000/svg\" height=\"24px\"viewBox=\"0 0 24 24\"\n",
              "       width=\"24px\">\n",
              "    <path d=\"M0 0h24v24H0V0z\" fill=\"none\"/>\n",
              "    <path d=\"M18.56 5.44l.94 2.06.94-2.06 2.06-.94-2.06-.94-.94-2.06-.94 2.06-2.06.94zm-11 1L8.5 8.5l.94-2.06 2.06-.94-2.06-.94L8.5 2.5l-.94 2.06-2.06.94zm10 10l.94 2.06.94-2.06 2.06-.94-2.06-.94-.94-2.06-.94 2.06-2.06.94z\"/><path d=\"M17.41 7.96l-1.37-1.37c-.4-.4-.92-.59-1.43-.59-.52 0-1.04.2-1.43.59L10.3 9.45l-7.72 7.72c-.78.78-.78 2.05 0 2.83L4 21.41c.39.39.9.59 1.41.59.51 0 1.02-.2 1.41-.59l7.78-7.78 2.81-2.81c.8-.78.8-2.07 0-2.86zM5.41 20L4 18.59l7.72-7.72 1.47 1.35L5.41 20z\"/>\n",
              "  </svg>\n",
              "      </button>\n",
              "      \n",
              "  <style>\n",
              "    .colab-df-container {\n",
              "      display:flex;\n",
              "      flex-wrap:wrap;\n",
              "      gap: 12px;\n",
              "    }\n",
              "\n",
              "    .colab-df-convert {\n",
              "      background-color: #E8F0FE;\n",
              "      border: none;\n",
              "      border-radius: 50%;\n",
              "      cursor: pointer;\n",
              "      display: none;\n",
              "      fill: #1967D2;\n",
              "      height: 32px;\n",
              "      padding: 0 0 0 0;\n",
              "      width: 32px;\n",
              "    }\n",
              "\n",
              "    .colab-df-convert:hover {\n",
              "      background-color: #E2EBFA;\n",
              "      box-shadow: 0px 1px 2px rgba(60, 64, 67, 0.3), 0px 1px 3px 1px rgba(60, 64, 67, 0.15);\n",
              "      fill: #174EA6;\n",
              "    }\n",
              "\n",
              "    [theme=dark] .colab-df-convert {\n",
              "      background-color: #3B4455;\n",
              "      fill: #D2E3FC;\n",
              "    }\n",
              "\n",
              "    [theme=dark] .colab-df-convert:hover {\n",
              "      background-color: #434B5C;\n",
              "      box-shadow: 0px 1px 3px 1px rgba(0, 0, 0, 0.15);\n",
              "      filter: drop-shadow(0px 1px 2px rgba(0, 0, 0, 0.3));\n",
              "      fill: #FFFFFF;\n",
              "    }\n",
              "  </style>\n",
              "\n",
              "      <script>\n",
              "        const buttonEl =\n",
              "          document.querySelector('#df-c39b9630-fd3c-4890-87b5-4143938b6041 button.colab-df-convert');\n",
              "        buttonEl.style.display =\n",
              "          google.colab.kernel.accessAllowed ? 'block' : 'none';\n",
              "\n",
              "        async function convertToInteractive(key) {\n",
              "          const element = document.querySelector('#df-c39b9630-fd3c-4890-87b5-4143938b6041');\n",
              "          const dataTable =\n",
              "            await google.colab.kernel.invokeFunction('convertToInteractive',\n",
              "                                                     [key], {});\n",
              "          if (!dataTable) return;\n",
              "\n",
              "          const docLinkHtml = 'Like what you see? Visit the ' +\n",
              "            '<a target=\"_blank\" href=https://colab.research.google.com/notebooks/data_table.ipynb>data table notebook</a>'\n",
              "            + ' to learn more about interactive tables.';\n",
              "          element.innerHTML = '';\n",
              "          dataTable['output_type'] = 'display_data';\n",
              "          await google.colab.output.renderOutput(dataTable, element);\n",
              "          const docLink = document.createElement('div');\n",
              "          docLink.innerHTML = docLinkHtml;\n",
              "          element.appendChild(docLink);\n",
              "        }\n",
              "      </script>\n",
              "    </div>\n",
              "  </div>\n",
              "  "
            ]
          },
          "metadata": {},
          "execution_count": 51
        }
      ],
      "source": [
        "df1=pd.get_dummies(df[['VHD']],drop_first=True)\n",
        "df1"
      ]
    },
    {
      "cell_type": "code",
      "execution_count": null,
      "metadata": {
        "colab": {
          "base_uri": "https://localhost:8080/",
          "height": 424
        },
        "id": "fE8isldU1vlv",
        "outputId": "c6148c7b-f0bc-4faa-c0f6-9087cfaadf9e"
      },
      "outputs": [
        {
          "output_type": "execute_result",
          "data": {
            "text/plain": [
              "     Age  Weight  Length  Sex        BMI  DM  HTN  Current Smoker  EX-Smoker  \\\n",
              "0     53      90     175    1  29.387755   0    1               1          0   \n",
              "1     67      70     157    0  28.398718   0    1               0          0   \n",
              "2     54      54     164    1  20.077335   0    0               1          0   \n",
              "3     66      67     158    0  26.838648   0    1               0          0   \n",
              "4     50      87     153    0  37.165193   0    1               0          0   \n",
              "..   ...     ...     ...  ...        ...  ..  ...             ...        ...   \n",
              "298   58      84     168    1  29.761905   0    0               0          0   \n",
              "299   55      64     152    0  27.700831   0    0               0          0   \n",
              "300   48      77     160    0  30.078125   0    1               0          0   \n",
              "301   57      90     159    0  35.599858   1    0               0          0   \n",
              "302   56      85     170    0  29.411765   0    1               1          0   \n",
              "\n",
              "     FH  ...    K   Na    WBC  Lymph  Neut  PLT  EF-TTE  Region RWMA     VHD  \\\n",
              "0     0  ...  4.7  141   5700     39    52  261      50            0       N   \n",
              "1     0  ...  4.7  156   7700     38    55  165      40            4       N   \n",
              "2     0  ...  4.7  139   7400     38    60  230      40            2    mild   \n",
              "3     0  ...  4.4  142  13000     18    72  742      55            0  Severe   \n",
              "4     0  ...  4.0  140   9200     55    39  274      50            0  Severe   \n",
              "..   ..  ...  ...  ...    ...    ...   ...  ...     ...          ...     ...   \n",
              "298   0  ...  4.8  146   8500     34    58  251      45            0       N   \n",
              "299   0  ...  4.0  139  11400     16    80  377      40            0    mild   \n",
              "300   1  ...  4.0  140   9000     35    55  279      55            0       N   \n",
              "301   0  ...  3.8  141   3800     48    40  208      55            0       N   \n",
              "302   0  ...  4.4  147   6000     32    55  302      55            0       N   \n",
              "\n",
              "       Cath  \n",
              "0       Cad  \n",
              "1       Cad  \n",
              "2       Cad  \n",
              "3    Normal  \n",
              "4    Normal  \n",
              "..      ...  \n",
              "298     Cad  \n",
              "299  Normal  \n",
              "300  Normal  \n",
              "301  Normal  \n",
              "302     Cad  \n",
              "\n",
              "[303 rows x 56 columns]"
            ],
            "text/html": [
              "\n",
              "  <div id=\"df-02e8f637-2db2-4d93-9f1f-ceba997dba88\">\n",
              "    <div class=\"colab-df-container\">\n",
              "      <div>\n",
              "<style scoped>\n",
              "    .dataframe tbody tr th:only-of-type {\n",
              "        vertical-align: middle;\n",
              "    }\n",
              "\n",
              "    .dataframe tbody tr th {\n",
              "        vertical-align: top;\n",
              "    }\n",
              "\n",
              "    .dataframe thead th {\n",
              "        text-align: right;\n",
              "    }\n",
              "</style>\n",
              "<table border=\"1\" class=\"dataframe\">\n",
              "  <thead>\n",
              "    <tr style=\"text-align: right;\">\n",
              "      <th></th>\n",
              "      <th>Age</th>\n",
              "      <th>Weight</th>\n",
              "      <th>Length</th>\n",
              "      <th>Sex</th>\n",
              "      <th>BMI</th>\n",
              "      <th>DM</th>\n",
              "      <th>HTN</th>\n",
              "      <th>Current Smoker</th>\n",
              "      <th>EX-Smoker</th>\n",
              "      <th>FH</th>\n",
              "      <th>...</th>\n",
              "      <th>K</th>\n",
              "      <th>Na</th>\n",
              "      <th>WBC</th>\n",
              "      <th>Lymph</th>\n",
              "      <th>Neut</th>\n",
              "      <th>PLT</th>\n",
              "      <th>EF-TTE</th>\n",
              "      <th>Region RWMA</th>\n",
              "      <th>VHD</th>\n",
              "      <th>Cath</th>\n",
              "    </tr>\n",
              "  </thead>\n",
              "  <tbody>\n",
              "    <tr>\n",
              "      <th>0</th>\n",
              "      <td>53</td>\n",
              "      <td>90</td>\n",
              "      <td>175</td>\n",
              "      <td>1</td>\n",
              "      <td>29.387755</td>\n",
              "      <td>0</td>\n",
              "      <td>1</td>\n",
              "      <td>1</td>\n",
              "      <td>0</td>\n",
              "      <td>0</td>\n",
              "      <td>...</td>\n",
              "      <td>4.7</td>\n",
              "      <td>141</td>\n",
              "      <td>5700</td>\n",
              "      <td>39</td>\n",
              "      <td>52</td>\n",
              "      <td>261</td>\n",
              "      <td>50</td>\n",
              "      <td>0</td>\n",
              "      <td>N</td>\n",
              "      <td>Cad</td>\n",
              "    </tr>\n",
              "    <tr>\n",
              "      <th>1</th>\n",
              "      <td>67</td>\n",
              "      <td>70</td>\n",
              "      <td>157</td>\n",
              "      <td>0</td>\n",
              "      <td>28.398718</td>\n",
              "      <td>0</td>\n",
              "      <td>1</td>\n",
              "      <td>0</td>\n",
              "      <td>0</td>\n",
              "      <td>0</td>\n",
              "      <td>...</td>\n",
              "      <td>4.7</td>\n",
              "      <td>156</td>\n",
              "      <td>7700</td>\n",
              "      <td>38</td>\n",
              "      <td>55</td>\n",
              "      <td>165</td>\n",
              "      <td>40</td>\n",
              "      <td>4</td>\n",
              "      <td>N</td>\n",
              "      <td>Cad</td>\n",
              "    </tr>\n",
              "    <tr>\n",
              "      <th>2</th>\n",
              "      <td>54</td>\n",
              "      <td>54</td>\n",
              "      <td>164</td>\n",
              "      <td>1</td>\n",
              "      <td>20.077335</td>\n",
              "      <td>0</td>\n",
              "      <td>0</td>\n",
              "      <td>1</td>\n",
              "      <td>0</td>\n",
              "      <td>0</td>\n",
              "      <td>...</td>\n",
              "      <td>4.7</td>\n",
              "      <td>139</td>\n",
              "      <td>7400</td>\n",
              "      <td>38</td>\n",
              "      <td>60</td>\n",
              "      <td>230</td>\n",
              "      <td>40</td>\n",
              "      <td>2</td>\n",
              "      <td>mild</td>\n",
              "      <td>Cad</td>\n",
              "    </tr>\n",
              "    <tr>\n",
              "      <th>3</th>\n",
              "      <td>66</td>\n",
              "      <td>67</td>\n",
              "      <td>158</td>\n",
              "      <td>0</td>\n",
              "      <td>26.838648</td>\n",
              "      <td>0</td>\n",
              "      <td>1</td>\n",
              "      <td>0</td>\n",
              "      <td>0</td>\n",
              "      <td>0</td>\n",
              "      <td>...</td>\n",
              "      <td>4.4</td>\n",
              "      <td>142</td>\n",
              "      <td>13000</td>\n",
              "      <td>18</td>\n",
              "      <td>72</td>\n",
              "      <td>742</td>\n",
              "      <td>55</td>\n",
              "      <td>0</td>\n",
              "      <td>Severe</td>\n",
              "      <td>Normal</td>\n",
              "    </tr>\n",
              "    <tr>\n",
              "      <th>4</th>\n",
              "      <td>50</td>\n",
              "      <td>87</td>\n",
              "      <td>153</td>\n",
              "      <td>0</td>\n",
              "      <td>37.165193</td>\n",
              "      <td>0</td>\n",
              "      <td>1</td>\n",
              "      <td>0</td>\n",
              "      <td>0</td>\n",
              "      <td>0</td>\n",
              "      <td>...</td>\n",
              "      <td>4.0</td>\n",
              "      <td>140</td>\n",
              "      <td>9200</td>\n",
              "      <td>55</td>\n",
              "      <td>39</td>\n",
              "      <td>274</td>\n",
              "      <td>50</td>\n",
              "      <td>0</td>\n",
              "      <td>Severe</td>\n",
              "      <td>Normal</td>\n",
              "    </tr>\n",
              "    <tr>\n",
              "      <th>...</th>\n",
              "      <td>...</td>\n",
              "      <td>...</td>\n",
              "      <td>...</td>\n",
              "      <td>...</td>\n",
              "      <td>...</td>\n",
              "      <td>...</td>\n",
              "      <td>...</td>\n",
              "      <td>...</td>\n",
              "      <td>...</td>\n",
              "      <td>...</td>\n",
              "      <td>...</td>\n",
              "      <td>...</td>\n",
              "      <td>...</td>\n",
              "      <td>...</td>\n",
              "      <td>...</td>\n",
              "      <td>...</td>\n",
              "      <td>...</td>\n",
              "      <td>...</td>\n",
              "      <td>...</td>\n",
              "      <td>...</td>\n",
              "      <td>...</td>\n",
              "    </tr>\n",
              "    <tr>\n",
              "      <th>298</th>\n",
              "      <td>58</td>\n",
              "      <td>84</td>\n",
              "      <td>168</td>\n",
              "      <td>1</td>\n",
              "      <td>29.761905</td>\n",
              "      <td>0</td>\n",
              "      <td>0</td>\n",
              "      <td>0</td>\n",
              "      <td>0</td>\n",
              "      <td>0</td>\n",
              "      <td>...</td>\n",
              "      <td>4.8</td>\n",
              "      <td>146</td>\n",
              "      <td>8500</td>\n",
              "      <td>34</td>\n",
              "      <td>58</td>\n",
              "      <td>251</td>\n",
              "      <td>45</td>\n",
              "      <td>0</td>\n",
              "      <td>N</td>\n",
              "      <td>Cad</td>\n",
              "    </tr>\n",
              "    <tr>\n",
              "      <th>299</th>\n",
              "      <td>55</td>\n",
              "      <td>64</td>\n",
              "      <td>152</td>\n",
              "      <td>0</td>\n",
              "      <td>27.700831</td>\n",
              "      <td>0</td>\n",
              "      <td>0</td>\n",
              "      <td>0</td>\n",
              "      <td>0</td>\n",
              "      <td>0</td>\n",
              "      <td>...</td>\n",
              "      <td>4.0</td>\n",
              "      <td>139</td>\n",
              "      <td>11400</td>\n",
              "      <td>16</td>\n",
              "      <td>80</td>\n",
              "      <td>377</td>\n",
              "      <td>40</td>\n",
              "      <td>0</td>\n",
              "      <td>mild</td>\n",
              "      <td>Normal</td>\n",
              "    </tr>\n",
              "    <tr>\n",
              "      <th>300</th>\n",
              "      <td>48</td>\n",
              "      <td>77</td>\n",
              "      <td>160</td>\n",
              "      <td>0</td>\n",
              "      <td>30.078125</td>\n",
              "      <td>0</td>\n",
              "      <td>1</td>\n",
              "      <td>0</td>\n",
              "      <td>0</td>\n",
              "      <td>1</td>\n",
              "      <td>...</td>\n",
              "      <td>4.0</td>\n",
              "      <td>140</td>\n",
              "      <td>9000</td>\n",
              "      <td>35</td>\n",
              "      <td>55</td>\n",
              "      <td>279</td>\n",
              "      <td>55</td>\n",
              "      <td>0</td>\n",
              "      <td>N</td>\n",
              "      <td>Normal</td>\n",
              "    </tr>\n",
              "    <tr>\n",
              "      <th>301</th>\n",
              "      <td>57</td>\n",
              "      <td>90</td>\n",
              "      <td>159</td>\n",
              "      <td>0</td>\n",
              "      <td>35.599858</td>\n",
              "      <td>1</td>\n",
              "      <td>0</td>\n",
              "      <td>0</td>\n",
              "      <td>0</td>\n",
              "      <td>0</td>\n",
              "      <td>...</td>\n",
              "      <td>3.8</td>\n",
              "      <td>141</td>\n",
              "      <td>3800</td>\n",
              "      <td>48</td>\n",
              "      <td>40</td>\n",
              "      <td>208</td>\n",
              "      <td>55</td>\n",
              "      <td>0</td>\n",
              "      <td>N</td>\n",
              "      <td>Normal</td>\n",
              "    </tr>\n",
              "    <tr>\n",
              "      <th>302</th>\n",
              "      <td>56</td>\n",
              "      <td>85</td>\n",
              "      <td>170</td>\n",
              "      <td>0</td>\n",
              "      <td>29.411765</td>\n",
              "      <td>0</td>\n",
              "      <td>1</td>\n",
              "      <td>1</td>\n",
              "      <td>0</td>\n",
              "      <td>0</td>\n",
              "      <td>...</td>\n",
              "      <td>4.4</td>\n",
              "      <td>147</td>\n",
              "      <td>6000</td>\n",
              "      <td>32</td>\n",
              "      <td>55</td>\n",
              "      <td>302</td>\n",
              "      <td>55</td>\n",
              "      <td>0</td>\n",
              "      <td>N</td>\n",
              "      <td>Cad</td>\n",
              "    </tr>\n",
              "  </tbody>\n",
              "</table>\n",
              "<p>303 rows × 56 columns</p>\n",
              "</div>\n",
              "      <button class=\"colab-df-convert\" onclick=\"convertToInteractive('df-02e8f637-2db2-4d93-9f1f-ceba997dba88')\"\n",
              "              title=\"Convert this dataframe to an interactive table.\"\n",
              "              style=\"display:none;\">\n",
              "        \n",
              "  <svg xmlns=\"http://www.w3.org/2000/svg\" height=\"24px\"viewBox=\"0 0 24 24\"\n",
              "       width=\"24px\">\n",
              "    <path d=\"M0 0h24v24H0V0z\" fill=\"none\"/>\n",
              "    <path d=\"M18.56 5.44l.94 2.06.94-2.06 2.06-.94-2.06-.94-.94-2.06-.94 2.06-2.06.94zm-11 1L8.5 8.5l.94-2.06 2.06-.94-2.06-.94L8.5 2.5l-.94 2.06-2.06.94zm10 10l.94 2.06.94-2.06 2.06-.94-2.06-.94-.94-2.06-.94 2.06-2.06.94z\"/><path d=\"M17.41 7.96l-1.37-1.37c-.4-.4-.92-.59-1.43-.59-.52 0-1.04.2-1.43.59L10.3 9.45l-7.72 7.72c-.78.78-.78 2.05 0 2.83L4 21.41c.39.39.9.59 1.41.59.51 0 1.02-.2 1.41-.59l7.78-7.78 2.81-2.81c.8-.78.8-2.07 0-2.86zM5.41 20L4 18.59l7.72-7.72 1.47 1.35L5.41 20z\"/>\n",
              "  </svg>\n",
              "      </button>\n",
              "      \n",
              "  <style>\n",
              "    .colab-df-container {\n",
              "      display:flex;\n",
              "      flex-wrap:wrap;\n",
              "      gap: 12px;\n",
              "    }\n",
              "\n",
              "    .colab-df-convert {\n",
              "      background-color: #E8F0FE;\n",
              "      border: none;\n",
              "      border-radius: 50%;\n",
              "      cursor: pointer;\n",
              "      display: none;\n",
              "      fill: #1967D2;\n",
              "      height: 32px;\n",
              "      padding: 0 0 0 0;\n",
              "      width: 32px;\n",
              "    }\n",
              "\n",
              "    .colab-df-convert:hover {\n",
              "      background-color: #E2EBFA;\n",
              "      box-shadow: 0px 1px 2px rgba(60, 64, 67, 0.3), 0px 1px 3px 1px rgba(60, 64, 67, 0.15);\n",
              "      fill: #174EA6;\n",
              "    }\n",
              "\n",
              "    [theme=dark] .colab-df-convert {\n",
              "      background-color: #3B4455;\n",
              "      fill: #D2E3FC;\n",
              "    }\n",
              "\n",
              "    [theme=dark] .colab-df-convert:hover {\n",
              "      background-color: #434B5C;\n",
              "      box-shadow: 0px 1px 3px 1px rgba(0, 0, 0, 0.15);\n",
              "      filter: drop-shadow(0px 1px 2px rgba(0, 0, 0, 0.3));\n",
              "      fill: #FFFFFF;\n",
              "    }\n",
              "  </style>\n",
              "\n",
              "      <script>\n",
              "        const buttonEl =\n",
              "          document.querySelector('#df-02e8f637-2db2-4d93-9f1f-ceba997dba88 button.colab-df-convert');\n",
              "        buttonEl.style.display =\n",
              "          google.colab.kernel.accessAllowed ? 'block' : 'none';\n",
              "\n",
              "        async function convertToInteractive(key) {\n",
              "          const element = document.querySelector('#df-02e8f637-2db2-4d93-9f1f-ceba997dba88');\n",
              "          const dataTable =\n",
              "            await google.colab.kernel.invokeFunction('convertToInteractive',\n",
              "                                                     [key], {});\n",
              "          if (!dataTable) return;\n",
              "\n",
              "          const docLinkHtml = 'Like what you see? Visit the ' +\n",
              "            '<a target=\"_blank\" href=https://colab.research.google.com/notebooks/data_table.ipynb>data table notebook</a>'\n",
              "            + ' to learn more about interactive tables.';\n",
              "          element.innerHTML = '';\n",
              "          dataTable['output_type'] = 'display_data';\n",
              "          await google.colab.output.renderOutput(dataTable, element);\n",
              "          const docLink = document.createElement('div');\n",
              "          docLink.innerHTML = docLinkHtml;\n",
              "          element.appendChild(docLink);\n",
              "        }\n",
              "      </script>\n",
              "    </div>\n",
              "  </div>\n",
              "  "
            ]
          },
          "metadata": {},
          "execution_count": 52
        }
      ],
      "source": [
        "col=['Sex','Obesity','CRF','CVA','Airway disease','Thyroid Disease','CHF','DLP','Weak Peripheral Pulse','Lung rales','Systolic Murmur','Diastolic Murmur','Dyspnea','Atypical','Nonanginal','Exertional CP','LowTH Ang','LVH','Poor R Progression','BBB']\n",
        "from sklearn.preprocessing import LabelEncoder\n",
        "le=LabelEncoder()\n",
        "for i in col:\n",
        "  df[i]=le.fit_transform(df[i])\n",
        "df "
      ]
    },
    {
      "cell_type": "code",
      "execution_count": null,
      "metadata": {
        "colab": {
          "base_uri": "https://localhost:8080/",
          "height": 424
        },
        "id": "zG3xJ-0KZAF2",
        "outputId": "d691f5bf-a7b4-466a-f181-5e2a8466a1fd"
      },
      "outputs": [
        {
          "output_type": "execute_result",
          "data": {
            "text/plain": [
              "     VHD_N  VHD_Severe  VHD_mild  Age  Weight  Length  Sex        BMI  DM  \\\n",
              "0        1           0         0   53      90     175    1  29.387755   0   \n",
              "1        1           0         0   67      70     157    0  28.398718   0   \n",
              "2        0           0         1   54      54     164    1  20.077335   0   \n",
              "3        0           1         0   66      67     158    0  26.838648   0   \n",
              "4        0           1         0   50      87     153    0  37.165193   0   \n",
              "..     ...         ...       ...  ...     ...     ...  ...        ...  ..   \n",
              "298      1           0         0   58      84     168    1  29.761905   0   \n",
              "299      0           0         1   55      64     152    0  27.700831   0   \n",
              "300      1           0         0   48      77     160    0  30.078125   0   \n",
              "301      1           0         0   57      90     159    0  35.599858   1   \n",
              "302      1           0         0   56      85     170    0  29.411765   0   \n",
              "\n",
              "     HTN  ...    K   Na    WBC  Lymph  Neut  PLT  EF-TTE  Region RWMA     VHD  \\\n",
              "0      1  ...  4.7  141   5700     39    52  261      50            0       N   \n",
              "1      1  ...  4.7  156   7700     38    55  165      40            4       N   \n",
              "2      0  ...  4.7  139   7400     38    60  230      40            2    mild   \n",
              "3      1  ...  4.4  142  13000     18    72  742      55            0  Severe   \n",
              "4      1  ...  4.0  140   9200     55    39  274      50            0  Severe   \n",
              "..   ...  ...  ...  ...    ...    ...   ...  ...     ...          ...     ...   \n",
              "298    0  ...  4.8  146   8500     34    58  251      45            0       N   \n",
              "299    0  ...  4.0  139  11400     16    80  377      40            0    mild   \n",
              "300    1  ...  4.0  140   9000     35    55  279      55            0       N   \n",
              "301    0  ...  3.8  141   3800     48    40  208      55            0       N   \n",
              "302    1  ...  4.4  147   6000     32    55  302      55            0       N   \n",
              "\n",
              "       Cath  \n",
              "0       Cad  \n",
              "1       Cad  \n",
              "2       Cad  \n",
              "3    Normal  \n",
              "4    Normal  \n",
              "..      ...  \n",
              "298     Cad  \n",
              "299  Normal  \n",
              "300  Normal  \n",
              "301  Normal  \n",
              "302     Cad  \n",
              "\n",
              "[303 rows x 59 columns]"
            ],
            "text/html": [
              "\n",
              "  <div id=\"df-c7db80d5-cac9-451f-9db0-748e48150e94\">\n",
              "    <div class=\"colab-df-container\">\n",
              "      <div>\n",
              "<style scoped>\n",
              "    .dataframe tbody tr th:only-of-type {\n",
              "        vertical-align: middle;\n",
              "    }\n",
              "\n",
              "    .dataframe tbody tr th {\n",
              "        vertical-align: top;\n",
              "    }\n",
              "\n",
              "    .dataframe thead th {\n",
              "        text-align: right;\n",
              "    }\n",
              "</style>\n",
              "<table border=\"1\" class=\"dataframe\">\n",
              "  <thead>\n",
              "    <tr style=\"text-align: right;\">\n",
              "      <th></th>\n",
              "      <th>VHD_N</th>\n",
              "      <th>VHD_Severe</th>\n",
              "      <th>VHD_mild</th>\n",
              "      <th>Age</th>\n",
              "      <th>Weight</th>\n",
              "      <th>Length</th>\n",
              "      <th>Sex</th>\n",
              "      <th>BMI</th>\n",
              "      <th>DM</th>\n",
              "      <th>HTN</th>\n",
              "      <th>...</th>\n",
              "      <th>K</th>\n",
              "      <th>Na</th>\n",
              "      <th>WBC</th>\n",
              "      <th>Lymph</th>\n",
              "      <th>Neut</th>\n",
              "      <th>PLT</th>\n",
              "      <th>EF-TTE</th>\n",
              "      <th>Region RWMA</th>\n",
              "      <th>VHD</th>\n",
              "      <th>Cath</th>\n",
              "    </tr>\n",
              "  </thead>\n",
              "  <tbody>\n",
              "    <tr>\n",
              "      <th>0</th>\n",
              "      <td>1</td>\n",
              "      <td>0</td>\n",
              "      <td>0</td>\n",
              "      <td>53</td>\n",
              "      <td>90</td>\n",
              "      <td>175</td>\n",
              "      <td>1</td>\n",
              "      <td>29.387755</td>\n",
              "      <td>0</td>\n",
              "      <td>1</td>\n",
              "      <td>...</td>\n",
              "      <td>4.7</td>\n",
              "      <td>141</td>\n",
              "      <td>5700</td>\n",
              "      <td>39</td>\n",
              "      <td>52</td>\n",
              "      <td>261</td>\n",
              "      <td>50</td>\n",
              "      <td>0</td>\n",
              "      <td>N</td>\n",
              "      <td>Cad</td>\n",
              "    </tr>\n",
              "    <tr>\n",
              "      <th>1</th>\n",
              "      <td>1</td>\n",
              "      <td>0</td>\n",
              "      <td>0</td>\n",
              "      <td>67</td>\n",
              "      <td>70</td>\n",
              "      <td>157</td>\n",
              "      <td>0</td>\n",
              "      <td>28.398718</td>\n",
              "      <td>0</td>\n",
              "      <td>1</td>\n",
              "      <td>...</td>\n",
              "      <td>4.7</td>\n",
              "      <td>156</td>\n",
              "      <td>7700</td>\n",
              "      <td>38</td>\n",
              "      <td>55</td>\n",
              "      <td>165</td>\n",
              "      <td>40</td>\n",
              "      <td>4</td>\n",
              "      <td>N</td>\n",
              "      <td>Cad</td>\n",
              "    </tr>\n",
              "    <tr>\n",
              "      <th>2</th>\n",
              "      <td>0</td>\n",
              "      <td>0</td>\n",
              "      <td>1</td>\n",
              "      <td>54</td>\n",
              "      <td>54</td>\n",
              "      <td>164</td>\n",
              "      <td>1</td>\n",
              "      <td>20.077335</td>\n",
              "      <td>0</td>\n",
              "      <td>0</td>\n",
              "      <td>...</td>\n",
              "      <td>4.7</td>\n",
              "      <td>139</td>\n",
              "      <td>7400</td>\n",
              "      <td>38</td>\n",
              "      <td>60</td>\n",
              "      <td>230</td>\n",
              "      <td>40</td>\n",
              "      <td>2</td>\n",
              "      <td>mild</td>\n",
              "      <td>Cad</td>\n",
              "    </tr>\n",
              "    <tr>\n",
              "      <th>3</th>\n",
              "      <td>0</td>\n",
              "      <td>1</td>\n",
              "      <td>0</td>\n",
              "      <td>66</td>\n",
              "      <td>67</td>\n",
              "      <td>158</td>\n",
              "      <td>0</td>\n",
              "      <td>26.838648</td>\n",
              "      <td>0</td>\n",
              "      <td>1</td>\n",
              "      <td>...</td>\n",
              "      <td>4.4</td>\n",
              "      <td>142</td>\n",
              "      <td>13000</td>\n",
              "      <td>18</td>\n",
              "      <td>72</td>\n",
              "      <td>742</td>\n",
              "      <td>55</td>\n",
              "      <td>0</td>\n",
              "      <td>Severe</td>\n",
              "      <td>Normal</td>\n",
              "    </tr>\n",
              "    <tr>\n",
              "      <th>4</th>\n",
              "      <td>0</td>\n",
              "      <td>1</td>\n",
              "      <td>0</td>\n",
              "      <td>50</td>\n",
              "      <td>87</td>\n",
              "      <td>153</td>\n",
              "      <td>0</td>\n",
              "      <td>37.165193</td>\n",
              "      <td>0</td>\n",
              "      <td>1</td>\n",
              "      <td>...</td>\n",
              "      <td>4.0</td>\n",
              "      <td>140</td>\n",
              "      <td>9200</td>\n",
              "      <td>55</td>\n",
              "      <td>39</td>\n",
              "      <td>274</td>\n",
              "      <td>50</td>\n",
              "      <td>0</td>\n",
              "      <td>Severe</td>\n",
              "      <td>Normal</td>\n",
              "    </tr>\n",
              "    <tr>\n",
              "      <th>...</th>\n",
              "      <td>...</td>\n",
              "      <td>...</td>\n",
              "      <td>...</td>\n",
              "      <td>...</td>\n",
              "      <td>...</td>\n",
              "      <td>...</td>\n",
              "      <td>...</td>\n",
              "      <td>...</td>\n",
              "      <td>...</td>\n",
              "      <td>...</td>\n",
              "      <td>...</td>\n",
              "      <td>...</td>\n",
              "      <td>...</td>\n",
              "      <td>...</td>\n",
              "      <td>...</td>\n",
              "      <td>...</td>\n",
              "      <td>...</td>\n",
              "      <td>...</td>\n",
              "      <td>...</td>\n",
              "      <td>...</td>\n",
              "      <td>...</td>\n",
              "    </tr>\n",
              "    <tr>\n",
              "      <th>298</th>\n",
              "      <td>1</td>\n",
              "      <td>0</td>\n",
              "      <td>0</td>\n",
              "      <td>58</td>\n",
              "      <td>84</td>\n",
              "      <td>168</td>\n",
              "      <td>1</td>\n",
              "      <td>29.761905</td>\n",
              "      <td>0</td>\n",
              "      <td>0</td>\n",
              "      <td>...</td>\n",
              "      <td>4.8</td>\n",
              "      <td>146</td>\n",
              "      <td>8500</td>\n",
              "      <td>34</td>\n",
              "      <td>58</td>\n",
              "      <td>251</td>\n",
              "      <td>45</td>\n",
              "      <td>0</td>\n",
              "      <td>N</td>\n",
              "      <td>Cad</td>\n",
              "    </tr>\n",
              "    <tr>\n",
              "      <th>299</th>\n",
              "      <td>0</td>\n",
              "      <td>0</td>\n",
              "      <td>1</td>\n",
              "      <td>55</td>\n",
              "      <td>64</td>\n",
              "      <td>152</td>\n",
              "      <td>0</td>\n",
              "      <td>27.700831</td>\n",
              "      <td>0</td>\n",
              "      <td>0</td>\n",
              "      <td>...</td>\n",
              "      <td>4.0</td>\n",
              "      <td>139</td>\n",
              "      <td>11400</td>\n",
              "      <td>16</td>\n",
              "      <td>80</td>\n",
              "      <td>377</td>\n",
              "      <td>40</td>\n",
              "      <td>0</td>\n",
              "      <td>mild</td>\n",
              "      <td>Normal</td>\n",
              "    </tr>\n",
              "    <tr>\n",
              "      <th>300</th>\n",
              "      <td>1</td>\n",
              "      <td>0</td>\n",
              "      <td>0</td>\n",
              "      <td>48</td>\n",
              "      <td>77</td>\n",
              "      <td>160</td>\n",
              "      <td>0</td>\n",
              "      <td>30.078125</td>\n",
              "      <td>0</td>\n",
              "      <td>1</td>\n",
              "      <td>...</td>\n",
              "      <td>4.0</td>\n",
              "      <td>140</td>\n",
              "      <td>9000</td>\n",
              "      <td>35</td>\n",
              "      <td>55</td>\n",
              "      <td>279</td>\n",
              "      <td>55</td>\n",
              "      <td>0</td>\n",
              "      <td>N</td>\n",
              "      <td>Normal</td>\n",
              "    </tr>\n",
              "    <tr>\n",
              "      <th>301</th>\n",
              "      <td>1</td>\n",
              "      <td>0</td>\n",
              "      <td>0</td>\n",
              "      <td>57</td>\n",
              "      <td>90</td>\n",
              "      <td>159</td>\n",
              "      <td>0</td>\n",
              "      <td>35.599858</td>\n",
              "      <td>1</td>\n",
              "      <td>0</td>\n",
              "      <td>...</td>\n",
              "      <td>3.8</td>\n",
              "      <td>141</td>\n",
              "      <td>3800</td>\n",
              "      <td>48</td>\n",
              "      <td>40</td>\n",
              "      <td>208</td>\n",
              "      <td>55</td>\n",
              "      <td>0</td>\n",
              "      <td>N</td>\n",
              "      <td>Normal</td>\n",
              "    </tr>\n",
              "    <tr>\n",
              "      <th>302</th>\n",
              "      <td>1</td>\n",
              "      <td>0</td>\n",
              "      <td>0</td>\n",
              "      <td>56</td>\n",
              "      <td>85</td>\n",
              "      <td>170</td>\n",
              "      <td>0</td>\n",
              "      <td>29.411765</td>\n",
              "      <td>0</td>\n",
              "      <td>1</td>\n",
              "      <td>...</td>\n",
              "      <td>4.4</td>\n",
              "      <td>147</td>\n",
              "      <td>6000</td>\n",
              "      <td>32</td>\n",
              "      <td>55</td>\n",
              "      <td>302</td>\n",
              "      <td>55</td>\n",
              "      <td>0</td>\n",
              "      <td>N</td>\n",
              "      <td>Cad</td>\n",
              "    </tr>\n",
              "  </tbody>\n",
              "</table>\n",
              "<p>303 rows × 59 columns</p>\n",
              "</div>\n",
              "      <button class=\"colab-df-convert\" onclick=\"convertToInteractive('df-c7db80d5-cac9-451f-9db0-748e48150e94')\"\n",
              "              title=\"Convert this dataframe to an interactive table.\"\n",
              "              style=\"display:none;\">\n",
              "        \n",
              "  <svg xmlns=\"http://www.w3.org/2000/svg\" height=\"24px\"viewBox=\"0 0 24 24\"\n",
              "       width=\"24px\">\n",
              "    <path d=\"M0 0h24v24H0V0z\" fill=\"none\"/>\n",
              "    <path d=\"M18.56 5.44l.94 2.06.94-2.06 2.06-.94-2.06-.94-.94-2.06-.94 2.06-2.06.94zm-11 1L8.5 8.5l.94-2.06 2.06-.94-2.06-.94L8.5 2.5l-.94 2.06-2.06.94zm10 10l.94 2.06.94-2.06 2.06-.94-2.06-.94-.94-2.06-.94 2.06-2.06.94z\"/><path d=\"M17.41 7.96l-1.37-1.37c-.4-.4-.92-.59-1.43-.59-.52 0-1.04.2-1.43.59L10.3 9.45l-7.72 7.72c-.78.78-.78 2.05 0 2.83L4 21.41c.39.39.9.59 1.41.59.51 0 1.02-.2 1.41-.59l7.78-7.78 2.81-2.81c.8-.78.8-2.07 0-2.86zM5.41 20L4 18.59l7.72-7.72 1.47 1.35L5.41 20z\"/>\n",
              "  </svg>\n",
              "      </button>\n",
              "      \n",
              "  <style>\n",
              "    .colab-df-container {\n",
              "      display:flex;\n",
              "      flex-wrap:wrap;\n",
              "      gap: 12px;\n",
              "    }\n",
              "\n",
              "    .colab-df-convert {\n",
              "      background-color: #E8F0FE;\n",
              "      border: none;\n",
              "      border-radius: 50%;\n",
              "      cursor: pointer;\n",
              "      display: none;\n",
              "      fill: #1967D2;\n",
              "      height: 32px;\n",
              "      padding: 0 0 0 0;\n",
              "      width: 32px;\n",
              "    }\n",
              "\n",
              "    .colab-df-convert:hover {\n",
              "      background-color: #E2EBFA;\n",
              "      box-shadow: 0px 1px 2px rgba(60, 64, 67, 0.3), 0px 1px 3px 1px rgba(60, 64, 67, 0.15);\n",
              "      fill: #174EA6;\n",
              "    }\n",
              "\n",
              "    [theme=dark] .colab-df-convert {\n",
              "      background-color: #3B4455;\n",
              "      fill: #D2E3FC;\n",
              "    }\n",
              "\n",
              "    [theme=dark] .colab-df-convert:hover {\n",
              "      background-color: #434B5C;\n",
              "      box-shadow: 0px 1px 3px 1px rgba(0, 0, 0, 0.15);\n",
              "      filter: drop-shadow(0px 1px 2px rgba(0, 0, 0, 0.3));\n",
              "      fill: #FFFFFF;\n",
              "    }\n",
              "  </style>\n",
              "\n",
              "      <script>\n",
              "        const buttonEl =\n",
              "          document.querySelector('#df-c7db80d5-cac9-451f-9db0-748e48150e94 button.colab-df-convert');\n",
              "        buttonEl.style.display =\n",
              "          google.colab.kernel.accessAllowed ? 'block' : 'none';\n",
              "\n",
              "        async function convertToInteractive(key) {\n",
              "          const element = document.querySelector('#df-c7db80d5-cac9-451f-9db0-748e48150e94');\n",
              "          const dataTable =\n",
              "            await google.colab.kernel.invokeFunction('convertToInteractive',\n",
              "                                                     [key], {});\n",
              "          if (!dataTable) return;\n",
              "\n",
              "          const docLinkHtml = 'Like what you see? Visit the ' +\n",
              "            '<a target=\"_blank\" href=https://colab.research.google.com/notebooks/data_table.ipynb>data table notebook</a>'\n",
              "            + ' to learn more about interactive tables.';\n",
              "          element.innerHTML = '';\n",
              "          dataTable['output_type'] = 'display_data';\n",
              "          await google.colab.output.renderOutput(dataTable, element);\n",
              "          const docLink = document.createElement('div');\n",
              "          docLink.innerHTML = docLinkHtml;\n",
              "          element.appendChild(docLink);\n",
              "        }\n",
              "      </script>\n",
              "    </div>\n",
              "  </div>\n",
              "  "
            ]
          },
          "metadata": {},
          "execution_count": 53
        }
      ],
      "source": [
        "df2=pd.concat([df1,df],axis=1)\n",
        "df2"
      ]
    },
    {
      "cell_type": "code",
      "source": [
        "df2.dtypes"
      ],
      "metadata": {
        "colab": {
          "base_uri": "https://localhost:8080/"
        },
        "id": "bUnkYwQfb4TH",
        "outputId": "fed1c079-ec43-477a-9343-625e8ba64a25"
      },
      "execution_count": null,
      "outputs": [
        {
          "output_type": "execute_result",
          "data": {
            "text/plain": [
              "VHD_N                      uint8\n",
              "VHD_Severe                 uint8\n",
              "VHD_mild                   uint8\n",
              "Age                        int64\n",
              "Weight                     int64\n",
              "Length                     int64\n",
              "Sex                        int64\n",
              "BMI                      float64\n",
              "DM                         int64\n",
              "HTN                        int64\n",
              "Current Smoker             int64\n",
              "EX-Smoker                  int64\n",
              "FH                         int64\n",
              "Obesity                    int64\n",
              "CRF                        int64\n",
              "CVA                        int64\n",
              "Airway disease             int64\n",
              "Thyroid Disease            int64\n",
              "CHF                        int64\n",
              "DLP                        int64\n",
              "BP                         int64\n",
              "PR                         int64\n",
              "Edema                      int64\n",
              "Weak Peripheral Pulse      int64\n",
              "Lung rales                 int64\n",
              "Systolic Murmur            int64\n",
              "Diastolic Murmur           int64\n",
              "Typical Chest Pain         int64\n",
              "Dyspnea                    int64\n",
              "Function Class             int64\n",
              "Atypical                   int64\n",
              "Nonanginal                 int64\n",
              "Exertional CP              int64\n",
              "LowTH Ang                  int64\n",
              "Q Wave                     int64\n",
              "St Elevation               int64\n",
              "St Depression              int64\n",
              "Tinversion                 int64\n",
              "LVH                        int64\n",
              "Poor R Progression         int64\n",
              "BBB                        int64\n",
              "FBS                        int64\n",
              "CR                       float64\n",
              "TG                         int64\n",
              "LDL                        int64\n",
              "HDL                      float64\n",
              "BUN                        int64\n",
              "ESR                        int64\n",
              "HB                       float64\n",
              "K                        float64\n",
              "Na                         int64\n",
              "WBC                        int64\n",
              "Lymph                      int64\n",
              "Neut                       int64\n",
              "PLT                        int64\n",
              "EF-TTE                     int64\n",
              "Region RWMA                int64\n",
              "VHD                       object\n",
              "Cath                      object\n",
              "dtype: object"
            ]
          },
          "metadata": {},
          "execution_count": 54
        }
      ]
    },
    {
      "cell_type": "code",
      "execution_count": null,
      "metadata": {
        "colab": {
          "base_uri": "https://localhost:8080/",
          "height": 424
        },
        "id": "0RARkpGV-QQJ",
        "outputId": "1b9c9975-52a5-4b2d-a135-59dcc64991a5"
      },
      "outputs": [
        {
          "output_type": "execute_result",
          "data": {
            "text/plain": [
              "     VHD_N  VHD_Severe  VHD_mild  Age  Weight  Length  Sex        BMI  DM  \\\n",
              "0        1           0         0   53      90     175    1  29.387755   0   \n",
              "1        1           0         0   67      70     157    0  28.398718   0   \n",
              "2        0           0         1   54      54     164    1  20.077335   0   \n",
              "3        0           1         0   66      67     158    0  26.838648   0   \n",
              "4        0           1         0   50      87     153    0  37.165193   0   \n",
              "..     ...         ...       ...  ...     ...     ...  ...        ...  ..   \n",
              "298      1           0         0   58      84     168    1  29.761905   0   \n",
              "299      0           0         1   55      64     152    0  27.700831   0   \n",
              "300      1           0         0   48      77     160    0  30.078125   0   \n",
              "301      1           0         0   57      90     159    0  35.599858   1   \n",
              "302      1           0         0   56      85     170    0  29.411765   0   \n",
              "\n",
              "     HTN  ...  ESR    HB    K   Na    WBC  Lymph  PLT  EF-TTE  Region RWMA  \\\n",
              "0      1  ...    7  15.6  4.7  141   5700     39  261      50            0   \n",
              "1      1  ...   26  13.9  4.7  156   7700     38  165      40            4   \n",
              "2      0  ...   10  13.5  4.7  139   7400     38  230      40            2   \n",
              "3      1  ...   76  12.1  4.4  142  13000     18  742      55            0   \n",
              "4      1  ...   27  13.2  4.0  140   9200     55  274      50            0   \n",
              "..   ...  ...  ...   ...  ...  ...    ...    ...  ...     ...          ...   \n",
              "298    0  ...   13  12.3  4.8  146   8500     34  251      45            0   \n",
              "299    0  ...    3  12.4  4.0  139  11400     16  377      40            0   \n",
              "300    1  ...   20  12.8  4.0  140   9000     35  279      55            0   \n",
              "301    0  ...   31  10.1  3.8  141   3800     48  208      55            0   \n",
              "302    1  ...   13  14.7  4.4  147   6000     32  302      55            0   \n",
              "\n",
              "       Cath  \n",
              "0       Cad  \n",
              "1       Cad  \n",
              "2       Cad  \n",
              "3    Normal  \n",
              "4    Normal  \n",
              "..      ...  \n",
              "298     Cad  \n",
              "299  Normal  \n",
              "300  Normal  \n",
              "301  Normal  \n",
              "302     Cad  \n",
              "\n",
              "[303 rows x 55 columns]"
            ],
            "text/html": [
              "\n",
              "  <div id=\"df-4dd72b1f-1712-404c-84b9-a4060b9c964d\">\n",
              "    <div class=\"colab-df-container\">\n",
              "      <div>\n",
              "<style scoped>\n",
              "    .dataframe tbody tr th:only-of-type {\n",
              "        vertical-align: middle;\n",
              "    }\n",
              "\n",
              "    .dataframe tbody tr th {\n",
              "        vertical-align: top;\n",
              "    }\n",
              "\n",
              "    .dataframe thead th {\n",
              "        text-align: right;\n",
              "    }\n",
              "</style>\n",
              "<table border=\"1\" class=\"dataframe\">\n",
              "  <thead>\n",
              "    <tr style=\"text-align: right;\">\n",
              "      <th></th>\n",
              "      <th>VHD_N</th>\n",
              "      <th>VHD_Severe</th>\n",
              "      <th>VHD_mild</th>\n",
              "      <th>Age</th>\n",
              "      <th>Weight</th>\n",
              "      <th>Length</th>\n",
              "      <th>Sex</th>\n",
              "      <th>BMI</th>\n",
              "      <th>DM</th>\n",
              "      <th>HTN</th>\n",
              "      <th>...</th>\n",
              "      <th>ESR</th>\n",
              "      <th>HB</th>\n",
              "      <th>K</th>\n",
              "      <th>Na</th>\n",
              "      <th>WBC</th>\n",
              "      <th>Lymph</th>\n",
              "      <th>PLT</th>\n",
              "      <th>EF-TTE</th>\n",
              "      <th>Region RWMA</th>\n",
              "      <th>Cath</th>\n",
              "    </tr>\n",
              "  </thead>\n",
              "  <tbody>\n",
              "    <tr>\n",
              "      <th>0</th>\n",
              "      <td>1</td>\n",
              "      <td>0</td>\n",
              "      <td>0</td>\n",
              "      <td>53</td>\n",
              "      <td>90</td>\n",
              "      <td>175</td>\n",
              "      <td>1</td>\n",
              "      <td>29.387755</td>\n",
              "      <td>0</td>\n",
              "      <td>1</td>\n",
              "      <td>...</td>\n",
              "      <td>7</td>\n",
              "      <td>15.6</td>\n",
              "      <td>4.7</td>\n",
              "      <td>141</td>\n",
              "      <td>5700</td>\n",
              "      <td>39</td>\n",
              "      <td>261</td>\n",
              "      <td>50</td>\n",
              "      <td>0</td>\n",
              "      <td>Cad</td>\n",
              "    </tr>\n",
              "    <tr>\n",
              "      <th>1</th>\n",
              "      <td>1</td>\n",
              "      <td>0</td>\n",
              "      <td>0</td>\n",
              "      <td>67</td>\n",
              "      <td>70</td>\n",
              "      <td>157</td>\n",
              "      <td>0</td>\n",
              "      <td>28.398718</td>\n",
              "      <td>0</td>\n",
              "      <td>1</td>\n",
              "      <td>...</td>\n",
              "      <td>26</td>\n",
              "      <td>13.9</td>\n",
              "      <td>4.7</td>\n",
              "      <td>156</td>\n",
              "      <td>7700</td>\n",
              "      <td>38</td>\n",
              "      <td>165</td>\n",
              "      <td>40</td>\n",
              "      <td>4</td>\n",
              "      <td>Cad</td>\n",
              "    </tr>\n",
              "    <tr>\n",
              "      <th>2</th>\n",
              "      <td>0</td>\n",
              "      <td>0</td>\n",
              "      <td>1</td>\n",
              "      <td>54</td>\n",
              "      <td>54</td>\n",
              "      <td>164</td>\n",
              "      <td>1</td>\n",
              "      <td>20.077335</td>\n",
              "      <td>0</td>\n",
              "      <td>0</td>\n",
              "      <td>...</td>\n",
              "      <td>10</td>\n",
              "      <td>13.5</td>\n",
              "      <td>4.7</td>\n",
              "      <td>139</td>\n",
              "      <td>7400</td>\n",
              "      <td>38</td>\n",
              "      <td>230</td>\n",
              "      <td>40</td>\n",
              "      <td>2</td>\n",
              "      <td>Cad</td>\n",
              "    </tr>\n",
              "    <tr>\n",
              "      <th>3</th>\n",
              "      <td>0</td>\n",
              "      <td>1</td>\n",
              "      <td>0</td>\n",
              "      <td>66</td>\n",
              "      <td>67</td>\n",
              "      <td>158</td>\n",
              "      <td>0</td>\n",
              "      <td>26.838648</td>\n",
              "      <td>0</td>\n",
              "      <td>1</td>\n",
              "      <td>...</td>\n",
              "      <td>76</td>\n",
              "      <td>12.1</td>\n",
              "      <td>4.4</td>\n",
              "      <td>142</td>\n",
              "      <td>13000</td>\n",
              "      <td>18</td>\n",
              "      <td>742</td>\n",
              "      <td>55</td>\n",
              "      <td>0</td>\n",
              "      <td>Normal</td>\n",
              "    </tr>\n",
              "    <tr>\n",
              "      <th>4</th>\n",
              "      <td>0</td>\n",
              "      <td>1</td>\n",
              "      <td>0</td>\n",
              "      <td>50</td>\n",
              "      <td>87</td>\n",
              "      <td>153</td>\n",
              "      <td>0</td>\n",
              "      <td>37.165193</td>\n",
              "      <td>0</td>\n",
              "      <td>1</td>\n",
              "      <td>...</td>\n",
              "      <td>27</td>\n",
              "      <td>13.2</td>\n",
              "      <td>4.0</td>\n",
              "      <td>140</td>\n",
              "      <td>9200</td>\n",
              "      <td>55</td>\n",
              "      <td>274</td>\n",
              "      <td>50</td>\n",
              "      <td>0</td>\n",
              "      <td>Normal</td>\n",
              "    </tr>\n",
              "    <tr>\n",
              "      <th>...</th>\n",
              "      <td>...</td>\n",
              "      <td>...</td>\n",
              "      <td>...</td>\n",
              "      <td>...</td>\n",
              "      <td>...</td>\n",
              "      <td>...</td>\n",
              "      <td>...</td>\n",
              "      <td>...</td>\n",
              "      <td>...</td>\n",
              "      <td>...</td>\n",
              "      <td>...</td>\n",
              "      <td>...</td>\n",
              "      <td>...</td>\n",
              "      <td>...</td>\n",
              "      <td>...</td>\n",
              "      <td>...</td>\n",
              "      <td>...</td>\n",
              "      <td>...</td>\n",
              "      <td>...</td>\n",
              "      <td>...</td>\n",
              "      <td>...</td>\n",
              "    </tr>\n",
              "    <tr>\n",
              "      <th>298</th>\n",
              "      <td>1</td>\n",
              "      <td>0</td>\n",
              "      <td>0</td>\n",
              "      <td>58</td>\n",
              "      <td>84</td>\n",
              "      <td>168</td>\n",
              "      <td>1</td>\n",
              "      <td>29.761905</td>\n",
              "      <td>0</td>\n",
              "      <td>0</td>\n",
              "      <td>...</td>\n",
              "      <td>13</td>\n",
              "      <td>12.3</td>\n",
              "      <td>4.8</td>\n",
              "      <td>146</td>\n",
              "      <td>8500</td>\n",
              "      <td>34</td>\n",
              "      <td>251</td>\n",
              "      <td>45</td>\n",
              "      <td>0</td>\n",
              "      <td>Cad</td>\n",
              "    </tr>\n",
              "    <tr>\n",
              "      <th>299</th>\n",
              "      <td>0</td>\n",
              "      <td>0</td>\n",
              "      <td>1</td>\n",
              "      <td>55</td>\n",
              "      <td>64</td>\n",
              "      <td>152</td>\n",
              "      <td>0</td>\n",
              "      <td>27.700831</td>\n",
              "      <td>0</td>\n",
              "      <td>0</td>\n",
              "      <td>...</td>\n",
              "      <td>3</td>\n",
              "      <td>12.4</td>\n",
              "      <td>4.0</td>\n",
              "      <td>139</td>\n",
              "      <td>11400</td>\n",
              "      <td>16</td>\n",
              "      <td>377</td>\n",
              "      <td>40</td>\n",
              "      <td>0</td>\n",
              "      <td>Normal</td>\n",
              "    </tr>\n",
              "    <tr>\n",
              "      <th>300</th>\n",
              "      <td>1</td>\n",
              "      <td>0</td>\n",
              "      <td>0</td>\n",
              "      <td>48</td>\n",
              "      <td>77</td>\n",
              "      <td>160</td>\n",
              "      <td>0</td>\n",
              "      <td>30.078125</td>\n",
              "      <td>0</td>\n",
              "      <td>1</td>\n",
              "      <td>...</td>\n",
              "      <td>20</td>\n",
              "      <td>12.8</td>\n",
              "      <td>4.0</td>\n",
              "      <td>140</td>\n",
              "      <td>9000</td>\n",
              "      <td>35</td>\n",
              "      <td>279</td>\n",
              "      <td>55</td>\n",
              "      <td>0</td>\n",
              "      <td>Normal</td>\n",
              "    </tr>\n",
              "    <tr>\n",
              "      <th>301</th>\n",
              "      <td>1</td>\n",
              "      <td>0</td>\n",
              "      <td>0</td>\n",
              "      <td>57</td>\n",
              "      <td>90</td>\n",
              "      <td>159</td>\n",
              "      <td>0</td>\n",
              "      <td>35.599858</td>\n",
              "      <td>1</td>\n",
              "      <td>0</td>\n",
              "      <td>...</td>\n",
              "      <td>31</td>\n",
              "      <td>10.1</td>\n",
              "      <td>3.8</td>\n",
              "      <td>141</td>\n",
              "      <td>3800</td>\n",
              "      <td>48</td>\n",
              "      <td>208</td>\n",
              "      <td>55</td>\n",
              "      <td>0</td>\n",
              "      <td>Normal</td>\n",
              "    </tr>\n",
              "    <tr>\n",
              "      <th>302</th>\n",
              "      <td>1</td>\n",
              "      <td>0</td>\n",
              "      <td>0</td>\n",
              "      <td>56</td>\n",
              "      <td>85</td>\n",
              "      <td>170</td>\n",
              "      <td>0</td>\n",
              "      <td>29.411765</td>\n",
              "      <td>0</td>\n",
              "      <td>1</td>\n",
              "      <td>...</td>\n",
              "      <td>13</td>\n",
              "      <td>14.7</td>\n",
              "      <td>4.4</td>\n",
              "      <td>147</td>\n",
              "      <td>6000</td>\n",
              "      <td>32</td>\n",
              "      <td>302</td>\n",
              "      <td>55</td>\n",
              "      <td>0</td>\n",
              "      <td>Cad</td>\n",
              "    </tr>\n",
              "  </tbody>\n",
              "</table>\n",
              "<p>303 rows × 55 columns</p>\n",
              "</div>\n",
              "      <button class=\"colab-df-convert\" onclick=\"convertToInteractive('df-4dd72b1f-1712-404c-84b9-a4060b9c964d')\"\n",
              "              title=\"Convert this dataframe to an interactive table.\"\n",
              "              style=\"display:none;\">\n",
              "        \n",
              "  <svg xmlns=\"http://www.w3.org/2000/svg\" height=\"24px\"viewBox=\"0 0 24 24\"\n",
              "       width=\"24px\">\n",
              "    <path d=\"M0 0h24v24H0V0z\" fill=\"none\"/>\n",
              "    <path d=\"M18.56 5.44l.94 2.06.94-2.06 2.06-.94-2.06-.94-.94-2.06-.94 2.06-2.06.94zm-11 1L8.5 8.5l.94-2.06 2.06-.94-2.06-.94L8.5 2.5l-.94 2.06-2.06.94zm10 10l.94 2.06.94-2.06 2.06-.94-2.06-.94-.94-2.06-.94 2.06-2.06.94z\"/><path d=\"M17.41 7.96l-1.37-1.37c-.4-.4-.92-.59-1.43-.59-.52 0-1.04.2-1.43.59L10.3 9.45l-7.72 7.72c-.78.78-.78 2.05 0 2.83L4 21.41c.39.39.9.59 1.41.59.51 0 1.02-.2 1.41-.59l7.78-7.78 2.81-2.81c.8-.78.8-2.07 0-2.86zM5.41 20L4 18.59l7.72-7.72 1.47 1.35L5.41 20z\"/>\n",
              "  </svg>\n",
              "      </button>\n",
              "      \n",
              "  <style>\n",
              "    .colab-df-container {\n",
              "      display:flex;\n",
              "      flex-wrap:wrap;\n",
              "      gap: 12px;\n",
              "    }\n",
              "\n",
              "    .colab-df-convert {\n",
              "      background-color: #E8F0FE;\n",
              "      border: none;\n",
              "      border-radius: 50%;\n",
              "      cursor: pointer;\n",
              "      display: none;\n",
              "      fill: #1967D2;\n",
              "      height: 32px;\n",
              "      padding: 0 0 0 0;\n",
              "      width: 32px;\n",
              "    }\n",
              "\n",
              "    .colab-df-convert:hover {\n",
              "      background-color: #E2EBFA;\n",
              "      box-shadow: 0px 1px 2px rgba(60, 64, 67, 0.3), 0px 1px 3px 1px rgba(60, 64, 67, 0.15);\n",
              "      fill: #174EA6;\n",
              "    }\n",
              "\n",
              "    [theme=dark] .colab-df-convert {\n",
              "      background-color: #3B4455;\n",
              "      fill: #D2E3FC;\n",
              "    }\n",
              "\n",
              "    [theme=dark] .colab-df-convert:hover {\n",
              "      background-color: #434B5C;\n",
              "      box-shadow: 0px 1px 3px 1px rgba(0, 0, 0, 0.15);\n",
              "      filter: drop-shadow(0px 1px 2px rgba(0, 0, 0, 0.3));\n",
              "      fill: #FFFFFF;\n",
              "    }\n",
              "  </style>\n",
              "\n",
              "      <script>\n",
              "        const buttonEl =\n",
              "          document.querySelector('#df-4dd72b1f-1712-404c-84b9-a4060b9c964d button.colab-df-convert');\n",
              "        buttonEl.style.display =\n",
              "          google.colab.kernel.accessAllowed ? 'block' : 'none';\n",
              "\n",
              "        async function convertToInteractive(key) {\n",
              "          const element = document.querySelector('#df-4dd72b1f-1712-404c-84b9-a4060b9c964d');\n",
              "          const dataTable =\n",
              "            await google.colab.kernel.invokeFunction('convertToInteractive',\n",
              "                                                     [key], {});\n",
              "          if (!dataTable) return;\n",
              "\n",
              "          const docLinkHtml = 'Like what you see? Visit the ' +\n",
              "            '<a target=\"_blank\" href=https://colab.research.google.com/notebooks/data_table.ipynb>data table notebook</a>'\n",
              "            + ' to learn more about interactive tables.';\n",
              "          element.innerHTML = '';\n",
              "          dataTable['output_type'] = 'display_data';\n",
              "          await google.colab.output.renderOutput(dataTable, element);\n",
              "          const docLink = document.createElement('div');\n",
              "          docLink.innerHTML = docLinkHtml;\n",
              "          element.appendChild(docLink);\n",
              "        }\n",
              "      </script>\n",
              "    </div>\n",
              "  </div>\n",
              "  "
            ]
          },
          "metadata": {},
          "execution_count": 55
        }
      ],
      "source": [
        "df2=df2.drop(['CVA','Function Class','Neut','VHD'],axis=1)\n",
        "df2"
      ]
    },
    {
      "cell_type": "code",
      "source": [
        "df2.corr()"
      ],
      "metadata": {
        "colab": {
          "base_uri": "https://localhost:8080/",
          "height": 1000
        },
        "id": "byvlPQEYHkio",
        "outputId": "97f4bfa2-8c26-450c-8d9d-a55ac3a73179"
      },
      "execution_count": null,
      "outputs": [
        {
          "output_type": "stream",
          "name": "stderr",
          "text": [
            "<ipython-input-56-e0c6714eb3b3>:1: FutureWarning: The default value of numeric_only in DataFrame.corr is deprecated. In a future version, it will default to False. Select only valid columns or specify the value of numeric_only to silence this warning.\n",
            "  df2.corr()\n"
          ]
        },
        {
          "output_type": "execute_result",
          "data": {
            "text/plain": [
              "                          VHD_N  VHD_Severe  VHD_mild       Age    Weight  \\\n",
              "VHD_N                  1.000000   -0.152867 -0.774713 -0.166309  0.180712   \n",
              "VHD_Severe            -0.152867    1.000000 -0.190914 -0.035501 -0.048873   \n",
              "VHD_mild              -0.774713   -0.190914  1.000000  0.149683 -0.114694   \n",
              "Age                   -0.166309   -0.035501  0.149683  1.000000 -0.264585   \n",
              "Weight                 0.180712   -0.048873 -0.114694 -0.264585  1.000000   \n",
              "Length                 0.085980   -0.052822 -0.077774 -0.163753  0.460631   \n",
              "Sex                   -0.046504    0.021834 -0.034088 -0.045769  0.234529   \n",
              "BMI                    0.128441   -0.011517 -0.066342 -0.161414  0.725005   \n",
              "DM                    -0.021626   -0.126164  0.039622  0.072543 -0.003531   \n",
              "HTN                   -0.103953   -0.053769  0.133951  0.246690 -0.028532   \n",
              "Current Smoker         0.115128    0.030995 -0.113548 -0.143879  0.157385   \n",
              "EX-Smoker             -0.107497   -0.035857  0.040002  0.076608  0.068977   \n",
              "FH                     0.197552   -0.084208 -0.101320 -0.183900  0.021963   \n",
              "Obesity                0.062328   -0.025328 -0.010898 -0.126190  0.547267   \n",
              "CRF                    0.034259   -0.027587  0.002346  0.126980 -0.025713   \n",
              "Airway disease        -0.080267    0.150996  0.020850  0.069941 -0.057719   \n",
              "Thyroid Disease        0.059664   -0.029848 -0.019434 -0.095886  0.033370   \n",
              "CHF                   -0.045322   -0.011169 -0.056602 -0.021618  0.029659   \n",
              "DLP                    0.057981   -0.038966 -0.014714  0.128147 -0.080068   \n",
              "BP                    -0.093483   -0.074752  0.132118  0.215527 -0.025930   \n",
              "PR                    -0.146875    0.111929 -0.014206  0.023576 -0.075468   \n",
              "Edema                 -0.055496    0.051059  0.003351  0.132487 -0.035323   \n",
              "Weak Peripheral Pulse  0.004573   -0.025141  0.028048  0.153593 -0.021990   \n",
              "Lung rales            -0.152867    0.245330 -0.014444  0.105655 -0.097527   \n",
              "Systolic Murmur       -0.232167    0.387473 -0.118918  0.044819 -0.092795   \n",
              "Diastolic Murmur      -0.097808    0.485714 -0.133214  0.029832 -0.052770   \n",
              "Typical Chest Pain    -0.092458   -0.140004  0.150410  0.138387 -0.002986   \n",
              "Dyspnea               -0.113473    0.182443 -0.025180  0.059379 -0.067434   \n",
              "Atypical               0.167763   -0.090906 -0.124993 -0.141722 -0.012166   \n",
              "Nonanginal             0.056911    0.190860 -0.114176 -0.088702 -0.009010   \n",
              "Exertional CP               NaN         NaN       NaN       NaN       NaN   \n",
              "LowTH Ang              0.019648   -0.015821  0.001345  0.087227 -0.056749   \n",
              "Q Wave                -0.094885   -0.045827  0.062933 -0.061677  0.020584   \n",
              "St Elevation          -0.141007    0.041332  0.129420 -0.056926  0.071406   \n",
              "St Depression          0.045179   -0.065715 -0.029833  0.177432 -0.114619   \n",
              "Tinversion            -0.051344   -0.087550  0.039622  0.041913 -0.021033   \n",
              "LVH                   -0.072650    0.019466  0.057563  0.125612  0.100367   \n",
              "Poor R Progression    -0.017819   -0.033959  0.022331  0.003599 -0.106376   \n",
              "BBB                   -0.002217    0.012190 -0.013599  0.005434 -0.033420   \n",
              "FBS                   -0.078932   -0.122521  0.090460  0.015385  0.012737   \n",
              "CR                    -0.078504   -0.014158  0.052891  0.227097  0.150226   \n",
              "TG                    -0.004916   -0.088185  0.015921 -0.110793  0.078469   \n",
              "LDL                    0.043489    0.055883 -0.051539 -0.033576 -0.023233   \n",
              "HDL                    0.114490   -0.036110 -0.124537 -0.035793 -0.059713   \n",
              "BUN                   -0.151715    0.026629  0.091491  0.300663 -0.057670   \n",
              "ESR                   -0.059147    0.015435  0.043632  0.183127 -0.139314   \n",
              "HB                     0.000414    0.016592 -0.017517 -0.161018  0.274218   \n",
              "K                     -0.005349   -0.063167 -0.012602  0.154203 -0.018287   \n",
              "Na                     0.063194   -0.004473 -0.042559 -0.071886  0.013916   \n",
              "WBC                   -0.077758    0.097513 -0.007794  0.020398 -0.020214   \n",
              "Lymph                  0.098664   -0.023735 -0.053378 -0.171529  0.020120   \n",
              "PLT                   -0.013721    0.158908 -0.019336 -0.049500 -0.094192   \n",
              "EF-TTE                 0.291169   -0.048586 -0.020312 -0.140512  0.026789   \n",
              "Region RWMA           -0.173988   -0.075298  0.079121  0.108663 -0.007648   \n",
              "\n",
              "                         Length       Sex       BMI        DM       HTN  ...  \\\n",
              "VHD_N                  0.085980 -0.046504  0.128441 -0.021626 -0.103953  ...   \n",
              "VHD_Severe            -0.052822  0.021834 -0.011517 -0.126164 -0.053769  ...   \n",
              "VHD_mild              -0.077774 -0.034088 -0.066342  0.039622  0.133951  ...   \n",
              "Age                   -0.163753 -0.045769 -0.161414  0.072543  0.246690  ...   \n",
              "Weight                 0.460631  0.234529  0.725005 -0.003531 -0.028532  ...   \n",
              "Length                 1.000000  0.700279 -0.269356 -0.052318 -0.153668  ...   \n",
              "Sex                    0.700279  1.000000 -0.284088 -0.194348 -0.149278  ...   \n",
              "BMI                   -0.269356 -0.284088  1.000000  0.045360  0.091652  ...   \n",
              "DM                    -0.052318 -0.194348  0.045360  1.000000  0.217864  ...   \n",
              "HTN                   -0.153668 -0.149278  0.091652  0.217864  1.000000  ...   \n",
              "Current Smoker         0.335248  0.336330 -0.089398 -0.208458 -0.169000  ...   \n",
              "EX-Smoker              0.079034  0.156932  0.005016 -0.120087  0.041045  ...   \n",
              "FH                     0.004488 -0.071098  0.014045 -0.064434 -0.098467  ...   \n",
              "Obesity               -0.171962 -0.211808  0.712501  0.020839  0.136482  ...   \n",
              "CRF                   -0.033826  0.024718  0.009386  0.114975  0.118299  ...   \n",
              "Airway disease         0.004021  0.021834 -0.062781  0.028291  0.053887  ...   \n",
              "Thyroid Disease       -0.042495 -0.091986  0.068834 -0.051885  0.038634  ...   \n",
              "CHF                    0.014113  0.048881  0.020205 -0.037405 -0.069137  ...   \n",
              "DLP                   -0.173428 -0.277911  0.046570  0.250364  0.108948  ...   \n",
              "BP                    -0.072511 -0.071315  0.031916  0.128010  0.570418  ...   \n",
              "PR                    -0.077549 -0.095459 -0.015680  0.025350  0.124176  ...   \n",
              "Edema                 -0.039241  0.035315 -0.009812  0.016133  0.134600  ...   \n",
              "Weak Peripheral Pulse -0.037781 -0.047479 -0.001103  0.029189  0.107811  ...   \n",
              "Lung rales            -0.031980  0.129113 -0.079006 -0.048936 -0.053769  ...   \n",
              "Systolic Murmur       -0.057362  0.042723 -0.059971 -0.109338 -0.063208  ...   \n",
              "Diastolic Murmur       0.007420 -0.008972 -0.062039 -0.028643 -0.052064  ...   \n",
              "Typical Chest Pain     0.023149  0.036770 -0.012911  0.105623  0.122788  ...   \n",
              "Dyspnea               -0.092743 -0.038180  0.015020  0.090134  0.038359  ...   \n",
              "Atypical              -0.061937 -0.043794  0.028345 -0.088066 -0.144666  ...   \n",
              "Nonanginal             0.005612 -0.068600 -0.025488 -0.088890  0.016443  ...   \n",
              "Exertional CP               NaN       NaN       NaN       NaN       NaN  ...   \n",
              "LowTH Ang             -0.071919 -0.095959 -0.018212 -0.052986  0.067845  ...   \n",
              "Q Wave                 0.045229  0.051031 -0.015837  0.072583 -0.043583  ...   \n",
              "St Elevation           0.050602  0.091379  0.029896  0.028955 -0.040627  ...   \n",
              "St Depression         -0.150480 -0.114342 -0.009146  0.015532  0.016736  ...   \n",
              "Tinversion             0.023690  0.054493 -0.043311 -0.058998  0.115040  ...   \n",
              "LVH                   -0.007599 -0.016626  0.110330 -0.056449  0.221262  ...   \n",
              "Poor R Progression    -0.053120 -0.048372 -0.081253  0.269163  0.027011  ...   \n",
              "BBB                    0.058785 -0.002436 -0.072387 -0.014153 -0.052273  ...   \n",
              "FBS                   -0.094789 -0.217349  0.089380  0.677940  0.109592  ...   \n",
              "CR                     0.162634  0.260150  0.034338  0.028606  0.158881  ...   \n",
              "TG                    -0.034389 -0.016784  0.109422  0.108792  0.045954  ...   \n",
              "LDL                   -0.090970 -0.104153  0.040001 -0.027167  0.022755  ...   \n",
              "HDL                   -0.050594 -0.116294 -0.024338 -0.043890 -0.094226  ...   \n",
              "BUN                   -0.071229  0.009351 -0.011139  0.144394  0.152895  ...   \n",
              "ESR                   -0.222182 -0.306189  0.023259  0.190397  0.161704  ...   \n",
              "HB                     0.341028  0.403496  0.031107 -0.156382 -0.115935  ...   \n",
              "K                     -0.086277 -0.038046  0.044587  0.100064  0.011826  ...   \n",
              "Na                    -0.066590 -0.079913  0.067402 -0.083030  0.036355  ...   \n",
              "WBC                    0.066658  0.086823 -0.074928  0.110345 -0.069374  ...   \n",
              "Lymph                 -0.156436 -0.132539  0.139583  0.033413  0.017204  ...   \n",
              "PLT                   -0.133446 -0.143698 -0.003964  0.051054 -0.043840  ...   \n",
              "EF-TTE                -0.093295 -0.230896  0.093903 -0.052507  0.031365  ...   \n",
              "Region RWMA            0.095715  0.128955 -0.079739  0.064891 -0.000372  ...   \n",
              "\n",
              "                            BUN       ESR        HB         K        Na  \\\n",
              "VHD_N                 -0.151715 -0.059147  0.000414 -0.005349  0.063194   \n",
              "VHD_Severe             0.026629  0.015435  0.016592 -0.063167 -0.004473   \n",
              "VHD_mild               0.091491  0.043632 -0.017517 -0.012602 -0.042559   \n",
              "Age                    0.300663  0.183127 -0.161018  0.154203 -0.071886   \n",
              "Weight                -0.057670 -0.139314  0.274218 -0.018287  0.013916   \n",
              "Length                -0.071229 -0.222182  0.341028 -0.086277 -0.066590   \n",
              "Sex                    0.009351 -0.306189  0.403496 -0.038046 -0.079913   \n",
              "BMI                   -0.011139  0.023259  0.031107  0.044587  0.067402   \n",
              "DM                     0.144394  0.190397 -0.156382  0.100064 -0.083030   \n",
              "HTN                    0.152895  0.161704 -0.115935  0.011826  0.036355   \n",
              "Current Smoker        -0.061596 -0.121199  0.216144 -0.016599  0.036812   \n",
              "EX-Smoker              0.066455  0.017858 -0.024528 -0.004318 -0.038716   \n",
              "FH                    -0.014419 -0.061457 -0.045348 -0.017255 -0.113749   \n",
              "Obesity               -0.014311  0.006545  0.103205  0.001942  0.042850   \n",
              "CRF                    0.119344  0.158165 -0.043035 -0.035429 -0.031033   \n",
              "Airway disease         0.105386 -0.015618 -0.058034 -0.059309 -0.018397   \n",
              "Thyroid Disease       -0.045902 -0.044509 -0.033808 -0.029528  0.023249   \n",
              "CHF                    0.070411 -0.048689  0.026719  0.147091 -0.166453   \n",
              "DLP                    0.014585  0.088203 -0.119870  0.030825  0.002463   \n",
              "BP                     0.038045  0.036155 -0.129196  0.033902  0.067064   \n",
              "PR                     0.020105  0.108768 -0.070392  0.147650  0.010357   \n",
              "Edema                  0.116906 -0.034615 -0.094113  0.015969 -0.004275   \n",
              "Weak Peripheral Pulse -0.009356  0.147669 -0.034922  0.070595 -0.013517   \n",
              "Lung rales             0.158737 -0.049997 -0.015234  0.044835 -0.101942   \n",
              "Systolic Murmur        0.017271  0.012163 -0.018556  0.032515 -0.004733   \n",
              "Diastolic Murmur       0.141312  0.041351 -0.019119 -0.049987 -0.061213   \n",
              "Typical Chest Pain    -0.031728  0.073777  0.057803  0.126926 -0.026933   \n",
              "Dyspnea                0.057196  0.031779 -0.144097 -0.035051 -0.063902   \n",
              "Atypical               0.012721 -0.134463 -0.007443 -0.113479  0.079633   \n",
              "Nonanginal            -0.068048 -0.001292 -0.035387 -0.061006  0.023496   \n",
              "Exertional CP               NaN       NaN       NaN       NaN       NaN   \n",
              "LowTH Ang             -0.005888 -0.043354 -0.035665 -0.005469  0.160886   \n",
              "Q Wave                 0.070061  0.136909  0.007752  0.048677 -0.155067   \n",
              "St Elevation           0.063328  0.141827  0.065039  0.112392 -0.103195   \n",
              "St Depression          0.017257  0.078451 -0.124527 -0.033712 -0.005668   \n",
              "Tinversion            -0.011594  0.081901  0.067330  0.032172 -0.024134   \n",
              "LVH                    0.095628  0.089191 -0.019588  0.011220  0.084145   \n",
              "Poor R Progression     0.099326  0.054791 -0.120686 -0.007490 -0.050986   \n",
              "BBB                   -0.089509  0.041299  0.061464 -0.036975  0.075941   \n",
              "FBS                    0.230139  0.143823 -0.164087  0.102861 -0.059455   \n",
              "CR                     0.511727  0.023793 -0.019728 -0.010450 -0.074997   \n",
              "TG                     0.029172 -0.044736  0.123914  0.023490  0.060313   \n",
              "LDL                   -0.120052 -0.013132  0.063645  0.037732  0.168126   \n",
              "HDL                   -0.138670 -0.084301 -0.048461 -0.074145  0.088912   \n",
              "BUN                    1.000000  0.126928 -0.085335  0.098618 -0.136310   \n",
              "ESR                    0.126928  1.000000 -0.389803  0.006577 -0.069327   \n",
              "HB                    -0.085335 -0.389803  1.000000  0.033308  0.138745   \n",
              "K                      0.098618  0.006577  0.033308  1.000000  0.010686   \n",
              "Na                    -0.136310 -0.069327  0.138745  0.010686  1.000000   \n",
              "WBC                    0.088416  0.160759 -0.000567  0.118689 -0.093826   \n",
              "Lymph                 -0.044946 -0.158031  0.083837 -0.008561  0.141032   \n",
              "PLT                    0.041289  0.246826 -0.106252  0.022865 -0.022049   \n",
              "EF-TTE                -0.116665 -0.057497  0.006186 -0.159512  0.136491   \n",
              "Region RWMA            0.018362  0.054697 -0.045481  0.229266 -0.022558   \n",
              "\n",
              "                            WBC     Lymph       PLT    EF-TTE  Region RWMA  \n",
              "VHD_N                 -0.077758  0.098664 -0.013721  0.291169    -0.173988  \n",
              "VHD_Severe             0.097513 -0.023735  0.158908 -0.048586    -0.075298  \n",
              "VHD_mild              -0.007794 -0.053378 -0.019336 -0.020312     0.079121  \n",
              "Age                    0.020398 -0.171529 -0.049500 -0.140512     0.108663  \n",
              "Weight                -0.020214  0.020120 -0.094192  0.026789    -0.007648  \n",
              "Length                 0.066658 -0.156436 -0.133446 -0.093295     0.095715  \n",
              "Sex                    0.086823 -0.132539 -0.143698 -0.230896     0.128955  \n",
              "BMI                   -0.074928  0.139583 -0.003964  0.093903    -0.079739  \n",
              "DM                     0.110345  0.033413  0.051054 -0.052507     0.064891  \n",
              "HTN                   -0.069374  0.017204 -0.043840  0.031365    -0.000372  \n",
              "Current Smoker         0.046205 -0.053224 -0.048473 -0.068943     0.078479  \n",
              "EX-Smoker             -0.057655  0.070524 -0.079102 -0.015153     0.012996  \n",
              "FH                     0.067973 -0.014679 -0.023000  0.089157    -0.038230  \n",
              "Obesity               -0.053290  0.128132 -0.008876  0.104896    -0.056608  \n",
              "CRF                   -0.064608 -0.019977  0.072621 -0.048870    -0.057046  \n",
              "Airway disease         0.003789 -0.002468 -0.045168  0.010807     0.018335  \n",
              "Thyroid Disease        0.044358 -0.021614  0.036405  0.060102    -0.084389  \n",
              "CHF                    0.058217 -0.013867 -0.010892 -0.175818     0.171997  \n",
              "DLP                    0.103705  0.042078  0.029321  0.145854    -0.057397  \n",
              "BP                    -0.071686 -0.005244 -0.092516 -0.047472     0.024047  \n",
              "PR                     0.080313 -0.141028 -0.066714 -0.210017     0.152990  \n",
              "Edema                  0.101513 -0.025142 -0.054050 -0.079315     0.083133  \n",
              "Weak Peripheral Pulse  0.033217 -0.044226 -0.018115 -0.017891    -0.048169  \n",
              "Lung rales             0.167806 -0.075130 -0.014644 -0.315855     0.158786  \n",
              "Systolic Murmur        0.049072 -0.001331  0.020184 -0.228935     0.073055  \n",
              "Diastolic Murmur       0.012437 -0.120269  0.183080 -0.043798    -0.078819  \n",
              "Typical Chest Pain    -0.022196 -0.076830 -0.082399 -0.103957     0.177166  \n",
              "Dyspnea                0.040498  0.011673  0.042101 -0.132685    -0.100747  \n",
              "Atypical              -0.053956  0.125676 -0.042610  0.162596    -0.187982  \n",
              "Nonanginal            -0.029963  0.015727  0.164402  0.098194    -0.090414  \n",
              "Exertional CP               NaN       NaN       NaN       NaN          NaN  \n",
              "LowTH Ang              0.067246  0.140009  0.007402 -0.043270     0.171551  \n",
              "Q Wave                 0.013517 -0.055419  0.003692 -0.266077     0.222826  \n",
              "St Elevation           0.128728 -0.060937  0.070754 -0.231493     0.268545  \n",
              "St Depression          0.107977 -0.019841  0.119812 -0.015214     0.165025  \n",
              "Tinversion             0.018630 -0.015916  0.011547 -0.121389     0.173485  \n",
              "LVH                   -0.005190 -0.028019  0.014723  0.030394    -0.051835  \n",
              "Poor R Progression     0.010823 -0.092933 -0.078598 -0.087423    -0.044432  \n",
              "BBB                   -0.042690  0.002519 -0.090139  0.128472    -0.076629  \n",
              "FBS                    0.159957 -0.003719  0.019886 -0.056692     0.037291  \n",
              "CR                     0.145125 -0.066620 -0.091782 -0.115351     0.031475  \n",
              "TG                     0.012340  0.090065 -0.049424 -0.027902     0.035353  \n",
              "LDL                    0.019056  0.118307  0.013452  0.159394    -0.026927  \n",
              "HDL                   -0.063782  0.028257  0.000638  0.104394    -0.062022  \n",
              "BUN                    0.088416 -0.044946  0.041289 -0.116665     0.018362  \n",
              "ESR                    0.160759 -0.158031  0.246826 -0.057497     0.054697  \n",
              "HB                    -0.000567  0.083837 -0.106252  0.006186    -0.045481  \n",
              "K                      0.118689 -0.008561  0.022865 -0.159512     0.229266  \n",
              "Na                    -0.093826  0.141032 -0.022049  0.136491    -0.022558  \n",
              "WBC                    1.000000 -0.322100  0.290805 -0.137910     0.175318  \n",
              "Lymph                 -0.322100  1.000000 -0.011639  0.239827    -0.079181  \n",
              "PLT                    0.290805 -0.011639  1.000000  0.068409    -0.010812  \n",
              "EF-TTE                -0.137910  0.239827  0.068409  1.000000    -0.450799  \n",
              "Region RWMA            0.175318 -0.079181 -0.010812 -0.450799     1.000000  \n",
              "\n",
              "[54 rows x 54 columns]"
            ],
            "text/html": [
              "\n",
              "  <div id=\"df-6c49b752-6fd5-4675-bfcd-2d034246a2f0\">\n",
              "    <div class=\"colab-df-container\">\n",
              "      <div>\n",
              "<style scoped>\n",
              "    .dataframe tbody tr th:only-of-type {\n",
              "        vertical-align: middle;\n",
              "    }\n",
              "\n",
              "    .dataframe tbody tr th {\n",
              "        vertical-align: top;\n",
              "    }\n",
              "\n",
              "    .dataframe thead th {\n",
              "        text-align: right;\n",
              "    }\n",
              "</style>\n",
              "<table border=\"1\" class=\"dataframe\">\n",
              "  <thead>\n",
              "    <tr style=\"text-align: right;\">\n",
              "      <th></th>\n",
              "      <th>VHD_N</th>\n",
              "      <th>VHD_Severe</th>\n",
              "      <th>VHD_mild</th>\n",
              "      <th>Age</th>\n",
              "      <th>Weight</th>\n",
              "      <th>Length</th>\n",
              "      <th>Sex</th>\n",
              "      <th>BMI</th>\n",
              "      <th>DM</th>\n",
              "      <th>HTN</th>\n",
              "      <th>...</th>\n",
              "      <th>BUN</th>\n",
              "      <th>ESR</th>\n",
              "      <th>HB</th>\n",
              "      <th>K</th>\n",
              "      <th>Na</th>\n",
              "      <th>WBC</th>\n",
              "      <th>Lymph</th>\n",
              "      <th>PLT</th>\n",
              "      <th>EF-TTE</th>\n",
              "      <th>Region RWMA</th>\n",
              "    </tr>\n",
              "  </thead>\n",
              "  <tbody>\n",
              "    <tr>\n",
              "      <th>VHD_N</th>\n",
              "      <td>1.000000</td>\n",
              "      <td>-0.152867</td>\n",
              "      <td>-0.774713</td>\n",
              "      <td>-0.166309</td>\n",
              "      <td>0.180712</td>\n",
              "      <td>0.085980</td>\n",
              "      <td>-0.046504</td>\n",
              "      <td>0.128441</td>\n",
              "      <td>-0.021626</td>\n",
              "      <td>-0.103953</td>\n",
              "      <td>...</td>\n",
              "      <td>-0.151715</td>\n",
              "      <td>-0.059147</td>\n",
              "      <td>0.000414</td>\n",
              "      <td>-0.005349</td>\n",
              "      <td>0.063194</td>\n",
              "      <td>-0.077758</td>\n",
              "      <td>0.098664</td>\n",
              "      <td>-0.013721</td>\n",
              "      <td>0.291169</td>\n",
              "      <td>-0.173988</td>\n",
              "    </tr>\n",
              "    <tr>\n",
              "      <th>VHD_Severe</th>\n",
              "      <td>-0.152867</td>\n",
              "      <td>1.000000</td>\n",
              "      <td>-0.190914</td>\n",
              "      <td>-0.035501</td>\n",
              "      <td>-0.048873</td>\n",
              "      <td>-0.052822</td>\n",
              "      <td>0.021834</td>\n",
              "      <td>-0.011517</td>\n",
              "      <td>-0.126164</td>\n",
              "      <td>-0.053769</td>\n",
              "      <td>...</td>\n",
              "      <td>0.026629</td>\n",
              "      <td>0.015435</td>\n",
              "      <td>0.016592</td>\n",
              "      <td>-0.063167</td>\n",
              "      <td>-0.004473</td>\n",
              "      <td>0.097513</td>\n",
              "      <td>-0.023735</td>\n",
              "      <td>0.158908</td>\n",
              "      <td>-0.048586</td>\n",
              "      <td>-0.075298</td>\n",
              "    </tr>\n",
              "    <tr>\n",
              "      <th>VHD_mild</th>\n",
              "      <td>-0.774713</td>\n",
              "      <td>-0.190914</td>\n",
              "      <td>1.000000</td>\n",
              "      <td>0.149683</td>\n",
              "      <td>-0.114694</td>\n",
              "      <td>-0.077774</td>\n",
              "      <td>-0.034088</td>\n",
              "      <td>-0.066342</td>\n",
              "      <td>0.039622</td>\n",
              "      <td>0.133951</td>\n",
              "      <td>...</td>\n",
              "      <td>0.091491</td>\n",
              "      <td>0.043632</td>\n",
              "      <td>-0.017517</td>\n",
              "      <td>-0.012602</td>\n",
              "      <td>-0.042559</td>\n",
              "      <td>-0.007794</td>\n",
              "      <td>-0.053378</td>\n",
              "      <td>-0.019336</td>\n",
              "      <td>-0.020312</td>\n",
              "      <td>0.079121</td>\n",
              "    </tr>\n",
              "    <tr>\n",
              "      <th>Age</th>\n",
              "      <td>-0.166309</td>\n",
              "      <td>-0.035501</td>\n",
              "      <td>0.149683</td>\n",
              "      <td>1.000000</td>\n",
              "      <td>-0.264585</td>\n",
              "      <td>-0.163753</td>\n",
              "      <td>-0.045769</td>\n",
              "      <td>-0.161414</td>\n",
              "      <td>0.072543</td>\n",
              "      <td>0.246690</td>\n",
              "      <td>...</td>\n",
              "      <td>0.300663</td>\n",
              "      <td>0.183127</td>\n",
              "      <td>-0.161018</td>\n",
              "      <td>0.154203</td>\n",
              "      <td>-0.071886</td>\n",
              "      <td>0.020398</td>\n",
              "      <td>-0.171529</td>\n",
              "      <td>-0.049500</td>\n",
              "      <td>-0.140512</td>\n",
              "      <td>0.108663</td>\n",
              "    </tr>\n",
              "    <tr>\n",
              "      <th>Weight</th>\n",
              "      <td>0.180712</td>\n",
              "      <td>-0.048873</td>\n",
              "      <td>-0.114694</td>\n",
              "      <td>-0.264585</td>\n",
              "      <td>1.000000</td>\n",
              "      <td>0.460631</td>\n",
              "      <td>0.234529</td>\n",
              "      <td>0.725005</td>\n",
              "      <td>-0.003531</td>\n",
              "      <td>-0.028532</td>\n",
              "      <td>...</td>\n",
              "      <td>-0.057670</td>\n",
              "      <td>-0.139314</td>\n",
              "      <td>0.274218</td>\n",
              "      <td>-0.018287</td>\n",
              "      <td>0.013916</td>\n",
              "      <td>-0.020214</td>\n",
              "      <td>0.020120</td>\n",
              "      <td>-0.094192</td>\n",
              "      <td>0.026789</td>\n",
              "      <td>-0.007648</td>\n",
              "    </tr>\n",
              "    <tr>\n",
              "      <th>Length</th>\n",
              "      <td>0.085980</td>\n",
              "      <td>-0.052822</td>\n",
              "      <td>-0.077774</td>\n",
              "      <td>-0.163753</td>\n",
              "      <td>0.460631</td>\n",
              "      <td>1.000000</td>\n",
              "      <td>0.700279</td>\n",
              "      <td>-0.269356</td>\n",
              "      <td>-0.052318</td>\n",
              "      <td>-0.153668</td>\n",
              "      <td>...</td>\n",
              "      <td>-0.071229</td>\n",
              "      <td>-0.222182</td>\n",
              "      <td>0.341028</td>\n",
              "      <td>-0.086277</td>\n",
              "      <td>-0.066590</td>\n",
              "      <td>0.066658</td>\n",
              "      <td>-0.156436</td>\n",
              "      <td>-0.133446</td>\n",
              "      <td>-0.093295</td>\n",
              "      <td>0.095715</td>\n",
              "    </tr>\n",
              "    <tr>\n",
              "      <th>Sex</th>\n",
              "      <td>-0.046504</td>\n",
              "      <td>0.021834</td>\n",
              "      <td>-0.034088</td>\n",
              "      <td>-0.045769</td>\n",
              "      <td>0.234529</td>\n",
              "      <td>0.700279</td>\n",
              "      <td>1.000000</td>\n",
              "      <td>-0.284088</td>\n",
              "      <td>-0.194348</td>\n",
              "      <td>-0.149278</td>\n",
              "      <td>...</td>\n",
              "      <td>0.009351</td>\n",
              "      <td>-0.306189</td>\n",
              "      <td>0.403496</td>\n",
              "      <td>-0.038046</td>\n",
              "      <td>-0.079913</td>\n",
              "      <td>0.086823</td>\n",
              "      <td>-0.132539</td>\n",
              "      <td>-0.143698</td>\n",
              "      <td>-0.230896</td>\n",
              "      <td>0.128955</td>\n",
              "    </tr>\n",
              "    <tr>\n",
              "      <th>BMI</th>\n",
              "      <td>0.128441</td>\n",
              "      <td>-0.011517</td>\n",
              "      <td>-0.066342</td>\n",
              "      <td>-0.161414</td>\n",
              "      <td>0.725005</td>\n",
              "      <td>-0.269356</td>\n",
              "      <td>-0.284088</td>\n",
              "      <td>1.000000</td>\n",
              "      <td>0.045360</td>\n",
              "      <td>0.091652</td>\n",
              "      <td>...</td>\n",
              "      <td>-0.011139</td>\n",
              "      <td>0.023259</td>\n",
              "      <td>0.031107</td>\n",
              "      <td>0.044587</td>\n",
              "      <td>0.067402</td>\n",
              "      <td>-0.074928</td>\n",
              "      <td>0.139583</td>\n",
              "      <td>-0.003964</td>\n",
              "      <td>0.093903</td>\n",
              "      <td>-0.079739</td>\n",
              "    </tr>\n",
              "    <tr>\n",
              "      <th>DM</th>\n",
              "      <td>-0.021626</td>\n",
              "      <td>-0.126164</td>\n",
              "      <td>0.039622</td>\n",
              "      <td>0.072543</td>\n",
              "      <td>-0.003531</td>\n",
              "      <td>-0.052318</td>\n",
              "      <td>-0.194348</td>\n",
              "      <td>0.045360</td>\n",
              "      <td>1.000000</td>\n",
              "      <td>0.217864</td>\n",
              "      <td>...</td>\n",
              "      <td>0.144394</td>\n",
              "      <td>0.190397</td>\n",
              "      <td>-0.156382</td>\n",
              "      <td>0.100064</td>\n",
              "      <td>-0.083030</td>\n",
              "      <td>0.110345</td>\n",
              "      <td>0.033413</td>\n",
              "      <td>0.051054</td>\n",
              "      <td>-0.052507</td>\n",
              "      <td>0.064891</td>\n",
              "    </tr>\n",
              "    <tr>\n",
              "      <th>HTN</th>\n",
              "      <td>-0.103953</td>\n",
              "      <td>-0.053769</td>\n",
              "      <td>0.133951</td>\n",
              "      <td>0.246690</td>\n",
              "      <td>-0.028532</td>\n",
              "      <td>-0.153668</td>\n",
              "      <td>-0.149278</td>\n",
              "      <td>0.091652</td>\n",
              "      <td>0.217864</td>\n",
              "      <td>1.000000</td>\n",
              "      <td>...</td>\n",
              "      <td>0.152895</td>\n",
              "      <td>0.161704</td>\n",
              "      <td>-0.115935</td>\n",
              "      <td>0.011826</td>\n",
              "      <td>0.036355</td>\n",
              "      <td>-0.069374</td>\n",
              "      <td>0.017204</td>\n",
              "      <td>-0.043840</td>\n",
              "      <td>0.031365</td>\n",
              "      <td>-0.000372</td>\n",
              "    </tr>\n",
              "    <tr>\n",
              "      <th>Current Smoker</th>\n",
              "      <td>0.115128</td>\n",
              "      <td>0.030995</td>\n",
              "      <td>-0.113548</td>\n",
              "      <td>-0.143879</td>\n",
              "      <td>0.157385</td>\n",
              "      <td>0.335248</td>\n",
              "      <td>0.336330</td>\n",
              "      <td>-0.089398</td>\n",
              "      <td>-0.208458</td>\n",
              "      <td>-0.169000</td>\n",
              "      <td>...</td>\n",
              "      <td>-0.061596</td>\n",
              "      <td>-0.121199</td>\n",
              "      <td>0.216144</td>\n",
              "      <td>-0.016599</td>\n",
              "      <td>0.036812</td>\n",
              "      <td>0.046205</td>\n",
              "      <td>-0.053224</td>\n",
              "      <td>-0.048473</td>\n",
              "      <td>-0.068943</td>\n",
              "      <td>0.078479</td>\n",
              "    </tr>\n",
              "    <tr>\n",
              "      <th>EX-Smoker</th>\n",
              "      <td>-0.107497</td>\n",
              "      <td>-0.035857</td>\n",
              "      <td>0.040002</td>\n",
              "      <td>0.076608</td>\n",
              "      <td>0.068977</td>\n",
              "      <td>0.079034</td>\n",
              "      <td>0.156932</td>\n",
              "      <td>0.005016</td>\n",
              "      <td>-0.120087</td>\n",
              "      <td>0.041045</td>\n",
              "      <td>...</td>\n",
              "      <td>0.066455</td>\n",
              "      <td>0.017858</td>\n",
              "      <td>-0.024528</td>\n",
              "      <td>-0.004318</td>\n",
              "      <td>-0.038716</td>\n",
              "      <td>-0.057655</td>\n",
              "      <td>0.070524</td>\n",
              "      <td>-0.079102</td>\n",
              "      <td>-0.015153</td>\n",
              "      <td>0.012996</td>\n",
              "    </tr>\n",
              "    <tr>\n",
              "      <th>FH</th>\n",
              "      <td>0.197552</td>\n",
              "      <td>-0.084208</td>\n",
              "      <td>-0.101320</td>\n",
              "      <td>-0.183900</td>\n",
              "      <td>0.021963</td>\n",
              "      <td>0.004488</td>\n",
              "      <td>-0.071098</td>\n",
              "      <td>0.014045</td>\n",
              "      <td>-0.064434</td>\n",
              "      <td>-0.098467</td>\n",
              "      <td>...</td>\n",
              "      <td>-0.014419</td>\n",
              "      <td>-0.061457</td>\n",
              "      <td>-0.045348</td>\n",
              "      <td>-0.017255</td>\n",
              "      <td>-0.113749</td>\n",
              "      <td>0.067973</td>\n",
              "      <td>-0.014679</td>\n",
              "      <td>-0.023000</td>\n",
              "      <td>0.089157</td>\n",
              "      <td>-0.038230</td>\n",
              "    </tr>\n",
              "    <tr>\n",
              "      <th>Obesity</th>\n",
              "      <td>0.062328</td>\n",
              "      <td>-0.025328</td>\n",
              "      <td>-0.010898</td>\n",
              "      <td>-0.126190</td>\n",
              "      <td>0.547267</td>\n",
              "      <td>-0.171962</td>\n",
              "      <td>-0.211808</td>\n",
              "      <td>0.712501</td>\n",
              "      <td>0.020839</td>\n",
              "      <td>0.136482</td>\n",
              "      <td>...</td>\n",
              "      <td>-0.014311</td>\n",
              "      <td>0.006545</td>\n",
              "      <td>0.103205</td>\n",
              "      <td>0.001942</td>\n",
              "      <td>0.042850</td>\n",
              "      <td>-0.053290</td>\n",
              "      <td>0.128132</td>\n",
              "      <td>-0.008876</td>\n",
              "      <td>0.104896</td>\n",
              "      <td>-0.056608</td>\n",
              "    </tr>\n",
              "    <tr>\n",
              "      <th>CRF</th>\n",
              "      <td>0.034259</td>\n",
              "      <td>-0.027587</td>\n",
              "      <td>0.002346</td>\n",
              "      <td>0.126980</td>\n",
              "      <td>-0.025713</td>\n",
              "      <td>-0.033826</td>\n",
              "      <td>0.024718</td>\n",
              "      <td>0.009386</td>\n",
              "      <td>0.114975</td>\n",
              "      <td>0.118299</td>\n",
              "      <td>...</td>\n",
              "      <td>0.119344</td>\n",
              "      <td>0.158165</td>\n",
              "      <td>-0.043035</td>\n",
              "      <td>-0.035429</td>\n",
              "      <td>-0.031033</td>\n",
              "      <td>-0.064608</td>\n",
              "      <td>-0.019977</td>\n",
              "      <td>0.072621</td>\n",
              "      <td>-0.048870</td>\n",
              "      <td>-0.057046</td>\n",
              "    </tr>\n",
              "    <tr>\n",
              "      <th>Airway disease</th>\n",
              "      <td>-0.080267</td>\n",
              "      <td>0.150996</td>\n",
              "      <td>0.020850</td>\n",
              "      <td>0.069941</td>\n",
              "      <td>-0.057719</td>\n",
              "      <td>0.004021</td>\n",
              "      <td>0.021834</td>\n",
              "      <td>-0.062781</td>\n",
              "      <td>0.028291</td>\n",
              "      <td>0.053887</td>\n",
              "      <td>...</td>\n",
              "      <td>0.105386</td>\n",
              "      <td>-0.015618</td>\n",
              "      <td>-0.058034</td>\n",
              "      <td>-0.059309</td>\n",
              "      <td>-0.018397</td>\n",
              "      <td>0.003789</td>\n",
              "      <td>-0.002468</td>\n",
              "      <td>-0.045168</td>\n",
              "      <td>0.010807</td>\n",
              "      <td>0.018335</td>\n",
              "    </tr>\n",
              "    <tr>\n",
              "      <th>Thyroid Disease</th>\n",
              "      <td>0.059664</td>\n",
              "      <td>-0.029848</td>\n",
              "      <td>-0.019434</td>\n",
              "      <td>-0.095886</td>\n",
              "      <td>0.033370</td>\n",
              "      <td>-0.042495</td>\n",
              "      <td>-0.091986</td>\n",
              "      <td>0.068834</td>\n",
              "      <td>-0.051885</td>\n",
              "      <td>0.038634</td>\n",
              "      <td>...</td>\n",
              "      <td>-0.045902</td>\n",
              "      <td>-0.044509</td>\n",
              "      <td>-0.033808</td>\n",
              "      <td>-0.029528</td>\n",
              "      <td>0.023249</td>\n",
              "      <td>0.044358</td>\n",
              "      <td>-0.021614</td>\n",
              "      <td>0.036405</td>\n",
              "      <td>0.060102</td>\n",
              "      <td>-0.084389</td>\n",
              "    </tr>\n",
              "    <tr>\n",
              "      <th>CHF</th>\n",
              "      <td>-0.045322</td>\n",
              "      <td>-0.011169</td>\n",
              "      <td>-0.056602</td>\n",
              "      <td>-0.021618</td>\n",
              "      <td>0.029659</td>\n",
              "      <td>0.014113</td>\n",
              "      <td>0.048881</td>\n",
              "      <td>0.020205</td>\n",
              "      <td>-0.037405</td>\n",
              "      <td>-0.069137</td>\n",
              "      <td>...</td>\n",
              "      <td>0.070411</td>\n",
              "      <td>-0.048689</td>\n",
              "      <td>0.026719</td>\n",
              "      <td>0.147091</td>\n",
              "      <td>-0.166453</td>\n",
              "      <td>0.058217</td>\n",
              "      <td>-0.013867</td>\n",
              "      <td>-0.010892</td>\n",
              "      <td>-0.175818</td>\n",
              "      <td>0.171997</td>\n",
              "    </tr>\n",
              "    <tr>\n",
              "      <th>DLP</th>\n",
              "      <td>0.057981</td>\n",
              "      <td>-0.038966</td>\n",
              "      <td>-0.014714</td>\n",
              "      <td>0.128147</td>\n",
              "      <td>-0.080068</td>\n",
              "      <td>-0.173428</td>\n",
              "      <td>-0.277911</td>\n",
              "      <td>0.046570</td>\n",
              "      <td>0.250364</td>\n",
              "      <td>0.108948</td>\n",
              "      <td>...</td>\n",
              "      <td>0.014585</td>\n",
              "      <td>0.088203</td>\n",
              "      <td>-0.119870</td>\n",
              "      <td>0.030825</td>\n",
              "      <td>0.002463</td>\n",
              "      <td>0.103705</td>\n",
              "      <td>0.042078</td>\n",
              "      <td>0.029321</td>\n",
              "      <td>0.145854</td>\n",
              "      <td>-0.057397</td>\n",
              "    </tr>\n",
              "    <tr>\n",
              "      <th>BP</th>\n",
              "      <td>-0.093483</td>\n",
              "      <td>-0.074752</td>\n",
              "      <td>0.132118</td>\n",
              "      <td>0.215527</td>\n",
              "      <td>-0.025930</td>\n",
              "      <td>-0.072511</td>\n",
              "      <td>-0.071315</td>\n",
              "      <td>0.031916</td>\n",
              "      <td>0.128010</td>\n",
              "      <td>0.570418</td>\n",
              "      <td>...</td>\n",
              "      <td>0.038045</td>\n",
              "      <td>0.036155</td>\n",
              "      <td>-0.129196</td>\n",
              "      <td>0.033902</td>\n",
              "      <td>0.067064</td>\n",
              "      <td>-0.071686</td>\n",
              "      <td>-0.005244</td>\n",
              "      <td>-0.092516</td>\n",
              "      <td>-0.047472</td>\n",
              "      <td>0.024047</td>\n",
              "    </tr>\n",
              "    <tr>\n",
              "      <th>PR</th>\n",
              "      <td>-0.146875</td>\n",
              "      <td>0.111929</td>\n",
              "      <td>-0.014206</td>\n",
              "      <td>0.023576</td>\n",
              "      <td>-0.075468</td>\n",
              "      <td>-0.077549</td>\n",
              "      <td>-0.095459</td>\n",
              "      <td>-0.015680</td>\n",
              "      <td>0.025350</td>\n",
              "      <td>0.124176</td>\n",
              "      <td>...</td>\n",
              "      <td>0.020105</td>\n",
              "      <td>0.108768</td>\n",
              "      <td>-0.070392</td>\n",
              "      <td>0.147650</td>\n",
              "      <td>0.010357</td>\n",
              "      <td>0.080313</td>\n",
              "      <td>-0.141028</td>\n",
              "      <td>-0.066714</td>\n",
              "      <td>-0.210017</td>\n",
              "      <td>0.152990</td>\n",
              "    </tr>\n",
              "    <tr>\n",
              "      <th>Edema</th>\n",
              "      <td>-0.055496</td>\n",
              "      <td>0.051059</td>\n",
              "      <td>0.003351</td>\n",
              "      <td>0.132487</td>\n",
              "      <td>-0.035323</td>\n",
              "      <td>-0.039241</td>\n",
              "      <td>0.035315</td>\n",
              "      <td>-0.009812</td>\n",
              "      <td>0.016133</td>\n",
              "      <td>0.134600</td>\n",
              "      <td>...</td>\n",
              "      <td>0.116906</td>\n",
              "      <td>-0.034615</td>\n",
              "      <td>-0.094113</td>\n",
              "      <td>0.015969</td>\n",
              "      <td>-0.004275</td>\n",
              "      <td>0.101513</td>\n",
              "      <td>-0.025142</td>\n",
              "      <td>-0.054050</td>\n",
              "      <td>-0.079315</td>\n",
              "      <td>0.083133</td>\n",
              "    </tr>\n",
              "    <tr>\n",
              "      <th>Weak Peripheral Pulse</th>\n",
              "      <td>0.004573</td>\n",
              "      <td>-0.025141</td>\n",
              "      <td>0.028048</td>\n",
              "      <td>0.153593</td>\n",
              "      <td>-0.021990</td>\n",
              "      <td>-0.037781</td>\n",
              "      <td>-0.047479</td>\n",
              "      <td>-0.001103</td>\n",
              "      <td>0.029189</td>\n",
              "      <td>0.107811</td>\n",
              "      <td>...</td>\n",
              "      <td>-0.009356</td>\n",
              "      <td>0.147669</td>\n",
              "      <td>-0.034922</td>\n",
              "      <td>0.070595</td>\n",
              "      <td>-0.013517</td>\n",
              "      <td>0.033217</td>\n",
              "      <td>-0.044226</td>\n",
              "      <td>-0.018115</td>\n",
              "      <td>-0.017891</td>\n",
              "      <td>-0.048169</td>\n",
              "    </tr>\n",
              "    <tr>\n",
              "      <th>Lung rales</th>\n",
              "      <td>-0.152867</td>\n",
              "      <td>0.245330</td>\n",
              "      <td>-0.014444</td>\n",
              "      <td>0.105655</td>\n",
              "      <td>-0.097527</td>\n",
              "      <td>-0.031980</td>\n",
              "      <td>0.129113</td>\n",
              "      <td>-0.079006</td>\n",
              "      <td>-0.048936</td>\n",
              "      <td>-0.053769</td>\n",
              "      <td>...</td>\n",
              "      <td>0.158737</td>\n",
              "      <td>-0.049997</td>\n",
              "      <td>-0.015234</td>\n",
              "      <td>0.044835</td>\n",
              "      <td>-0.101942</td>\n",
              "      <td>0.167806</td>\n",
              "      <td>-0.075130</td>\n",
              "      <td>-0.014644</td>\n",
              "      <td>-0.315855</td>\n",
              "      <td>0.158786</td>\n",
              "    </tr>\n",
              "    <tr>\n",
              "      <th>Systolic Murmur</th>\n",
              "      <td>-0.232167</td>\n",
              "      <td>0.387473</td>\n",
              "      <td>-0.118918</td>\n",
              "      <td>0.044819</td>\n",
              "      <td>-0.092795</td>\n",
              "      <td>-0.057362</td>\n",
              "      <td>0.042723</td>\n",
              "      <td>-0.059971</td>\n",
              "      <td>-0.109338</td>\n",
              "      <td>-0.063208</td>\n",
              "      <td>...</td>\n",
              "      <td>0.017271</td>\n",
              "      <td>0.012163</td>\n",
              "      <td>-0.018556</td>\n",
              "      <td>0.032515</td>\n",
              "      <td>-0.004733</td>\n",
              "      <td>0.049072</td>\n",
              "      <td>-0.001331</td>\n",
              "      <td>0.020184</td>\n",
              "      <td>-0.228935</td>\n",
              "      <td>0.073055</td>\n",
              "    </tr>\n",
              "    <tr>\n",
              "      <th>Diastolic Murmur</th>\n",
              "      <td>-0.097808</td>\n",
              "      <td>0.485714</td>\n",
              "      <td>-0.133214</td>\n",
              "      <td>0.029832</td>\n",
              "      <td>-0.052770</td>\n",
              "      <td>0.007420</td>\n",
              "      <td>-0.008972</td>\n",
              "      <td>-0.062039</td>\n",
              "      <td>-0.028643</td>\n",
              "      <td>-0.052064</td>\n",
              "      <td>...</td>\n",
              "      <td>0.141312</td>\n",
              "      <td>0.041351</td>\n",
              "      <td>-0.019119</td>\n",
              "      <td>-0.049987</td>\n",
              "      <td>-0.061213</td>\n",
              "      <td>0.012437</td>\n",
              "      <td>-0.120269</td>\n",
              "      <td>0.183080</td>\n",
              "      <td>-0.043798</td>\n",
              "      <td>-0.078819</td>\n",
              "    </tr>\n",
              "    <tr>\n",
              "      <th>Typical Chest Pain</th>\n",
              "      <td>-0.092458</td>\n",
              "      <td>-0.140004</td>\n",
              "      <td>0.150410</td>\n",
              "      <td>0.138387</td>\n",
              "      <td>-0.002986</td>\n",
              "      <td>0.023149</td>\n",
              "      <td>0.036770</td>\n",
              "      <td>-0.012911</td>\n",
              "      <td>0.105623</td>\n",
              "      <td>0.122788</td>\n",
              "      <td>...</td>\n",
              "      <td>-0.031728</td>\n",
              "      <td>0.073777</td>\n",
              "      <td>0.057803</td>\n",
              "      <td>0.126926</td>\n",
              "      <td>-0.026933</td>\n",
              "      <td>-0.022196</td>\n",
              "      <td>-0.076830</td>\n",
              "      <td>-0.082399</td>\n",
              "      <td>-0.103957</td>\n",
              "      <td>0.177166</td>\n",
              "    </tr>\n",
              "    <tr>\n",
              "      <th>Dyspnea</th>\n",
              "      <td>-0.113473</td>\n",
              "      <td>0.182443</td>\n",
              "      <td>-0.025180</td>\n",
              "      <td>0.059379</td>\n",
              "      <td>-0.067434</td>\n",
              "      <td>-0.092743</td>\n",
              "      <td>-0.038180</td>\n",
              "      <td>0.015020</td>\n",
              "      <td>0.090134</td>\n",
              "      <td>0.038359</td>\n",
              "      <td>...</td>\n",
              "      <td>0.057196</td>\n",
              "      <td>0.031779</td>\n",
              "      <td>-0.144097</td>\n",
              "      <td>-0.035051</td>\n",
              "      <td>-0.063902</td>\n",
              "      <td>0.040498</td>\n",
              "      <td>0.011673</td>\n",
              "      <td>0.042101</td>\n",
              "      <td>-0.132685</td>\n",
              "      <td>-0.100747</td>\n",
              "    </tr>\n",
              "    <tr>\n",
              "      <th>Atypical</th>\n",
              "      <td>0.167763</td>\n",
              "      <td>-0.090906</td>\n",
              "      <td>-0.124993</td>\n",
              "      <td>-0.141722</td>\n",
              "      <td>-0.012166</td>\n",
              "      <td>-0.061937</td>\n",
              "      <td>-0.043794</td>\n",
              "      <td>0.028345</td>\n",
              "      <td>-0.088066</td>\n",
              "      <td>-0.144666</td>\n",
              "      <td>...</td>\n",
              "      <td>0.012721</td>\n",
              "      <td>-0.134463</td>\n",
              "      <td>-0.007443</td>\n",
              "      <td>-0.113479</td>\n",
              "      <td>0.079633</td>\n",
              "      <td>-0.053956</td>\n",
              "      <td>0.125676</td>\n",
              "      <td>-0.042610</td>\n",
              "      <td>0.162596</td>\n",
              "      <td>-0.187982</td>\n",
              "    </tr>\n",
              "    <tr>\n",
              "      <th>Nonanginal</th>\n",
              "      <td>0.056911</td>\n",
              "      <td>0.190860</td>\n",
              "      <td>-0.114176</td>\n",
              "      <td>-0.088702</td>\n",
              "      <td>-0.009010</td>\n",
              "      <td>0.005612</td>\n",
              "      <td>-0.068600</td>\n",
              "      <td>-0.025488</td>\n",
              "      <td>-0.088890</td>\n",
              "      <td>0.016443</td>\n",
              "      <td>...</td>\n",
              "      <td>-0.068048</td>\n",
              "      <td>-0.001292</td>\n",
              "      <td>-0.035387</td>\n",
              "      <td>-0.061006</td>\n",
              "      <td>0.023496</td>\n",
              "      <td>-0.029963</td>\n",
              "      <td>0.015727</td>\n",
              "      <td>0.164402</td>\n",
              "      <td>0.098194</td>\n",
              "      <td>-0.090414</td>\n",
              "    </tr>\n",
              "    <tr>\n",
              "      <th>Exertional CP</th>\n",
              "      <td>NaN</td>\n",
              "      <td>NaN</td>\n",
              "      <td>NaN</td>\n",
              "      <td>NaN</td>\n",
              "      <td>NaN</td>\n",
              "      <td>NaN</td>\n",
              "      <td>NaN</td>\n",
              "      <td>NaN</td>\n",
              "      <td>NaN</td>\n",
              "      <td>NaN</td>\n",
              "      <td>...</td>\n",
              "      <td>NaN</td>\n",
              "      <td>NaN</td>\n",
              "      <td>NaN</td>\n",
              "      <td>NaN</td>\n",
              "      <td>NaN</td>\n",
              "      <td>NaN</td>\n",
              "      <td>NaN</td>\n",
              "      <td>NaN</td>\n",
              "      <td>NaN</td>\n",
              "      <td>NaN</td>\n",
              "    </tr>\n",
              "    <tr>\n",
              "      <th>LowTH Ang</th>\n",
              "      <td>0.019648</td>\n",
              "      <td>-0.015821</td>\n",
              "      <td>0.001345</td>\n",
              "      <td>0.087227</td>\n",
              "      <td>-0.056749</td>\n",
              "      <td>-0.071919</td>\n",
              "      <td>-0.095959</td>\n",
              "      <td>-0.018212</td>\n",
              "      <td>-0.052986</td>\n",
              "      <td>0.067845</td>\n",
              "      <td>...</td>\n",
              "      <td>-0.005888</td>\n",
              "      <td>-0.043354</td>\n",
              "      <td>-0.035665</td>\n",
              "      <td>-0.005469</td>\n",
              "      <td>0.160886</td>\n",
              "      <td>0.067246</td>\n",
              "      <td>0.140009</td>\n",
              "      <td>0.007402</td>\n",
              "      <td>-0.043270</td>\n",
              "      <td>0.171551</td>\n",
              "    </tr>\n",
              "    <tr>\n",
              "      <th>Q Wave</th>\n",
              "      <td>-0.094885</td>\n",
              "      <td>-0.045827</td>\n",
              "      <td>0.062933</td>\n",
              "      <td>-0.061677</td>\n",
              "      <td>0.020584</td>\n",
              "      <td>0.045229</td>\n",
              "      <td>0.051031</td>\n",
              "      <td>-0.015837</td>\n",
              "      <td>0.072583</td>\n",
              "      <td>-0.043583</td>\n",
              "      <td>...</td>\n",
              "      <td>0.070061</td>\n",
              "      <td>0.136909</td>\n",
              "      <td>0.007752</td>\n",
              "      <td>0.048677</td>\n",
              "      <td>-0.155067</td>\n",
              "      <td>0.013517</td>\n",
              "      <td>-0.055419</td>\n",
              "      <td>0.003692</td>\n",
              "      <td>-0.266077</td>\n",
              "      <td>0.222826</td>\n",
              "    </tr>\n",
              "    <tr>\n",
              "      <th>St Elevation</th>\n",
              "      <td>-0.141007</td>\n",
              "      <td>0.041332</td>\n",
              "      <td>0.129420</td>\n",
              "      <td>-0.056926</td>\n",
              "      <td>0.071406</td>\n",
              "      <td>0.050602</td>\n",
              "      <td>0.091379</td>\n",
              "      <td>0.029896</td>\n",
              "      <td>0.028955</td>\n",
              "      <td>-0.040627</td>\n",
              "      <td>...</td>\n",
              "      <td>0.063328</td>\n",
              "      <td>0.141827</td>\n",
              "      <td>0.065039</td>\n",
              "      <td>0.112392</td>\n",
              "      <td>-0.103195</td>\n",
              "      <td>0.128728</td>\n",
              "      <td>-0.060937</td>\n",
              "      <td>0.070754</td>\n",
              "      <td>-0.231493</td>\n",
              "      <td>0.268545</td>\n",
              "    </tr>\n",
              "    <tr>\n",
              "      <th>St Depression</th>\n",
              "      <td>0.045179</td>\n",
              "      <td>-0.065715</td>\n",
              "      <td>-0.029833</td>\n",
              "      <td>0.177432</td>\n",
              "      <td>-0.114619</td>\n",
              "      <td>-0.150480</td>\n",
              "      <td>-0.114342</td>\n",
              "      <td>-0.009146</td>\n",
              "      <td>0.015532</td>\n",
              "      <td>0.016736</td>\n",
              "      <td>...</td>\n",
              "      <td>0.017257</td>\n",
              "      <td>0.078451</td>\n",
              "      <td>-0.124527</td>\n",
              "      <td>-0.033712</td>\n",
              "      <td>-0.005668</td>\n",
              "      <td>0.107977</td>\n",
              "      <td>-0.019841</td>\n",
              "      <td>0.119812</td>\n",
              "      <td>-0.015214</td>\n",
              "      <td>0.165025</td>\n",
              "    </tr>\n",
              "    <tr>\n",
              "      <th>Tinversion</th>\n",
              "      <td>-0.051344</td>\n",
              "      <td>-0.087550</td>\n",
              "      <td>0.039622</td>\n",
              "      <td>0.041913</td>\n",
              "      <td>-0.021033</td>\n",
              "      <td>0.023690</td>\n",
              "      <td>0.054493</td>\n",
              "      <td>-0.043311</td>\n",
              "      <td>-0.058998</td>\n",
              "      <td>0.115040</td>\n",
              "      <td>...</td>\n",
              "      <td>-0.011594</td>\n",
              "      <td>0.081901</td>\n",
              "      <td>0.067330</td>\n",
              "      <td>0.032172</td>\n",
              "      <td>-0.024134</td>\n",
              "      <td>0.018630</td>\n",
              "      <td>-0.015916</td>\n",
              "      <td>0.011547</td>\n",
              "      <td>-0.121389</td>\n",
              "      <td>0.173485</td>\n",
              "    </tr>\n",
              "    <tr>\n",
              "      <th>LVH</th>\n",
              "      <td>-0.072650</td>\n",
              "      <td>0.019466</td>\n",
              "      <td>0.057563</td>\n",
              "      <td>0.125612</td>\n",
              "      <td>0.100367</td>\n",
              "      <td>-0.007599</td>\n",
              "      <td>-0.016626</td>\n",
              "      <td>0.110330</td>\n",
              "      <td>-0.056449</td>\n",
              "      <td>0.221262</td>\n",
              "      <td>...</td>\n",
              "      <td>0.095628</td>\n",
              "      <td>0.089191</td>\n",
              "      <td>-0.019588</td>\n",
              "      <td>0.011220</td>\n",
              "      <td>0.084145</td>\n",
              "      <td>-0.005190</td>\n",
              "      <td>-0.028019</td>\n",
              "      <td>0.014723</td>\n",
              "      <td>0.030394</td>\n",
              "      <td>-0.051835</td>\n",
              "    </tr>\n",
              "    <tr>\n",
              "      <th>Poor R Progression</th>\n",
              "      <td>-0.017819</td>\n",
              "      <td>-0.033959</td>\n",
              "      <td>0.022331</td>\n",
              "      <td>0.003599</td>\n",
              "      <td>-0.106376</td>\n",
              "      <td>-0.053120</td>\n",
              "      <td>-0.048372</td>\n",
              "      <td>-0.081253</td>\n",
              "      <td>0.269163</td>\n",
              "      <td>0.027011</td>\n",
              "      <td>...</td>\n",
              "      <td>0.099326</td>\n",
              "      <td>0.054791</td>\n",
              "      <td>-0.120686</td>\n",
              "      <td>-0.007490</td>\n",
              "      <td>-0.050986</td>\n",
              "      <td>0.010823</td>\n",
              "      <td>-0.092933</td>\n",
              "      <td>-0.078598</td>\n",
              "      <td>-0.087423</td>\n",
              "      <td>-0.044432</td>\n",
              "    </tr>\n",
              "    <tr>\n",
              "      <th>BBB</th>\n",
              "      <td>-0.002217</td>\n",
              "      <td>0.012190</td>\n",
              "      <td>-0.013599</td>\n",
              "      <td>0.005434</td>\n",
              "      <td>-0.033420</td>\n",
              "      <td>0.058785</td>\n",
              "      <td>-0.002436</td>\n",
              "      <td>-0.072387</td>\n",
              "      <td>-0.014153</td>\n",
              "      <td>-0.052273</td>\n",
              "      <td>...</td>\n",
              "      <td>-0.089509</td>\n",
              "      <td>0.041299</td>\n",
              "      <td>0.061464</td>\n",
              "      <td>-0.036975</td>\n",
              "      <td>0.075941</td>\n",
              "      <td>-0.042690</td>\n",
              "      <td>0.002519</td>\n",
              "      <td>-0.090139</td>\n",
              "      <td>0.128472</td>\n",
              "      <td>-0.076629</td>\n",
              "    </tr>\n",
              "    <tr>\n",
              "      <th>FBS</th>\n",
              "      <td>-0.078932</td>\n",
              "      <td>-0.122521</td>\n",
              "      <td>0.090460</td>\n",
              "      <td>0.015385</td>\n",
              "      <td>0.012737</td>\n",
              "      <td>-0.094789</td>\n",
              "      <td>-0.217349</td>\n",
              "      <td>0.089380</td>\n",
              "      <td>0.677940</td>\n",
              "      <td>0.109592</td>\n",
              "      <td>...</td>\n",
              "      <td>0.230139</td>\n",
              "      <td>0.143823</td>\n",
              "      <td>-0.164087</td>\n",
              "      <td>0.102861</td>\n",
              "      <td>-0.059455</td>\n",
              "      <td>0.159957</td>\n",
              "      <td>-0.003719</td>\n",
              "      <td>0.019886</td>\n",
              "      <td>-0.056692</td>\n",
              "      <td>0.037291</td>\n",
              "    </tr>\n",
              "    <tr>\n",
              "      <th>CR</th>\n",
              "      <td>-0.078504</td>\n",
              "      <td>-0.014158</td>\n",
              "      <td>0.052891</td>\n",
              "      <td>0.227097</td>\n",
              "      <td>0.150226</td>\n",
              "      <td>0.162634</td>\n",
              "      <td>0.260150</td>\n",
              "      <td>0.034338</td>\n",
              "      <td>0.028606</td>\n",
              "      <td>0.158881</td>\n",
              "      <td>...</td>\n",
              "      <td>0.511727</td>\n",
              "      <td>0.023793</td>\n",
              "      <td>-0.019728</td>\n",
              "      <td>-0.010450</td>\n",
              "      <td>-0.074997</td>\n",
              "      <td>0.145125</td>\n",
              "      <td>-0.066620</td>\n",
              "      <td>-0.091782</td>\n",
              "      <td>-0.115351</td>\n",
              "      <td>0.031475</td>\n",
              "    </tr>\n",
              "    <tr>\n",
              "      <th>TG</th>\n",
              "      <td>-0.004916</td>\n",
              "      <td>-0.088185</td>\n",
              "      <td>0.015921</td>\n",
              "      <td>-0.110793</td>\n",
              "      <td>0.078469</td>\n",
              "      <td>-0.034389</td>\n",
              "      <td>-0.016784</td>\n",
              "      <td>0.109422</td>\n",
              "      <td>0.108792</td>\n",
              "      <td>0.045954</td>\n",
              "      <td>...</td>\n",
              "      <td>0.029172</td>\n",
              "      <td>-0.044736</td>\n",
              "      <td>0.123914</td>\n",
              "      <td>0.023490</td>\n",
              "      <td>0.060313</td>\n",
              "      <td>0.012340</td>\n",
              "      <td>0.090065</td>\n",
              "      <td>-0.049424</td>\n",
              "      <td>-0.027902</td>\n",
              "      <td>0.035353</td>\n",
              "    </tr>\n",
              "    <tr>\n",
              "      <th>LDL</th>\n",
              "      <td>0.043489</td>\n",
              "      <td>0.055883</td>\n",
              "      <td>-0.051539</td>\n",
              "      <td>-0.033576</td>\n",
              "      <td>-0.023233</td>\n",
              "      <td>-0.090970</td>\n",
              "      <td>-0.104153</td>\n",
              "      <td>0.040001</td>\n",
              "      <td>-0.027167</td>\n",
              "      <td>0.022755</td>\n",
              "      <td>...</td>\n",
              "      <td>-0.120052</td>\n",
              "      <td>-0.013132</td>\n",
              "      <td>0.063645</td>\n",
              "      <td>0.037732</td>\n",
              "      <td>0.168126</td>\n",
              "      <td>0.019056</td>\n",
              "      <td>0.118307</td>\n",
              "      <td>0.013452</td>\n",
              "      <td>0.159394</td>\n",
              "      <td>-0.026927</td>\n",
              "    </tr>\n",
              "    <tr>\n",
              "      <th>HDL</th>\n",
              "      <td>0.114490</td>\n",
              "      <td>-0.036110</td>\n",
              "      <td>-0.124537</td>\n",
              "      <td>-0.035793</td>\n",
              "      <td>-0.059713</td>\n",
              "      <td>-0.050594</td>\n",
              "      <td>-0.116294</td>\n",
              "      <td>-0.024338</td>\n",
              "      <td>-0.043890</td>\n",
              "      <td>-0.094226</td>\n",
              "      <td>...</td>\n",
              "      <td>-0.138670</td>\n",
              "      <td>-0.084301</td>\n",
              "      <td>-0.048461</td>\n",
              "      <td>-0.074145</td>\n",
              "      <td>0.088912</td>\n",
              "      <td>-0.063782</td>\n",
              "      <td>0.028257</td>\n",
              "      <td>0.000638</td>\n",
              "      <td>0.104394</td>\n",
              "      <td>-0.062022</td>\n",
              "    </tr>\n",
              "    <tr>\n",
              "      <th>BUN</th>\n",
              "      <td>-0.151715</td>\n",
              "      <td>0.026629</td>\n",
              "      <td>0.091491</td>\n",
              "      <td>0.300663</td>\n",
              "      <td>-0.057670</td>\n",
              "      <td>-0.071229</td>\n",
              "      <td>0.009351</td>\n",
              "      <td>-0.011139</td>\n",
              "      <td>0.144394</td>\n",
              "      <td>0.152895</td>\n",
              "      <td>...</td>\n",
              "      <td>1.000000</td>\n",
              "      <td>0.126928</td>\n",
              "      <td>-0.085335</td>\n",
              "      <td>0.098618</td>\n",
              "      <td>-0.136310</td>\n",
              "      <td>0.088416</td>\n",
              "      <td>-0.044946</td>\n",
              "      <td>0.041289</td>\n",
              "      <td>-0.116665</td>\n",
              "      <td>0.018362</td>\n",
              "    </tr>\n",
              "    <tr>\n",
              "      <th>ESR</th>\n",
              "      <td>-0.059147</td>\n",
              "      <td>0.015435</td>\n",
              "      <td>0.043632</td>\n",
              "      <td>0.183127</td>\n",
              "      <td>-0.139314</td>\n",
              "      <td>-0.222182</td>\n",
              "      <td>-0.306189</td>\n",
              "      <td>0.023259</td>\n",
              "      <td>0.190397</td>\n",
              "      <td>0.161704</td>\n",
              "      <td>...</td>\n",
              "      <td>0.126928</td>\n",
              "      <td>1.000000</td>\n",
              "      <td>-0.389803</td>\n",
              "      <td>0.006577</td>\n",
              "      <td>-0.069327</td>\n",
              "      <td>0.160759</td>\n",
              "      <td>-0.158031</td>\n",
              "      <td>0.246826</td>\n",
              "      <td>-0.057497</td>\n",
              "      <td>0.054697</td>\n",
              "    </tr>\n",
              "    <tr>\n",
              "      <th>HB</th>\n",
              "      <td>0.000414</td>\n",
              "      <td>0.016592</td>\n",
              "      <td>-0.017517</td>\n",
              "      <td>-0.161018</td>\n",
              "      <td>0.274218</td>\n",
              "      <td>0.341028</td>\n",
              "      <td>0.403496</td>\n",
              "      <td>0.031107</td>\n",
              "      <td>-0.156382</td>\n",
              "      <td>-0.115935</td>\n",
              "      <td>...</td>\n",
              "      <td>-0.085335</td>\n",
              "      <td>-0.389803</td>\n",
              "      <td>1.000000</td>\n",
              "      <td>0.033308</td>\n",
              "      <td>0.138745</td>\n",
              "      <td>-0.000567</td>\n",
              "      <td>0.083837</td>\n",
              "      <td>-0.106252</td>\n",
              "      <td>0.006186</td>\n",
              "      <td>-0.045481</td>\n",
              "    </tr>\n",
              "    <tr>\n",
              "      <th>K</th>\n",
              "      <td>-0.005349</td>\n",
              "      <td>-0.063167</td>\n",
              "      <td>-0.012602</td>\n",
              "      <td>0.154203</td>\n",
              "      <td>-0.018287</td>\n",
              "      <td>-0.086277</td>\n",
              "      <td>-0.038046</td>\n",
              "      <td>0.044587</td>\n",
              "      <td>0.100064</td>\n",
              "      <td>0.011826</td>\n",
              "      <td>...</td>\n",
              "      <td>0.098618</td>\n",
              "      <td>0.006577</td>\n",
              "      <td>0.033308</td>\n",
              "      <td>1.000000</td>\n",
              "      <td>0.010686</td>\n",
              "      <td>0.118689</td>\n",
              "      <td>-0.008561</td>\n",
              "      <td>0.022865</td>\n",
              "      <td>-0.159512</td>\n",
              "      <td>0.229266</td>\n",
              "    </tr>\n",
              "    <tr>\n",
              "      <th>Na</th>\n",
              "      <td>0.063194</td>\n",
              "      <td>-0.004473</td>\n",
              "      <td>-0.042559</td>\n",
              "      <td>-0.071886</td>\n",
              "      <td>0.013916</td>\n",
              "      <td>-0.066590</td>\n",
              "      <td>-0.079913</td>\n",
              "      <td>0.067402</td>\n",
              "      <td>-0.083030</td>\n",
              "      <td>0.036355</td>\n",
              "      <td>...</td>\n",
              "      <td>-0.136310</td>\n",
              "      <td>-0.069327</td>\n",
              "      <td>0.138745</td>\n",
              "      <td>0.010686</td>\n",
              "      <td>1.000000</td>\n",
              "      <td>-0.093826</td>\n",
              "      <td>0.141032</td>\n",
              "      <td>-0.022049</td>\n",
              "      <td>0.136491</td>\n",
              "      <td>-0.022558</td>\n",
              "    </tr>\n",
              "    <tr>\n",
              "      <th>WBC</th>\n",
              "      <td>-0.077758</td>\n",
              "      <td>0.097513</td>\n",
              "      <td>-0.007794</td>\n",
              "      <td>0.020398</td>\n",
              "      <td>-0.020214</td>\n",
              "      <td>0.066658</td>\n",
              "      <td>0.086823</td>\n",
              "      <td>-0.074928</td>\n",
              "      <td>0.110345</td>\n",
              "      <td>-0.069374</td>\n",
              "      <td>...</td>\n",
              "      <td>0.088416</td>\n",
              "      <td>0.160759</td>\n",
              "      <td>-0.000567</td>\n",
              "      <td>0.118689</td>\n",
              "      <td>-0.093826</td>\n",
              "      <td>1.000000</td>\n",
              "      <td>-0.322100</td>\n",
              "      <td>0.290805</td>\n",
              "      <td>-0.137910</td>\n",
              "      <td>0.175318</td>\n",
              "    </tr>\n",
              "    <tr>\n",
              "      <th>Lymph</th>\n",
              "      <td>0.098664</td>\n",
              "      <td>-0.023735</td>\n",
              "      <td>-0.053378</td>\n",
              "      <td>-0.171529</td>\n",
              "      <td>0.020120</td>\n",
              "      <td>-0.156436</td>\n",
              "      <td>-0.132539</td>\n",
              "      <td>0.139583</td>\n",
              "      <td>0.033413</td>\n",
              "      <td>0.017204</td>\n",
              "      <td>...</td>\n",
              "      <td>-0.044946</td>\n",
              "      <td>-0.158031</td>\n",
              "      <td>0.083837</td>\n",
              "      <td>-0.008561</td>\n",
              "      <td>0.141032</td>\n",
              "      <td>-0.322100</td>\n",
              "      <td>1.000000</td>\n",
              "      <td>-0.011639</td>\n",
              "      <td>0.239827</td>\n",
              "      <td>-0.079181</td>\n",
              "    </tr>\n",
              "    <tr>\n",
              "      <th>PLT</th>\n",
              "      <td>-0.013721</td>\n",
              "      <td>0.158908</td>\n",
              "      <td>-0.019336</td>\n",
              "      <td>-0.049500</td>\n",
              "      <td>-0.094192</td>\n",
              "      <td>-0.133446</td>\n",
              "      <td>-0.143698</td>\n",
              "      <td>-0.003964</td>\n",
              "      <td>0.051054</td>\n",
              "      <td>-0.043840</td>\n",
              "      <td>...</td>\n",
              "      <td>0.041289</td>\n",
              "      <td>0.246826</td>\n",
              "      <td>-0.106252</td>\n",
              "      <td>0.022865</td>\n",
              "      <td>-0.022049</td>\n",
              "      <td>0.290805</td>\n",
              "      <td>-0.011639</td>\n",
              "      <td>1.000000</td>\n",
              "      <td>0.068409</td>\n",
              "      <td>-0.010812</td>\n",
              "    </tr>\n",
              "    <tr>\n",
              "      <th>EF-TTE</th>\n",
              "      <td>0.291169</td>\n",
              "      <td>-0.048586</td>\n",
              "      <td>-0.020312</td>\n",
              "      <td>-0.140512</td>\n",
              "      <td>0.026789</td>\n",
              "      <td>-0.093295</td>\n",
              "      <td>-0.230896</td>\n",
              "      <td>0.093903</td>\n",
              "      <td>-0.052507</td>\n",
              "      <td>0.031365</td>\n",
              "      <td>...</td>\n",
              "      <td>-0.116665</td>\n",
              "      <td>-0.057497</td>\n",
              "      <td>0.006186</td>\n",
              "      <td>-0.159512</td>\n",
              "      <td>0.136491</td>\n",
              "      <td>-0.137910</td>\n",
              "      <td>0.239827</td>\n",
              "      <td>0.068409</td>\n",
              "      <td>1.000000</td>\n",
              "      <td>-0.450799</td>\n",
              "    </tr>\n",
              "    <tr>\n",
              "      <th>Region RWMA</th>\n",
              "      <td>-0.173988</td>\n",
              "      <td>-0.075298</td>\n",
              "      <td>0.079121</td>\n",
              "      <td>0.108663</td>\n",
              "      <td>-0.007648</td>\n",
              "      <td>0.095715</td>\n",
              "      <td>0.128955</td>\n",
              "      <td>-0.079739</td>\n",
              "      <td>0.064891</td>\n",
              "      <td>-0.000372</td>\n",
              "      <td>...</td>\n",
              "      <td>0.018362</td>\n",
              "      <td>0.054697</td>\n",
              "      <td>-0.045481</td>\n",
              "      <td>0.229266</td>\n",
              "      <td>-0.022558</td>\n",
              "      <td>0.175318</td>\n",
              "      <td>-0.079181</td>\n",
              "      <td>-0.010812</td>\n",
              "      <td>-0.450799</td>\n",
              "      <td>1.000000</td>\n",
              "    </tr>\n",
              "  </tbody>\n",
              "</table>\n",
              "<p>54 rows × 54 columns</p>\n",
              "</div>\n",
              "      <button class=\"colab-df-convert\" onclick=\"convertToInteractive('df-6c49b752-6fd5-4675-bfcd-2d034246a2f0')\"\n",
              "              title=\"Convert this dataframe to an interactive table.\"\n",
              "              style=\"display:none;\">\n",
              "        \n",
              "  <svg xmlns=\"http://www.w3.org/2000/svg\" height=\"24px\"viewBox=\"0 0 24 24\"\n",
              "       width=\"24px\">\n",
              "    <path d=\"M0 0h24v24H0V0z\" fill=\"none\"/>\n",
              "    <path d=\"M18.56 5.44l.94 2.06.94-2.06 2.06-.94-2.06-.94-.94-2.06-.94 2.06-2.06.94zm-11 1L8.5 8.5l.94-2.06 2.06-.94-2.06-.94L8.5 2.5l-.94 2.06-2.06.94zm10 10l.94 2.06.94-2.06 2.06-.94-2.06-.94-.94-2.06-.94 2.06-2.06.94z\"/><path d=\"M17.41 7.96l-1.37-1.37c-.4-.4-.92-.59-1.43-.59-.52 0-1.04.2-1.43.59L10.3 9.45l-7.72 7.72c-.78.78-.78 2.05 0 2.83L4 21.41c.39.39.9.59 1.41.59.51 0 1.02-.2 1.41-.59l7.78-7.78 2.81-2.81c.8-.78.8-2.07 0-2.86zM5.41 20L4 18.59l7.72-7.72 1.47 1.35L5.41 20z\"/>\n",
              "  </svg>\n",
              "      </button>\n",
              "      \n",
              "  <style>\n",
              "    .colab-df-container {\n",
              "      display:flex;\n",
              "      flex-wrap:wrap;\n",
              "      gap: 12px;\n",
              "    }\n",
              "\n",
              "    .colab-df-convert {\n",
              "      background-color: #E8F0FE;\n",
              "      border: none;\n",
              "      border-radius: 50%;\n",
              "      cursor: pointer;\n",
              "      display: none;\n",
              "      fill: #1967D2;\n",
              "      height: 32px;\n",
              "      padding: 0 0 0 0;\n",
              "      width: 32px;\n",
              "    }\n",
              "\n",
              "    .colab-df-convert:hover {\n",
              "      background-color: #E2EBFA;\n",
              "      box-shadow: 0px 1px 2px rgba(60, 64, 67, 0.3), 0px 1px 3px 1px rgba(60, 64, 67, 0.15);\n",
              "      fill: #174EA6;\n",
              "    }\n",
              "\n",
              "    [theme=dark] .colab-df-convert {\n",
              "      background-color: #3B4455;\n",
              "      fill: #D2E3FC;\n",
              "    }\n",
              "\n",
              "    [theme=dark] .colab-df-convert:hover {\n",
              "      background-color: #434B5C;\n",
              "      box-shadow: 0px 1px 3px 1px rgba(0, 0, 0, 0.15);\n",
              "      filter: drop-shadow(0px 1px 2px rgba(0, 0, 0, 0.3));\n",
              "      fill: #FFFFFF;\n",
              "    }\n",
              "  </style>\n",
              "\n",
              "      <script>\n",
              "        const buttonEl =\n",
              "          document.querySelector('#df-6c49b752-6fd5-4675-bfcd-2d034246a2f0 button.colab-df-convert');\n",
              "        buttonEl.style.display =\n",
              "          google.colab.kernel.accessAllowed ? 'block' : 'none';\n",
              "\n",
              "        async function convertToInteractive(key) {\n",
              "          const element = document.querySelector('#df-6c49b752-6fd5-4675-bfcd-2d034246a2f0');\n",
              "          const dataTable =\n",
              "            await google.colab.kernel.invokeFunction('convertToInteractive',\n",
              "                                                     [key], {});\n",
              "          if (!dataTable) return;\n",
              "\n",
              "          const docLinkHtml = 'Like what you see? Visit the ' +\n",
              "            '<a target=\"_blank\" href=https://colab.research.google.com/notebooks/data_table.ipynb>data table notebook</a>'\n",
              "            + ' to learn more about interactive tables.';\n",
              "          element.innerHTML = '';\n",
              "          dataTable['output_type'] = 'display_data';\n",
              "          await google.colab.output.renderOutput(dataTable, element);\n",
              "          const docLink = document.createElement('div');\n",
              "          docLink.innerHTML = docLinkHtml;\n",
              "          element.appendChild(docLink);\n",
              "        }\n",
              "      </script>\n",
              "    </div>\n",
              "  </div>\n",
              "  "
            ]
          },
          "metadata": {},
          "execution_count": 56
        }
      ]
    },
    {
      "cell_type": "code",
      "source": [
        "sns.heatmap(df2.corr())"
      ],
      "metadata": {
        "colab": {
          "base_uri": "https://localhost:8080/",
          "height": 647
        },
        "id": "KXrCznQzHoMy",
        "outputId": "12fe34c5-652d-4b3e-cd81-642d463693a8"
      },
      "execution_count": null,
      "outputs": [
        {
          "output_type": "stream",
          "name": "stderr",
          "text": [
            "<ipython-input-57-28890f610699>:1: FutureWarning: The default value of numeric_only in DataFrame.corr is deprecated. In a future version, it will default to False. Select only valid columns or specify the value of numeric_only to silence this warning.\n",
            "  sns.heatmap(df2.corr())\n"
          ]
        },
        {
          "output_type": "execute_result",
          "data": {
            "text/plain": [
              "<Axes: >"
            ]
          },
          "metadata": {},
          "execution_count": 57
        },
        {
          "output_type": "display_data",
          "data": {
            "text/plain": [
              "<Figure size 640x480 with 2 Axes>"
            ],
            "image/png": "[encoded data removed]"
          },
          "metadata": {}
        }
      ]
    },
    {
      "cell_type": "code",
      "execution_count": null,
      "metadata": {
        "colab": {
          "base_uri": "https://localhost:8080/"
        },
        "id": "x67JiBtodRPH",
        "outputId": "19b4f08d-91b4-498e-f7cf-37d8b596c241"
      },
      "outputs": [
        {
          "output_type": "execute_result",
          "data": {
            "text/plain": [
              "VHD_N                      uint8\n",
              "VHD_Severe                 uint8\n",
              "VHD_mild                   uint8\n",
              "Age                        int64\n",
              "Weight                     int64\n",
              "Length                     int64\n",
              "Sex                        int64\n",
              "BMI                      float64\n",
              "DM                         int64\n",
              "HTN                        int64\n",
              "Current Smoker             int64\n",
              "EX-Smoker                  int64\n",
              "FH                         int64\n",
              "Obesity                    int64\n",
              "CRF                        int64\n",
              "Airway disease             int64\n",
              "Thyroid Disease            int64\n",
              "CHF                        int64\n",
              "DLP                        int64\n",
              "BP                         int64\n",
              "PR                         int64\n",
              "Edema                      int64\n",
              "Weak Peripheral Pulse      int64\n",
              "Lung rales                 int64\n",
              "Systolic Murmur            int64\n",
              "Diastolic Murmur           int64\n",
              "Typical Chest Pain         int64\n",
              "Dyspnea                    int64\n",
              "Atypical                   int64\n",
              "Nonanginal                 int64\n",
              "Exertional CP              int64\n",
              "LowTH Ang                  int64\n",
              "Q Wave                     int64\n",
              "St Elevation               int64\n",
              "St Depression              int64\n",
              "Tinversion                 int64\n",
              "LVH                        int64\n",
              "Poor R Progression         int64\n",
              "BBB                        int64\n",
              "FBS                        int64\n",
              "CR                       float64\n",
              "TG                         int64\n",
              "LDL                        int64\n",
              "HDL                      float64\n",
              "BUN                        int64\n",
              "ESR                        int64\n",
              "HB                       float64\n",
              "K                        float64\n",
              "Na                         int64\n",
              "WBC                        int64\n",
              "Lymph                      int64\n",
              "PLT                        int64\n",
              "EF-TTE                     int64\n",
              "Region RWMA                int64\n",
              "Cath                      object\n",
              "dtype: object"
            ]
          },
          "metadata": {},
          "execution_count": 58
        }
      ],
      "source": [
        "df2.dtypes"
      ]
    },
    {
      "cell_type": "code",
      "execution_count": null,
      "metadata": {
        "colab": {
          "base_uri": "https://localhost:8080/",
          "height": 424
        },
        "id": "p5iFdgvXAg-s",
        "outputId": "e5442857-6933-4844-e7a5-35c59383bb61"
      },
      "outputs": [
        {
          "output_type": "execute_result",
          "data": {
            "text/plain": [
              "     VHD_N  VHD_Severe  VHD_mild  Age  Weight  Length  Sex        BMI  DM  \\\n",
              "0        1           0         0   53      90     175    1  29.387755   0   \n",
              "1        1           0         0   67      70     157    0  28.398718   0   \n",
              "2        0           0         1   54      54     164    1  20.077335   0   \n",
              "3        0           1         0   66      67     158    0  26.838648   0   \n",
              "4        0           1         0   50      87     153    0  37.165193   0   \n",
              "..     ...         ...       ...  ...     ...     ...  ...        ...  ..   \n",
              "298      1           0         0   58      84     168    1  29.761905   0   \n",
              "299      0           0         1   55      64     152    0  27.700831   0   \n",
              "300      1           0         0   48      77     160    0  30.078125   0   \n",
              "301      1           0         0   57      90     159    0  35.599858   1   \n",
              "302      1           0         0   56      85     170    0  29.411765   0   \n",
              "\n",
              "     HTN  ...  BUN  ESR    HB    K   Na    WBC  Lymph  PLT  EF-TTE  \\\n",
              "0      1  ...    8    7  15.6  4.7  141   5700     39  261      50   \n",
              "1      1  ...   30   26  13.9  4.7  156   7700     38  165      40   \n",
              "2      0  ...   17   10  13.5  4.7  139   7400     38  230      40   \n",
              "3      1  ...   30   76  12.1  4.4  142  13000     18  742      55   \n",
              "4      1  ...   16   27  13.2  4.0  140   9200     55  274      50   \n",
              "..   ...  ...  ...  ...   ...  ...  ...    ...    ...  ...     ...   \n",
              "298    0  ...   13   13  12.3  4.8  146   8500     34  251      45   \n",
              "299    0  ...   23    3  12.4  4.0  139  11400     16  377      40   \n",
              "300    1  ...   13   20  12.8  4.0  140   9000     35  279      55   \n",
              "301    0  ...   14   31  10.1  3.8  141   3800     48  208      55   \n",
              "302    1  ...   16   13  14.7  4.4  147   6000     32  302      55   \n",
              "\n",
              "     Region RWMA  \n",
              "0              0  \n",
              "1              4  \n",
              "2              2  \n",
              "3              0  \n",
              "4              0  \n",
              "..           ...  \n",
              "298            0  \n",
              "299            0  \n",
              "300            0  \n",
              "301            0  \n",
              "302            0  \n",
              "\n",
              "[303 rows x 54 columns]"
            ],
            "text/html": [
              "\n",
              "  <div id=\"df-f4ef422d-1cde-4798-9b55-2da8e22ee989\">\n",
              "    <div class=\"colab-df-container\">\n",
              "      <div>\n",
              "<style scoped>\n",
              "    .dataframe tbody tr th:only-of-type {\n",
              "        vertical-align: middle;\n",
              "    }\n",
              "\n",
              "    .dataframe tbody tr th {\n",
              "        vertical-align: top;\n",
              "    }\n",
              "\n",
              "    .dataframe thead th {\n",
              "        text-align: right;\n",
              "    }\n",
              "</style>\n",
              "<table border=\"1\" class=\"dataframe\">\n",
              "  <thead>\n",
              "    <tr style=\"text-align: right;\">\n",
              "      <th></th>\n",
              "      <th>VHD_N</th>\n",
              "      <th>VHD_Severe</th>\n",
              "      <th>VHD_mild</th>\n",
              "      <th>Age</th>\n",
              "      <th>Weight</th>\n",
              "      <th>Length</th>\n",
              "      <th>Sex</th>\n",
              "      <th>BMI</th>\n",
              "      <th>DM</th>\n",
              "      <th>HTN</th>\n",
              "      <th>...</th>\n",
              "      <th>BUN</th>\n",
              "      <th>ESR</th>\n",
              "      <th>HB</th>\n",
              "      <th>K</th>\n",
              "      <th>Na</th>\n",
              "      <th>WBC</th>\n",
              "      <th>Lymph</th>\n",
              "      <th>PLT</th>\n",
              "      <th>EF-TTE</th>\n",
              "      <th>Region RWMA</th>\n",
              "    </tr>\n",
              "  </thead>\n",
              "  <tbody>\n",
              "    <tr>\n",
              "      <th>0</th>\n",
              "      <td>1</td>\n",
              "      <td>0</td>\n",
              "      <td>0</td>\n",
              "      <td>53</td>\n",
              "      <td>90</td>\n",
              "      <td>175</td>\n",
              "      <td>1</td>\n",
              "      <td>29.387755</td>\n",
              "      <td>0</td>\n",
              "      <td>1</td>\n",
              "      <td>...</td>\n",
              "      <td>8</td>\n",
              "      <td>7</td>\n",
              "      <td>15.6</td>\n",
              "      <td>4.7</td>\n",
              "      <td>141</td>\n",
              "      <td>5700</td>\n",
              "      <td>39</td>\n",
              "      <td>261</td>\n",
              "      <td>50</td>\n",
              "      <td>0</td>\n",
              "    </tr>\n",
              "    <tr>\n",
              "      <th>1</th>\n",
              "      <td>1</td>\n",
              "      <td>0</td>\n",
              "      <td>0</td>\n",
              "      <td>67</td>\n",
              "      <td>70</td>\n",
              "      <td>157</td>\n",
              "      <td>0</td>\n",
              "      <td>28.398718</td>\n",
              "      <td>0</td>\n",
              "      <td>1</td>\n",
              "      <td>...</td>\n",
              "      <td>30</td>\n",
              "      <td>26</td>\n",
              "      <td>13.9</td>\n",
              "      <td>4.7</td>\n",
              "      <td>156</td>\n",
              "      <td>7700</td>\n",
              "      <td>38</td>\n",
              "      <td>165</td>\n",
              "      <td>40</td>\n",
              "      <td>4</td>\n",
              "    </tr>\n",
              "    <tr>\n",
              "      <th>2</th>\n",
              "      <td>0</td>\n",
              "      <td>0</td>\n",
              "      <td>1</td>\n",
              "      <td>54</td>\n",
              "      <td>54</td>\n",
              "      <td>164</td>\n",
              "      <td>1</td>\n",
              "      <td>20.077335</td>\n",
              "      <td>0</td>\n",
              "      <td>0</td>\n",
              "      <td>...</td>\n",
              "      <td>17</td>\n",
              "      <td>10</td>\n",
              "      <td>13.5</td>\n",
              "      <td>4.7</td>\n",
              "      <td>139</td>\n",
              "      <td>7400</td>\n",
              "      <td>38</td>\n",
              "      <td>230</td>\n",
              "      <td>40</td>\n",
              "      <td>2</td>\n",
              "    </tr>\n",
              "    <tr>\n",
              "      <th>3</th>\n",
              "      <td>0</td>\n",
              "      <td>1</td>\n",
              "      <td>0</td>\n",
              "      <td>66</td>\n",
              "      <td>67</td>\n",
              "      <td>158</td>\n",
              "      <td>0</td>\n",
              "      <td>26.838648</td>\n",
              "      <td>0</td>\n",
              "      <td>1</td>\n",
              "      <td>...</td>\n",
              "      <td>30</td>\n",
              "      <td>76</td>\n",
              "      <td>12.1</td>\n",
              "      <td>4.4</td>\n",
              "      <td>142</td>\n",
              "      <td>13000</td>\n",
              "      <td>18</td>\n",
              "      <td>742</td>\n",
              "      <td>55</td>\n",
              "      <td>0</td>\n",
              "    </tr>\n",
              "    <tr>\n",
              "      <th>4</th>\n",
              "      <td>0</td>\n",
              "      <td>1</td>\n",
              "      <td>0</td>\n",
              "      <td>50</td>\n",
              "      <td>87</td>\n",
              "      <td>153</td>\n",
              "      <td>0</td>\n",
              "      <td>37.165193</td>\n",
              "      <td>0</td>\n",
              "      <td>1</td>\n",
              "      <td>...</td>\n",
              "      <td>16</td>\n",
              "      <td>27</td>\n",
              "      <td>13.2</td>\n",
              "      <td>4.0</td>\n",
              "      <td>140</td>\n",
              "      <td>9200</td>\n",
              "      <td>55</td>\n",
              "      <td>274</td>\n",
              "      <td>50</td>\n",
              "      <td>0</td>\n",
              "    </tr>\n",
              "    <tr>\n",
              "      <th>...</th>\n",
              "      <td>...</td>\n",
              "      <td>...</td>\n",
              "      <td>...</td>\n",
              "      <td>...</td>\n",
              "      <td>...</td>\n",
              "      <td>...</td>\n",
              "      <td>...</td>\n",
              "      <td>...</td>\n",
              "      <td>...</td>\n",
              "      <td>...</td>\n",
              "      <td>...</td>\n",
              "      <td>...</td>\n",
              "      <td>...</td>\n",
              "      <td>...</td>\n",
              "      <td>...</td>\n",
              "      <td>...</td>\n",
              "      <td>...</td>\n",
              "      <td>...</td>\n",
              "      <td>...</td>\n",
              "      <td>...</td>\n",
              "      <td>...</td>\n",
              "    </tr>\n",
              "    <tr>\n",
              "      <th>298</th>\n",
              "      <td>1</td>\n",
              "      <td>0</td>\n",
              "      <td>0</td>\n",
              "      <td>58</td>\n",
              "      <td>84</td>\n",
              "      <td>168</td>\n",
              "      <td>1</td>\n",
              "      <td>29.761905</td>\n",
              "      <td>0</td>\n",
              "      <td>0</td>\n",
              "      <td>...</td>\n",
              "      <td>13</td>\n",
              "      <td>13</td>\n",
              "      <td>12.3</td>\n",
              "      <td>4.8</td>\n",
              "      <td>146</td>\n",
              "      <td>8500</td>\n",
              "      <td>34</td>\n",
              "      <td>251</td>\n",
              "      <td>45</td>\n",
              "      <td>0</td>\n",
              "    </tr>\n",
              "    <tr>\n",
              "      <th>299</th>\n",
              "      <td>0</td>\n",
              "      <td>0</td>\n",
              "      <td>1</td>\n",
              "      <td>55</td>\n",
              "      <td>64</td>\n",
              "      <td>152</td>\n",
              "      <td>0</td>\n",
              "      <td>27.700831</td>\n",
              "      <td>0</td>\n",
              "      <td>0</td>\n",
              "      <td>...</td>\n",
              "      <td>23</td>\n",
              "      <td>3</td>\n",
              "      <td>12.4</td>\n",
              "      <td>4.0</td>\n",
              "      <td>139</td>\n",
              "      <td>11400</td>\n",
              "      <td>16</td>\n",
              "      <td>377</td>\n",
              "      <td>40</td>\n",
              "      <td>0</td>\n",
              "    </tr>\n",
              "    <tr>\n",
              "      <th>300</th>\n",
              "      <td>1</td>\n",
              "      <td>0</td>\n",
              "      <td>0</td>\n",
              "      <td>48</td>\n",
              "      <td>77</td>\n",
              "      <td>160</td>\n",
              "      <td>0</td>\n",
              "      <td>30.078125</td>\n",
              "      <td>0</td>\n",
              "      <td>1</td>\n",
              "      <td>...</td>\n",
              "      <td>13</td>\n",
              "      <td>20</td>\n",
              "      <td>12.8</td>\n",
              "      <td>4.0</td>\n",
              "      <td>140</td>\n",
              "      <td>9000</td>\n",
              "      <td>35</td>\n",
              "      <td>279</td>\n",
              "      <td>55</td>\n",
              "      <td>0</td>\n",
              "    </tr>\n",
              "    <tr>\n",
              "      <th>301</th>\n",
              "      <td>1</td>\n",
              "      <td>0</td>\n",
              "      <td>0</td>\n",
              "      <td>57</td>\n",
              "      <td>90</td>\n",
              "      <td>159</td>\n",
              "      <td>0</td>\n",
              "      <td>35.599858</td>\n",
              "      <td>1</td>\n",
              "      <td>0</td>\n",
              "      <td>...</td>\n",
              "      <td>14</td>\n",
              "      <td>31</td>\n",
              "      <td>10.1</td>\n",
              "      <td>3.8</td>\n",
              "      <td>141</td>\n",
              "      <td>3800</td>\n",
              "      <td>48</td>\n",
              "      <td>208</td>\n",
              "      <td>55</td>\n",
              "      <td>0</td>\n",
              "    </tr>\n",
              "    <tr>\n",
              "      <th>302</th>\n",
              "      <td>1</td>\n",
              "      <td>0</td>\n",
              "      <td>0</td>\n",
              "      <td>56</td>\n",
              "      <td>85</td>\n",
              "      <td>170</td>\n",
              "      <td>0</td>\n",
              "      <td>29.411765</td>\n",
              "      <td>0</td>\n",
              "      <td>1</td>\n",
              "      <td>...</td>\n",
              "      <td>16</td>\n",
              "      <td>13</td>\n",
              "      <td>14.7</td>\n",
              "      <td>4.4</td>\n",
              "      <td>147</td>\n",
              "      <td>6000</td>\n",
              "      <td>32</td>\n",
              "      <td>302</td>\n",
              "      <td>55</td>\n",
              "      <td>0</td>\n",
              "    </tr>\n",
              "  </tbody>\n",
              "</table>\n",
              "<p>303 rows × 54 columns</p>\n",
              "</div>\n",
              "      <button class=\"colab-df-convert\" onclick=\"convertToInteractive('df-f4ef422d-1cde-4798-9b55-2da8e22ee989')\"\n",
              "              title=\"Convert this dataframe to an interactive table.\"\n",
              "              style=\"display:none;\">\n",
              "        \n",
              "  <svg xmlns=\"http://www.w3.org/2000/svg\" height=\"24px\"viewBox=\"0 0 24 24\"\n",
              "       width=\"24px\">\n",
              "    <path d=\"M0 0h24v24H0V0z\" fill=\"none\"/>\n",
              "    <path d=\"M18.56 5.44l.94 2.06.94-2.06 2.06-.94-2.06-.94-.94-2.06-.94 2.06-2.06.94zm-11 1L8.5 8.5l.94-2.06 2.06-.94-2.06-.94L8.5 2.5l-.94 2.06-2.06.94zm10 10l.94 2.06.94-2.06 2.06-.94-2.06-.94-.94-2.06-.94 2.06-2.06.94z\"/><path d=\"M17.41 7.96l-1.37-1.37c-.4-.4-.92-.59-1.43-.59-.52 0-1.04.2-1.43.59L10.3 9.45l-7.72 7.72c-.78.78-.78 2.05 0 2.83L4 21.41c.39.39.9.59 1.41.59.51 0 1.02-.2 1.41-.59l7.78-7.78 2.81-2.81c.8-.78.8-2.07 0-2.86zM5.41 20L4 18.59l7.72-7.72 1.47 1.35L5.41 20z\"/>\n",
              "  </svg>\n",
              "      </button>\n",
              "      \n",
              "  <style>\n",
              "    .colab-df-container {\n",
              "      display:flex;\n",
              "      flex-wrap:wrap;\n",
              "      gap: 12px;\n",
              "    }\n",
              "\n",
              "    .colab-df-convert {\n",
              "      background-color: #E8F0FE;\n",
              "      border: none;\n",
              "      border-radius: 50%;\n",
              "      cursor: pointer;\n",
              "      display: none;\n",
              "      fill: #1967D2;\n",
              "      height: 32px;\n",
              "      padding: 0 0 0 0;\n",
              "      width: 32px;\n",
              "    }\n",
              "\n",
              "    .colab-df-convert:hover {\n",
              "      background-color: #E2EBFA;\n",
              "      box-shadow: 0px 1px 2px rgba(60, 64, 67, 0.3), 0px 1px 3px 1px rgba(60, 64, 67, 0.15);\n",
              "      fill: #174EA6;\n",
              "    }\n",
              "\n",
              "    [theme=dark] .colab-df-convert {\n",
              "      background-color: #3B4455;\n",
              "      fill: #D2E3FC;\n",
              "    }\n",
              "\n",
              "    [theme=dark] .colab-df-convert:hover {\n",
              "      background-color: #434B5C;\n",
              "      box-shadow: 0px 1px 3px 1px rgba(0, 0, 0, 0.15);\n",
              "      filter: drop-shadow(0px 1px 2px rgba(0, 0, 0, 0.3));\n",
              "      fill: #FFFFFF;\n",
              "    }\n",
              "  </style>\n",
              "\n",
              "      <script>\n",
              "        const buttonEl =\n",
              "          document.querySelector('#df-f4ef422d-1cde-4798-9b55-2da8e22ee989 button.colab-df-convert');\n",
              "        buttonEl.style.display =\n",
              "          google.colab.kernel.accessAllowed ? 'block' : 'none';\n",
              "\n",
              "        async function convertToInteractive(key) {\n",
              "          const element = document.querySelector('#df-f4ef422d-1cde-4798-9b55-2da8e22ee989');\n",
              "          const dataTable =\n",
              "            await google.colab.kernel.invokeFunction('convertToInteractive',\n",
              "                                                     [key], {});\n",
              "          if (!dataTable) return;\n",
              "\n",
              "          const docLinkHtml = 'Like what you see? Visit the ' +\n",
              "            '<a target=\"_blank\" href=https://colab.research.google.com/notebooks/data_table.ipynb>data table notebook</a>'\n",
              "            + ' to learn more about interactive tables.';\n",
              "          element.innerHTML = '';\n",
              "          dataTable['output_type'] = 'display_data';\n",
              "          await google.colab.output.renderOutput(dataTable, element);\n",
              "          const docLink = document.createElement('div');\n",
              "          docLink.innerHTML = docLinkHtml;\n",
              "          element.appendChild(docLink);\n",
              "        }\n",
              "      </script>\n",
              "    </div>\n",
              "  </div>\n",
              "  "
            ]
          },
          "metadata": {},
          "execution_count": 59
        }
      ],
      "source": [
        "x=df2.drop(['Cath'],axis=1)\n",
        "x"
      ]
    },
    {
      "cell_type": "code",
      "execution_count": null,
      "metadata": {
        "colab": {
          "base_uri": "https://localhost:8080/"
        },
        "id": "pJiVIIIsAh_A",
        "outputId": "6010a776-2fc7-497b-a684-cbab14567648"
      },
      "outputs": [
        {
          "output_type": "execute_result",
          "data": {
            "text/plain": [
              "0         Cad\n",
              "1         Cad\n",
              "2         Cad\n",
              "3      Normal\n",
              "4      Normal\n",
              "        ...  \n",
              "298       Cad\n",
              "299    Normal\n",
              "300    Normal\n",
              "301    Normal\n",
              "302       Cad\n",
              "Name: Cath, Length: 303, dtype: object"
            ]
          },
          "metadata": {},
          "execution_count": 60
        }
      ],
      "source": [
        "y=df2['Cath']\n",
        "y"
      ]
    },
    {
      "cell_type": "code",
      "execution_count": null,
      "metadata": {
        "id": "Yd8302vmAyXI"
      },
      "outputs": [],
      "source": [
        "from sklearn.model_selection import train_test_split\n",
        "x_train,x_test,y_train,y_test=train_test_split(x,y,test_size=.30,random_state=42)"
      ]
    },
    {
      "cell_type": "code",
      "execution_count": null,
      "metadata": {
        "id": "nknBxzcyCgvd",
        "colab": {
          "base_uri": "https://localhost:8080/"
        },
        "outputId": "f9fd88ec-1500-404c-a6f0-0edfc7dfddc8"
      },
      "outputs": [
        {
          "output_type": "execute_result",
          "data": {
            "text/plain": [
              "array([0.04183737, 0.08950845, 0.        , 0.04302064, 0.00254775,\n",
              "       0.        , 0.        , 0.        , 0.02121726, 0.06405332,\n",
              "       0.01470585, 0.        , 0.        , 0.01580906, 0.00158258,\n",
              "       0.03835314, 0.        , 0.        , 0.03163234, 0.02091254,\n",
              "       0.02494314, 0.        , 0.04452742, 0.        , 0.01919112,\n",
              "       0.00717074, 0.13134688, 0.        , 0.12904161, 0.        ,\n",
              "       0.        , 0.        , 0.03655832, 0.00189247, 0.        ,\n",
              "       0.0138027 , 0.        , 0.        , 0.        , 0.06481592,\n",
              "       0.        , 0.        , 0.02681995, 0.02460756, 0.02243692,\n",
              "       0.00333635, 0.        , 0.        , 0.00772809, 0.        ,\n",
              "       0.04879725, 0.        , 0.06537088, 0.05811669])"
            ]
          },
          "metadata": {},
          "execution_count": 62
        }
      ],
      "source": [
        "from sklearn.feature_selection import mutual_info_classif \n",
        "mutual_info=mutual_info_classif(x_train,y_train)\n",
        "mutual_info "
      ]
    },
    {
      "cell_type": "code",
      "execution_count": null,
      "metadata": {
        "id": "YtWPvOm5F3p0",
        "colab": {
          "base_uri": "https://localhost:8080/"
        },
        "outputId": "4b97a313-a9bf-47eb-99e8-9d1ec102ee27"
      },
      "outputs": [
        {
          "output_type": "execute_result",
          "data": {
            "text/plain": [
              "Typical Chest Pain       0.131347\n",
              "Atypical                 0.129042\n",
              "VHD_Severe               0.089508\n",
              "EF-TTE                   0.065371\n",
              "FBS                      0.064816\n",
              "HTN                      0.064053\n",
              "Region RWMA              0.058117\n",
              "Lymph                    0.048797\n",
              "Weak Peripheral Pulse    0.044527\n",
              "Age                      0.043021\n",
              "VHD_N                    0.041837\n",
              "Airway disease           0.038353\n",
              "Q Wave                   0.036558\n",
              "DLP                      0.031632\n",
              "LDL                      0.026820\n",
              "PR                       0.024943\n",
              "HDL                      0.024608\n",
              "BUN                      0.022437\n",
              "DM                       0.021217\n",
              "BP                       0.020913\n",
              "Systolic Murmur          0.019191\n",
              "Obesity                  0.015809\n",
              "Current Smoker           0.014706\n",
              "Tinversion               0.013803\n",
              "Na                       0.007728\n",
              "Diastolic Murmur         0.007171\n",
              "ESR                      0.003336\n",
              "Weight                   0.002548\n",
              "St Elevation             0.001892\n",
              "CRF                      0.001583\n",
              "TG                       0.000000\n",
              "HB                       0.000000\n",
              "VHD_mild                 0.000000\n",
              "K                        0.000000\n",
              "PLT                      0.000000\n",
              "Length                   0.000000\n",
              "WBC                      0.000000\n",
              "CR                       0.000000\n",
              "EX-Smoker                0.000000\n",
              "BBB                      0.000000\n",
              "Poor R Progression       0.000000\n",
              "LVH                      0.000000\n",
              "St Depression            0.000000\n",
              "FH                       0.000000\n",
              "LowTH Ang                0.000000\n",
              "Exertional CP            0.000000\n",
              "Nonanginal               0.000000\n",
              "Sex                      0.000000\n",
              "BMI                      0.000000\n",
              "Lung rales               0.000000\n",
              "Edema                    0.000000\n",
              "CHF                      0.000000\n",
              "Thyroid Disease          0.000000\n",
              "Dyspnea                  0.000000\n",
              "dtype: float64"
            ]
          },
          "metadata": {},
          "execution_count": 63
        }
      ],
      "source": [
        "mutual_info=pd.Series(mutual_info)  \n",
        "mutual_info.index=x_train.columns\n",
        "mutual_info.sort_values(ascending=False)   "
      ]
    },
    {
      "cell_type": "code",
      "execution_count": null,
      "metadata": {
        "id": "xflq4QGxGRG4",
        "colab": {
          "base_uri": "https://localhost:8080/",
          "height": 652
        },
        "outputId": "2f1ab548-4f20-47ae-c250-3057edb552a2"
      },
      "outputs": [
        {
          "output_type": "execute_result",
          "data": {
            "text/plain": [
              "<Axes: >"
            ]
          },
          "metadata": {},
          "execution_count": 64
        },
        {
          "output_type": "display_data",
          "data": {
            "text/plain": [
              "<Figure size 2000x800 with 1 Axes>"
            ],
            "image/png": "[encoded data removed]"
          },
          "metadata": {}
        }
      ],
      "source": [
        "mutual_info.sort_values(ascending=False).plot.bar(figsize=(20,8))"
      ]
    },
    {
      "cell_type": "code",
      "execution_count": null,
      "metadata": {
        "id": "bEkf3nhJ-yW-"
      },
      "outputs": [],
      "source": [
        "from sklearn.feature_selection import SelectKBest "
      ]
    },
    {
      "cell_type": "code",
      "source": [
        "sel_five_cols=SelectKBest(mutual_info_classif,k=5)\n",
        "sel_five_cols.fit(x_train.fillna(0),y_train)\n",
        "x_train.columns[sel_five_cols.get_support()]"
      ],
      "metadata": {
        "colab": {
          "base_uri": "https://localhost:8080/"
        },
        "id": "ro4FENIdBVYU",
        "outputId": "e6024bfc-0427-4e1f-d3c6-5634a49c65a1"
      },
      "execution_count": null,
      "outputs": [
        {
          "output_type": "execute_result",
          "data": {
            "text/plain": [
              "Index(['Typical Chest Pain', 'Atypical', 'Q Wave', 'FBS', 'Region RWMA'], dtype='object')"
            ]
          },
          "metadata": {},
          "execution_count": 66
        }
      ]
    },
    {
      "cell_type": "code",
      "source": [
        "pd.value_counts(df2['Cath'])"
      ],
      "metadata": {
        "colab": {
          "base_uri": "https://localhost:8080/"
        },
        "id": "5RbG4k-CB16Y",
        "outputId": "1d8d3271-3e55-47db-9ba8-5ba74fc9d40e"
      },
      "execution_count": null,
      "outputs": [
        {
          "output_type": "execute_result",
          "data": {
            "text/plain": [
              "Cad       216\n",
              "Normal     87\n",
              "Name: Cath, dtype: int64"
            ]
          },
          "metadata": {},
          "execution_count": 67
        }
      ]
    },
    {
      "cell_type": "code",
      "source": [
        "sns.countplot(x=df2['Cath'])"
      ],
      "metadata": {
        "colab": {
          "base_uri": "https://localhost:8080/",
          "height": 466
        },
        "id": "DU8tR0PlB29h",
        "outputId": "850b2cda-7e32-400e-8da4-8c674e80bd7b"
      },
      "execution_count": null,
      "outputs": [
        {
          "output_type": "execute_result",
          "data": {
            "text/plain": [
              "<Axes: xlabel='Cath', ylabel='count'>"
            ]
          },
          "metadata": {},
          "execution_count": 68
        },
        {
          "output_type": "display_data",
          "data": {
            "text/plain": [
              "<Figure size 640x480 with 1 Axes>"
            ],
            "image/png": "[encoded data removed]"
          },
          "metadata": {}
        }
      ]
    },
    {
      "cell_type": "code",
      "execution_count": null,
      "metadata": {
        "id": "sxbw3BAh576M",
        "colab": {
          "base_uri": "https://localhost:8080/"
        },
        "outputId": "f149a990-817d-4f3e-d06e-103dd40d900a"
      },
      "outputs": [
        {
          "output_type": "execute_result",
          "data": {
            "text/plain": [
              "Cad       150\n",
              "Normal     62\n",
              "Name: Cath, dtype: int64"
            ]
          },
          "metadata": {},
          "execution_count": 69
        }
      ],
      "source": [
        "pd.value_counts(y_train)"
      ]
    },
    {
      "cell_type": "code",
      "execution_count": null,
      "metadata": {
        "id": "1Ve1fFBpfcZ3",
        "colab": {
          "base_uri": "https://localhost:8080/",
          "height": 466
        },
        "outputId": "eabf3eee-9695-42e8-fb88-352b3ce66249"
      },
      "outputs": [
        {
          "output_type": "execute_result",
          "data": {
            "text/plain": [
              "<Axes: xlabel='Cath', ylabel='count'>"
            ]
          },
          "metadata": {},
          "execution_count": 70
        },
        {
          "output_type": "display_data",
          "data": {
            "text/plain": [
              "<Figure size 640x480 with 1 Axes>"
            ],
            "image/png": "[encoded data removed]"
          },
          "metadata": {}
        }
      ],
      "source": [
        "sns.countplot(x=y_train)"
      ]
    },
    {
      "cell_type": "code",
      "execution_count": null,
      "metadata": {
        "id": "YGikAGUk7StO"
      },
      "outputs": [],
      "source": [
        "# Balancing dataset\n",
        "\n",
        "from imblearn.over_sampling import SMOTE"
      ]
    },
    {
      "cell_type": "code",
      "execution_count": null,
      "metadata": {
        "id": "t_t3C9Mi2FRt"
      },
      "outputs": [],
      "source": [
        "# Applying SMOTE to the train set\n",
        "\n",
        "smote=SMOTE(random_state=27)\n",
        "smote_x_train,smote_y_train=smote.fit_resample(x_train,y_train)"
      ]
    },
    {
      "cell_type": "code",
      "execution_count": null,
      "metadata": {
        "id": "Td2Elgjq8prm",
        "colab": {
          "base_uri": "https://localhost:8080/"
        },
        "outputId": "594234de-e73a-4f2f-c201-ce4cc53954ed"
      },
      "outputs": [
        {
          "output_type": "stream",
          "name": "stdout",
          "text": [
            "Before Counter({'Cad': 150, 'Normal': 62})\n",
            "After Counter({'Cad': 150, 'Normal': 150})\n"
          ]
        }
      ],
      "source": [
        "from imblearn.over_sampling._smote.base import Counter\n",
        "print('Before',Counter(y_train))\n",
        "print('After',Counter(smote_y_train))"
      ]
    },
    {
      "cell_type": "code",
      "execution_count": null,
      "metadata": {
        "id": "ak1BRtFJg_J5",
        "colab": {
          "base_uri": "https://localhost:8080/",
          "height": 466
        },
        "outputId": "47d25265-5899-4617-b60c-470ab150eb49"
      },
      "outputs": [
        {
          "output_type": "execute_result",
          "data": {
            "text/plain": [
              "<Axes: xlabel='Cath', ylabel='count'>"
            ]
          },
          "metadata": {},
          "execution_count": 74
        },
        {
          "output_type": "display_data",
          "data": {
            "text/plain": [
              "<Figure size 640x480 with 1 Axes>"
            ],
            "image/png": "[encoded data removed]"
          },
          "metadata": {}
        }
      ],
      "source": [
        "sns.countplot(x=smote_y_train) "
      ]
    },
    {
      "cell_type": "code",
      "execution_count": null,
      "metadata": {
        "id": "w0CFpT179wDb"
      },
      "outputs": [],
      "source": [
        "from sklearn.preprocessing  import MinMaxScaler \n",
        "scaler=MinMaxScaler() \n",
        "smote_x_train=scaler.fit_transform(smote_x_train)\n",
        "x_test=scaler.fit_transform(x_test) "
      ]
    },
    {
      "cell_type": "markdown",
      "source": [
        "Model Creation using K Nearest Neighbors"
      ],
      "metadata": {
        "id": "qvspR4amL_6r"
      }
    },
    {
      "cell_type": "code",
      "execution_count": null,
      "metadata": {
        "id": "GN1znEE__FXS",
        "colab": {
          "base_uri": "https://localhost:8080/"
        },
        "outputId": "6af829a9-a007-433b-9195-a41134ccea53"
      },
      "outputs": [
        {
          "output_type": "execute_result",
          "data": {
            "text/plain": [
              "array(['Normal', 'Cad', 'Cad', 'Cad', 'Normal', 'Cad', 'Cad', 'Cad',\n",
              "       'Normal', 'Cad', 'Cad', 'Normal', 'Cad', 'Cad', 'Cad', 'Cad',\n",
              "       'Normal', 'Normal', 'Normal', 'Cad', 'Cad', 'Cad', 'Normal', 'Cad',\n",
              "       'Cad', 'Cad', 'Normal', 'Normal', 'Cad', 'Cad', 'Cad', 'Cad',\n",
              "       'Cad', 'Normal', 'Normal', 'Normal', 'Cad', 'Normal', 'Cad', 'Cad',\n",
              "       'Cad', 'Normal', 'Normal', 'Cad', 'Cad', 'Normal', 'Normal', 'Cad',\n",
              "       'Cad', 'Cad', 'Normal', 'Normal', 'Cad', 'Cad', 'Cad', 'Normal',\n",
              "       'Normal', 'Cad', 'Normal', 'Cad', 'Cad', 'Cad', 'Cad', 'Normal',\n",
              "       'Cad', 'Normal', 'Cad', 'Cad', 'Cad', 'Cad', 'Cad', 'Cad',\n",
              "       'Normal', 'Cad', 'Cad', 'Cad', 'Normal', 'Cad', 'Cad', 'Normal',\n",
              "       'Cad', 'Normal', 'Cad', 'Cad', 'Normal', 'Cad', 'Cad', 'Cad',\n",
              "       'Normal', 'Normal', 'Cad'], dtype=object)"
            ]
          },
          "metadata": {},
          "execution_count": 76
        }
      ],
      "source": [
        "from sklearn.neighbors import KNeighborsClassifier\n",
        "model=KNeighborsClassifier(n_neighbors=5)\n",
        "model.fit(smote_x_train,smote_y_train)\n",
        "y_pred=model.predict(x_test)\n",
        "y_pred"
      ]
    },
    {
      "cell_type": "code",
      "source": [
        "from sklearn.metrics import confusion_matrix,accuracy_score,classification_report,ConfusionMatrixDisplay"
      ],
      "metadata": {
        "id": "VVuEE9r_EFVZ"
      },
      "execution_count": null,
      "outputs": []
    },
    {
      "cell_type": "code",
      "source": [
        "result=confusion_matrix(y_test,y_pred)\n",
        "result"
      ],
      "metadata": {
        "colab": {
          "base_uri": "https://localhost:8080/"
        },
        "id": "HpCL2V77FUB-",
        "outputId": "f6914d6b-1195-49c2-981e-9072956a852f"
      },
      "execution_count": null,
      "outputs": [
        {
          "output_type": "execute_result",
          "data": {
            "text/plain": [
              "array([[54, 12],\n",
              "       [ 5, 20]])"
            ]
          },
          "metadata": {},
          "execution_count": 78
        }
      ]
    },
    {
      "cell_type": "code",
      "source": [
        "score=accuracy_score(y_test,y_pred)\n",
        "score "
      ],
      "metadata": {
        "colab": {
          "base_uri": "https://localhost:8080/"
        },
        "id": "2_NHjyVxFdE1",
        "outputId": "4db70f90-0cee-400d-83dd-be01a4d597f2"
      },
      "execution_count": null,
      "outputs": [
        {
          "output_type": "execute_result",
          "data": {
            "text/plain": [
              "0.8131868131868132"
            ]
          },
          "metadata": {},
          "execution_count": 79
        }
      ]
    },
    {
      "cell_type": "code",
      "source": [
        "report=classification_report(y_test,y_pred)\n",
        "report"
      ],
      "metadata": {
        "colab": {
          "base_uri": "https://localhost:8080/",
          "height": 70
        },
        "id": "xfQQjJI_Fq5i",
        "outputId": "07aa803c-775e-40bc-fc93-5ceb86a2a0ad"
      },
      "execution_count": null,
      "outputs": [
        {
          "output_type": "execute_result",
          "data": {
            "text/plain": [
              "'              precision    recall  f1-score   support\\n\\n         Cad       0.92      0.82      0.86        66\\n      Normal       0.62      0.80      0.70        25\\n\\n    accuracy                           0.81        91\\n   macro avg       0.77      0.81      0.78        91\\nweighted avg       0.84      0.81      0.82        91\\n'"
            ],
            "application/vnd.google.colaboratory.intrinsic+json": {
              "type": "string"
            }
          },
          "metadata": {},
          "execution_count": 80
        }
      ]
    },
    {
      "cell_type": "code",
      "source": [
        "ic=['Normal','Cad']\n",
        "display=ConfusionMatrixDisplay(result,display_labels=ic)\n",
        "display.plot()"
      ],
      "metadata": {
        "colab": {
          "base_uri": "https://localhost:8080/",
          "height": 466
        },
        "id": "rbIy_1fhKXh4",
        "outputId": "e6b7515f-a167-451d-edcf-fd58a0a62d00"
      },
      "execution_count": null,
      "outputs": [
        {
          "output_type": "execute_result",
          "data": {
            "text/plain": [
              "<sklearn.metrics._plot.confusion_matrix.ConfusionMatrixDisplay at 0x7f98f9290e80>"
            ]
          },
          "metadata": {},
          "execution_count": 81
        },
        {
          "output_type": "display_data",
          "data": {
            "text/plain": [
              "<Figure size 640x480 with 2 Axes>"
            ],
            "image/png": "[encoded data removed]"
          },
          "metadata": {}
        }
      ]
    },
    {
      "cell_type": "markdown",
      "source": [
        "Model Creation using Naive Bayes"
      ],
      "metadata": {
        "id": "_TX5bXjgMNOK"
      }
    },
    {
      "cell_type": "code",
      "source": [
        "from sklearn.naive_bayes import MultinomialNB\n",
        "model=MultinomialNB()\n",
        "model.fit(smote_x_train,smote_y_train)\n",
        "y_pred=model.predict(x_test)\n",
        "y_pred"
      ],
      "metadata": {
        "colab": {
          "base_uri": "https://localhost:8080/"
        },
        "id": "huUePvztLQnb",
        "outputId": "1f9572e4-24ed-4b4d-b462-3ccdb6c2aede"
      },
      "execution_count": null,
      "outputs": [
        {
          "output_type": "execute_result",
          "data": {
            "text/plain": [
              "array(['Normal', 'Cad', 'Cad', 'Cad', 'Normal', 'Cad', 'Cad', 'Cad',\n",
              "       'Normal', 'Cad', 'Cad', 'Cad', 'Cad', 'Cad', 'Cad', 'Cad', 'Cad',\n",
              "       'Normal', 'Normal', 'Cad', 'Cad', 'Cad', 'Cad', 'Cad', 'Cad',\n",
              "       'Cad', 'Cad', 'Cad', 'Cad', 'Cad', 'Cad', 'Normal', 'Cad',\n",
              "       'Normal', 'Normal', 'Normal', 'Cad', 'Cad', 'Cad', 'Cad', 'Cad',\n",
              "       'Normal', 'Normal', 'Cad', 'Cad', 'Cad', 'Cad', 'Cad', 'Cad',\n",
              "       'Cad', 'Normal', 'Normal', 'Cad', 'Cad', 'Cad', 'Cad', 'Cad',\n",
              "       'Cad', 'Normal', 'Normal', 'Cad', 'Cad', 'Cad', 'Normal', 'Cad',\n",
              "       'Normal', 'Cad', 'Cad', 'Cad', 'Cad', 'Cad', 'Cad', 'Normal',\n",
              "       'Cad', 'Cad', 'Cad', 'Normal', 'Cad', 'Cad', 'Normal', 'Cad',\n",
              "       'Cad', 'Cad', 'Cad', 'Normal', 'Cad', 'Cad', 'Cad', 'Normal',\n",
              "       'Normal', 'Cad'], dtype='<U6')"
            ]
          },
          "metadata": {},
          "execution_count": 82
        }
      ]
    },
    {
      "cell_type": "code",
      "source": [
        "from sklearn.metrics import confusion_matrix,accuracy_score,classification_report,ConfusionMatrixDisplay"
      ],
      "metadata": {
        "id": "FasR_rLKMqP3"
      },
      "execution_count": null,
      "outputs": []
    },
    {
      "cell_type": "code",
      "source": [
        "result=confusion_matrix(y_test,y_pred)\n",
        "result"
      ],
      "metadata": {
        "colab": {
          "base_uri": "https://localhost:8080/"
        },
        "id": "L7VqD5jZM8oM",
        "outputId": "b7f10ed8-5080-4f1f-ded8-a10ed2ffbb00"
      },
      "execution_count": null,
      "outputs": [
        {
          "output_type": "execute_result",
          "data": {
            "text/plain": [
              "array([[62,  4],\n",
              "       [ 6, 19]])"
            ]
          },
          "metadata": {},
          "execution_count": 84
        }
      ]
    },
    {
      "cell_type": "code",
      "source": [
        "score=accuracy_score(y_test,y_pred)\n",
        "score "
      ],
      "metadata": {
        "colab": {
          "base_uri": "https://localhost:8080/"
        },
        "id": "4qk1HoIgM_T_",
        "outputId": "33db3b6c-44cb-4783-8113-74c82f7e255c"
      },
      "execution_count": null,
      "outputs": [
        {
          "output_type": "execute_result",
          "data": {
            "text/plain": [
              "0.8901098901098901"
            ]
          },
          "metadata": {},
          "execution_count": 85
        }
      ]
    },
    {
      "cell_type": "code",
      "source": [
        "report=classification_report(y_test,y_pred)\n",
        "report"
      ],
      "metadata": {
        "colab": {
          "base_uri": "https://localhost:8080/",
          "height": 70
        },
        "id": "236APx2NNCge",
        "outputId": "71ac3208-2ff5-4c70-9805-1d0eac73c220"
      },
      "execution_count": null,
      "outputs": [
        {
          "output_type": "execute_result",
          "data": {
            "text/plain": [
              "'              precision    recall  f1-score   support\\n\\n         Cad       0.91      0.94      0.93        66\\n      Normal       0.83      0.76      0.79        25\\n\\n    accuracy                           0.89        91\\n   macro avg       0.87      0.85      0.86        91\\nweighted avg       0.89      0.89      0.89        91\\n'"
            ],
            "application/vnd.google.colaboratory.intrinsic+json": {
              "type": "string"
            }
          },
          "metadata": {},
          "execution_count": 86
        }
      ]
    },
    {
      "cell_type": "code",
      "source": [
        "ic=['Normal','Cad']\n",
        "display=ConfusionMatrixDisplay(result,display_labels=ic)\n",
        "display.plot()"
      ],
      "metadata": {
        "colab": {
          "base_uri": "https://localhost:8080/",
          "height": 466
        },
        "id": "LFk6wA9aNHoa",
        "outputId": "219acde8-4217-463e-ed2d-5a7aef5c943c"
      },
      "execution_count": null,
      "outputs": [
        {
          "output_type": "execute_result",
          "data": {
            "text/plain": [
              "<sklearn.metrics._plot.confusion_matrix.ConfusionMatrixDisplay at 0x7f98a890d330>"
            ]
          },
          "metadata": {},
          "execution_count": 87
        },
        {
          "output_type": "display_data",
          "data": {
            "text/plain": [
              "<Figure size 640x480 with 2 Axes>"
            ],
            "image/png": "[encoded data removed]"
          },
          "metadata": {}
        }
      ]
    },
    {
      "cell_type": "markdown",
      "source": [
        "Model Creation using SVM"
      ],
      "metadata": {
        "id": "mLoAKL-cNaEJ"
      }
    },
    {
      "cell_type": "code",
      "source": [
        "from sklearn.svm import SVC\n",
        "model=SVC()\n",
        "model.fit(smote_x_train,smote_y_train)\n",
        "y_pred=model.predict(x_test)\n",
        "y_pred"
      ],
      "metadata": {
        "colab": {
          "base_uri": "https://localhost:8080/"
        },
        "id": "R5SVlpohNWio",
        "outputId": "5c068f54-1132-40e1-c42a-f39ed996f52c"
      },
      "execution_count": null,
      "outputs": [
        {
          "output_type": "execute_result",
          "data": {
            "text/plain": [
              "array(['Normal', 'Cad', 'Cad', 'Cad', 'Normal', 'Cad', 'Cad', 'Cad',\n",
              "       'Normal', 'Cad', 'Cad', 'Cad', 'Cad', 'Cad', 'Cad', 'Cad', 'Cad',\n",
              "       'Normal', 'Normal', 'Cad', 'Cad', 'Cad', 'Normal', 'Cad', 'Cad',\n",
              "       'Cad', 'Cad', 'Cad', 'Cad', 'Cad', 'Cad', 'Normal', 'Cad', 'Cad',\n",
              "       'Normal', 'Normal', 'Cad', 'Cad', 'Cad', 'Cad', 'Cad', 'Normal',\n",
              "       'Normal', 'Cad', 'Cad', 'Normal', 'Cad', 'Cad', 'Cad', 'Cad',\n",
              "       'Normal', 'Normal', 'Cad', 'Cad', 'Cad', 'Cad', 'Cad', 'Cad',\n",
              "       'Normal', 'Normal', 'Cad', 'Cad', 'Cad', 'Normal', 'Cad', 'Normal',\n",
              "       'Cad', 'Cad', 'Cad', 'Cad', 'Cad', 'Cad', 'Normal', 'Cad', 'Cad',\n",
              "       'Cad', 'Normal', 'Cad', 'Cad', 'Normal', 'Cad', 'Normal', 'Cad',\n",
              "       'Cad', 'Normal', 'Cad', 'Cad', 'Cad', 'Normal', 'Normal', 'Cad'],\n",
              "      dtype=object)"
            ]
          },
          "metadata": {},
          "execution_count": 88
        }
      ]
    },
    {
      "cell_type": "code",
      "source": [
        "from sklearn.metrics import confusion_matrix,accuracy_score,classification_report,ConfusionMatrixDisplay"
      ],
      "metadata": {
        "id": "LMuafcFnNhyY"
      },
      "execution_count": null,
      "outputs": []
    },
    {
      "cell_type": "code",
      "source": [
        "result=confusion_matrix(y_test,y_pred)\n",
        "result"
      ],
      "metadata": {
        "colab": {
          "base_uri": "https://localhost:8080/"
        },
        "id": "_ColO0o1OIt5",
        "outputId": "209c80d5-8878-4686-e41b-1e008f69b90d"
      },
      "execution_count": null,
      "outputs": [
        {
          "output_type": "execute_result",
          "data": {
            "text/plain": [
              "array([[60,  6],\n",
              "       [ 6, 19]])"
            ]
          },
          "metadata": {},
          "execution_count": 90
        }
      ]
    },
    {
      "cell_type": "code",
      "source": [
        "score=accuracy_score(y_test,y_pred)\n",
        "score "
      ],
      "metadata": {
        "colab": {
          "base_uri": "https://localhost:8080/"
        },
        "id": "z5byCt_WOK1u",
        "outputId": "c6e741fe-4086-450f-eb46-7c9eeba3b02b"
      },
      "execution_count": null,
      "outputs": [
        {
          "output_type": "execute_result",
          "data": {
            "text/plain": [
              "0.8681318681318682"
            ]
          },
          "metadata": {},
          "execution_count": 91
        }
      ]
    },
    {
      "cell_type": "code",
      "source": [
        "report=classification_report(y_test,y_pred)\n",
        "report"
      ],
      "metadata": {
        "colab": {
          "base_uri": "https://localhost:8080/",
          "height": 70
        },
        "id": "kaJ3O-PgONZO",
        "outputId": "76c9ccee-29ac-414d-ebc6-29bcec6401ce"
      },
      "execution_count": null,
      "outputs": [
        {
          "output_type": "execute_result",
          "data": {
            "text/plain": [
              "'              precision    recall  f1-score   support\\n\\n         Cad       0.91      0.91      0.91        66\\n      Normal       0.76      0.76      0.76        25\\n\\n    accuracy                           0.87        91\\n   macro avg       0.83      0.83      0.83        91\\nweighted avg       0.87      0.87      0.87        91\\n'"
            ],
            "application/vnd.google.colaboratory.intrinsic+json": {
              "type": "string"
            }
          },
          "metadata": {},
          "execution_count": 92
        }
      ]
    },
    {
      "cell_type": "code",
      "source": [
        "ic=['Normal','Cad']\n",
        "display=ConfusionMatrixDisplay(result,display_labels=ic)\n",
        "display.plot()"
      ],
      "metadata": {
        "colab": {
          "base_uri": "https://localhost:8080/",
          "height": 472
        },
        "id": "loP6hmENORI0",
        "outputId": "9fad23d1-576e-4db4-bdba-10c00dbccceb"
      },
      "execution_count": null,
      "outputs": [
        {
          "output_type": "execute_result",
          "data": {
            "text/plain": [
              "<sklearn.metrics._plot.confusion_matrix.ConfusionMatrixDisplay at 0x7f98a89c27d0>"
            ]
          },
          "metadata": {},
          "execution_count": 93
        },
        {
          "output_type": "display_data",
          "data": {
            "text/plain": [
              "<Figure size 640x480 with 2 Axes>"
            ],
            "image/png": "[encoded data removed]"
          },
          "metadata": {}
        }
      ]
    },
    {
      "cell_type": "markdown",
      "source": [
        "Model Creation using Decision Tree"
      ],
      "metadata": {
        "id": "gQkntcwXPAuH"
      }
    },
    {
      "cell_type": "code",
      "source": [
        "from sklearn.tree import DecisionTreeClassifier\n",
        "model=DecisionTreeClassifier()\n",
        "model.fit(smote_x_train,smote_y_train)\n",
        "y_pred=model.predict(x_test)\n",
        "y_pred"
      ],
      "metadata": {
        "colab": {
          "base_uri": "https://localhost:8080/"
        },
        "id": "ThZMT1xQO-lW",
        "outputId": "e050505b-d359-491f-d40d-7cc88cd61f1f"
      },
      "execution_count": null,
      "outputs": [
        {
          "output_type": "execute_result",
          "data": {
            "text/plain": [
              "array(['Normal', 'Cad', 'Cad', 'Cad', 'Normal', 'Cad', 'Cad', 'Normal',\n",
              "       'Normal', 'Cad', 'Normal', 'Cad', 'Cad', 'Cad', 'Cad', 'Cad',\n",
              "       'Normal', 'Normal', 'Normal', 'Normal', 'Cad', 'Normal', 'Cad',\n",
              "       'Cad', 'Cad', 'Cad', 'Normal', 'Cad', 'Cad', 'Cad', 'Cad', 'Cad',\n",
              "       'Cad', 'Normal', 'Normal', 'Cad', 'Cad', 'Cad', 'Cad', 'Cad',\n",
              "       'Cad', 'Normal', 'Normal', 'Cad', 'Cad', 'Cad', 'Normal', 'Cad',\n",
              "       'Cad', 'Cad', 'Cad', 'Normal', 'Cad', 'Cad', 'Cad', 'Normal',\n",
              "       'Cad', 'Normal', 'Normal', 'Cad', 'Cad', 'Cad', 'Cad', 'Cad',\n",
              "       'Normal', 'Normal', 'Cad', 'Cad', 'Cad', 'Cad', 'Cad', 'Cad',\n",
              "       'Cad', 'Cad', 'Cad', 'Cad', 'Cad', 'Cad', 'Cad', 'Cad', 'Cad',\n",
              "       'Normal', 'Cad', 'Cad', 'Cad', 'Normal', 'Cad', 'Cad', 'Normal',\n",
              "       'Normal', 'Cad'], dtype=object)"
            ]
          },
          "metadata": {},
          "execution_count": 94
        }
      ]
    },
    {
      "cell_type": "code",
      "source": [
        "from sklearn.metrics import confusion_matrix,accuracy_score,classification_report,ConfusionMatrixDisplay"
      ],
      "metadata": {
        "id": "w0MOkexCOWY6"
      },
      "execution_count": null,
      "outputs": []
    },
    {
      "cell_type": "code",
      "source": [
        "result=confusion_matrix(y_test,y_pred)\n",
        "result"
      ],
      "metadata": {
        "colab": {
          "base_uri": "https://localhost:8080/"
        },
        "id": "8dYKFJ42TRQQ",
        "outputId": "941af1b0-ca78-4b62-9d4d-7fe8d26f0d4e"
      },
      "execution_count": null,
      "outputs": [
        {
          "output_type": "execute_result",
          "data": {
            "text/plain": [
              "array([[54, 12],\n",
              "       [11, 14]])"
            ]
          },
          "metadata": {},
          "execution_count": 96
        }
      ]
    },
    {
      "cell_type": "code",
      "source": [
        "score=accuracy_score(y_test,y_pred)\n",
        "score "
      ],
      "metadata": {
        "colab": {
          "base_uri": "https://localhost:8080/"
        },
        "id": "m4cIM6TfTVaF",
        "outputId": "773d8777-05f3-4227-f30a-60082f51abd6"
      },
      "execution_count": null,
      "outputs": [
        {
          "output_type": "execute_result",
          "data": {
            "text/plain": [
              "0.7472527472527473"
            ]
          },
          "metadata": {},
          "execution_count": 97
        }
      ]
    },
    {
      "cell_type": "code",
      "source": [
        "report=classification_report(y_test,y_pred)\n",
        "report"
      ],
      "metadata": {
        "colab": {
          "base_uri": "https://localhost:8080/",
          "height": 70
        },
        "id": "kRkmGyWqTYNl",
        "outputId": "dd712166-4a72-4901-872d-e04ccf197245"
      },
      "execution_count": null,
      "outputs": [
        {
          "output_type": "execute_result",
          "data": {
            "text/plain": [
              "'              precision    recall  f1-score   support\\n\\n         Cad       0.83      0.82      0.82        66\\n      Normal       0.54      0.56      0.55        25\\n\\n    accuracy                           0.75        91\\n   macro avg       0.68      0.69      0.69        91\\nweighted avg       0.75      0.75      0.75        91\\n'"
            ],
            "application/vnd.google.colaboratory.intrinsic+json": {
              "type": "string"
            }
          },
          "metadata": {},
          "execution_count": 98
        }
      ]
    },
    {
      "cell_type": "code",
      "source": [
        "ic=['Normal','Cad']\n",
        "display=ConfusionMatrixDisplay(result,display_labels=ic)\n",
        "display.plot()"
      ],
      "metadata": {
        "colab": {
          "base_uri": "https://localhost:8080/",
          "height": 466
        },
        "id": "iCwirRr9Tb6r",
        "outputId": "04acb2c0-4352-4246-aa78-f17948cac203"
      },
      "execution_count": null,
      "outputs": [
        {
          "output_type": "execute_result",
          "data": {
            "text/plain": [
              "<sklearn.metrics._plot.confusion_matrix.ConfusionMatrixDisplay at 0x7f98a8882830>"
            ]
          },
          "metadata": {},
          "execution_count": 99
        },
        {
          "output_type": "display_data",
          "data": {
            "text/plain": [
              "<Figure size 640x480 with 2 Axes>"
            ],
            "image/png": "[encoded data removed]"
          },
          "metadata": {}
        }
      ]
    },
    {
      "cell_type": "markdown",
      "source": [
        "Model creation using Random Forest Classifier"
      ],
      "metadata": {
        "id": "767rpDsXTj7t"
      }
    },
    {
      "cell_type": "code",
      "source": [
        "from sklearn.ensemble import RandomForestClassifier\n",
        "model=RandomForestClassifier(n_estimators=10,criterion='entropy')\n",
        "model.fit(smote_x_train,smote_y_train)\n",
        "y_pred=model.predict(x_test)\n",
        "y_pred"
      ],
      "metadata": {
        "colab": {
          "base_uri": "https://localhost:8080/"
        },
        "id": "5FP2lFD7TeO0",
        "outputId": "50cd4b42-efef-4d99-c006-c8eb05c8b759"
      },
      "execution_count": null,
      "outputs": [
        {
          "output_type": "execute_result",
          "data": {
            "text/plain": [
              "array(['Normal', 'Cad', 'Cad', 'Cad', 'Normal', 'Cad', 'Cad', 'Cad',\n",
              "       'Normal', 'Cad', 'Cad', 'Cad', 'Cad', 'Cad', 'Cad', 'Cad', 'Cad',\n",
              "       'Normal', 'Normal', 'Cad', 'Cad', 'Cad', 'Cad', 'Cad', 'Cad',\n",
              "       'Cad', 'Cad', 'Cad', 'Cad', 'Cad', 'Cad', 'Cad', 'Cad', 'Cad',\n",
              "       'Normal', 'Normal', 'Cad', 'Cad', 'Cad', 'Cad', 'Cad', 'Normal',\n",
              "       'Normal', 'Cad', 'Cad', 'Normal', 'Normal', 'Cad', 'Cad', 'Cad',\n",
              "       'Normal', 'Normal', 'Cad', 'Cad', 'Cad', 'Normal', 'Cad', 'Cad',\n",
              "       'Normal', 'Cad', 'Cad', 'Cad', 'Cad', 'Normal', 'Cad', 'Normal',\n",
              "       'Cad', 'Cad', 'Cad', 'Cad', 'Cad', 'Cad', 'Normal', 'Cad', 'Cad',\n",
              "       'Cad', 'Cad', 'Cad', 'Cad', 'Normal', 'Cad', 'Normal', 'Cad',\n",
              "       'Cad', 'Normal', 'Cad', 'Cad', 'Cad', 'Normal', 'Cad', 'Cad'],\n",
              "      dtype=object)"
            ]
          },
          "metadata": {},
          "execution_count": 100
        }
      ]
    },
    {
      "cell_type": "code",
      "source": [
        "result=confusion_matrix(y_test,y_pred)\n",
        "result"
      ],
      "metadata": {
        "colab": {
          "base_uri": "https://localhost:8080/"
        },
        "id": "BjEFqWNdUTRN",
        "outputId": "0ac52e7c-86b2-4db4-d4d5-d3b7f088b830"
      },
      "execution_count": null,
      "outputs": [
        {
          "output_type": "execute_result",
          "data": {
            "text/plain": [
              "array([[59,  7],\n",
              "       [10, 15]])"
            ]
          },
          "metadata": {},
          "execution_count": 101
        }
      ]
    },
    {
      "cell_type": "code",
      "source": [
        "score=accuracy_score(y_test,y_pred)\n",
        "score "
      ],
      "metadata": {
        "colab": {
          "base_uri": "https://localhost:8080/"
        },
        "id": "6kGrmOFhUe-K",
        "outputId": "29f03a9a-c8c5-4dd5-ed30-7d1af3f41ec4"
      },
      "execution_count": null,
      "outputs": [
        {
          "output_type": "execute_result",
          "data": {
            "text/plain": [
              "0.8131868131868132"
            ]
          },
          "metadata": {},
          "execution_count": 102
        }
      ]
    },
    {
      "cell_type": "code",
      "source": [
        "report=classification_report(y_test,y_pred)\n",
        "report"
      ],
      "metadata": {
        "colab": {
          "base_uri": "https://localhost:8080/",
          "height": 70
        },
        "id": "oRzZbXDwUheI",
        "outputId": "1d6d78ef-b325-4278-ee75-e1e4afb81f2a"
      },
      "execution_count": null,
      "outputs": [
        {
          "output_type": "execute_result",
          "data": {
            "text/plain": [
              "'              precision    recall  f1-score   support\\n\\n         Cad       0.86      0.89      0.87        66\\n      Normal       0.68      0.60      0.64        25\\n\\n    accuracy                           0.81        91\\n   macro avg       0.77      0.75      0.76        91\\nweighted avg       0.81      0.81      0.81        91\\n'"
            ],
            "application/vnd.google.colaboratory.intrinsic+json": {
              "type": "string"
            }
          },
          "metadata": {},
          "execution_count": 103
        }
      ]
    },
    {
      "cell_type": "code",
      "source": [
        "ic=['Normal','Cad']\n",
        "display=ConfusionMatrixDisplay(result,display_labels=ic)\n",
        "display.plot()"
      ],
      "metadata": {
        "colab": {
          "base_uri": "https://localhost:8080/",
          "height": 466
        },
        "id": "yF1hNjP_UkNd",
        "outputId": "3c840eee-5687-4d4c-cb7b-d7ceab4fe587"
      },
      "execution_count": null,
      "outputs": [
        {
          "output_type": "execute_result",
          "data": {
            "text/plain": [
              "<sklearn.metrics._plot.confusion_matrix.ConfusionMatrixDisplay at 0x7f98a875d000>"
            ]
          },
          "metadata": {},
          "execution_count": 104
        },
        {
          "output_type": "display_data",
          "data": {
            "text/plain": [
              "<Figure size 640x480 with 2 Axes>"
            ],
            "image/png": "[encoded data removed]"
          },
          "metadata": {}
        }
      ]
    },
    {
      "cell_type": "code",
      "source": [
        "import time\n",
        "from xgboost import XGBClassifier\n",
        "# create a default XGBoost classifier\n",
        "model = XGBClassifier(n_estimators=500, random_state=42)\n",
        "# define the eval set and metric\n",
        "eval_set = [(smote_x_train, smote_y_train), (x_test, y_test)]\n",
        "eval_metric = [\"auc\",\"error\"]\n",
        "# fit the model\n",
        "%time model.fit(smote_x_train, smote_y_train, eval_metric=eval_metric, eval_set=eval_set, verbose=False)"
      ],
      "metadata": {
        "colab": {
          "base_uri": "https://localhost:8080/",
          "height": 408
        },
        "id": "O6Dw9bs6mKeh",
        "outputId": "e03b8124-390a-4c6e-e86b-1edda0c24e71"
      },
      "execution_count": null,
      "outputs": [
        {
          "output_type": "error",
          "ename": "ValueError",
          "evalue": "ignored",
          "traceback": [
            "\u001b[0;31m---------------------------------------------------------------------------\u001b[0m",
            "\u001b[0;31mValueError\u001b[0m                                Traceback (most recent call last)",
            "\u001b[0;32m<timed eval>\u001b[0m in \u001b[0;36m<module>\u001b[0;34m\u001b[0m\n",
            "\u001b[0;32m/usr/local/lib/python3.10/dist-packages/xgboost/core.py\u001b[0m in \u001b[0;36minner_f\u001b[0;34m(*args, **kwargs)\u001b[0m\n\u001b[1;32m    618\u001b[0m             \u001b[0;32mfor\u001b[0m \u001b[0mk\u001b[0m\u001b[0;34m,\u001b[0m \u001b[0marg\u001b[0m \u001b[0;32min\u001b[0m \u001b[0mzip\u001b[0m\u001b[0;34m(\u001b[0m\u001b[0msig\u001b[0m\u001b[0;34m.\u001b[0m\u001b[0mparameters\u001b[0m\u001b[0;34m,\u001b[0m \u001b[0margs\u001b[0m\u001b[0;34m)\u001b[0m\u001b[0;34m:\u001b[0m\u001b[0;34m\u001b[0m\u001b[0;34m\u001b[0m\u001b[0m\n\u001b[1;32m    619\u001b[0m                 \u001b[0mkwargs\u001b[0m\u001b[0;34m[\u001b[0m\u001b[0mk\u001b[0m\u001b[0;34m]\u001b[0m \u001b[0;34m=\u001b[0m \u001b[0marg\u001b[0m\u001b[0;34m\u001b[0m\u001b[0;34m\u001b[0m\u001b[0m\n\u001b[0;32m--> 620\u001b[0;31m             \u001b[0;32mreturn\u001b[0m \u001b[0mfunc\u001b[0m\u001b[0;34m(\u001b[0m\u001b[0;34m**\u001b[0m\u001b[0mkwargs\u001b[0m\u001b[0;34m)\u001b[0m\u001b[0;34m\u001b[0m\u001b[0;34m\u001b[0m\u001b[0m\n\u001b[0m\u001b[1;32m    621\u001b[0m \u001b[0;34m\u001b[0m\u001b[0m\n\u001b[1;32m    622\u001b[0m         \u001b[0;32mreturn\u001b[0m \u001b[0minner_f\u001b[0m\u001b[0;34m\u001b[0m\u001b[0;34m\u001b[0m\u001b[0m\n",
            "\u001b[0;32m/usr/local/lib/python3.10/dist-packages/xgboost/sklearn.py\u001b[0m in \u001b[0;36mfit\u001b[0;34m(self, X, y, sample_weight, base_margin, eval_set, eval_metric, early_stopping_rounds, verbose, xgb_model, sample_weight_eval_set, base_margin_eval_set, feature_weights, callbacks)\u001b[0m\n\u001b[1;32m   1438\u001b[0m                 \u001b[0;32mor\u001b[0m \u001b[0;32mnot\u001b[0m \u001b[0;34m(\u001b[0m\u001b[0mself\u001b[0m\u001b[0;34m.\u001b[0m\u001b[0mclasses_\u001b[0m \u001b[0;34m==\u001b[0m \u001b[0mexpected_classes\u001b[0m\u001b[0;34m)\u001b[0m\u001b[0;34m.\u001b[0m\u001b[0mall\u001b[0m\u001b[0;34m(\u001b[0m\u001b[0;34m)\u001b[0m\u001b[0;34m\u001b[0m\u001b[0;34m\u001b[0m\u001b[0m\n\u001b[1;32m   1439\u001b[0m             ):\n\u001b[0;32m-> 1440\u001b[0;31m                 raise ValueError(\n\u001b[0m\u001b[1;32m   1441\u001b[0m                     \u001b[0;34mf\"Invalid classes inferred from unique values of `y`.  \"\u001b[0m\u001b[0;34m\u001b[0m\u001b[0;34m\u001b[0m\u001b[0m\n\u001b[1;32m   1442\u001b[0m                     \u001b[0;34mf\"Expected: {expected_classes}, got {self.classes_}\"\u001b[0m\u001b[0;34m\u001b[0m\u001b[0;34m\u001b[0m\u001b[0m\n",
            "\u001b[0;31mValueError\u001b[0m: Invalid classes inferred from unique values of `y`.  Expected: [0 1], got ['Cad' 'Normal']"
          ]
        }
      ]
    },
    {
      "cell_type": "code",
      "source": [],
      "metadata": {
        "id": "7Bd3VQ0WmK6E"
      },
      "execution_count": null,
      "outputs": []
    },
    {
      "cell_type": "code",
      "source": [],
      "metadata": {
        "id": "s17dbbdumLTy"
      },
      "execution_count": null,
      "outputs": []
    }
  ],
  "metadata": {
    "colab": {
      "provenance": []
    },
    "kernelspec": {
      "display_name": "Python 3",
      "name": "python3"
    },
    "language_info": {
      "name": "python"
    }
  },
  "nbformat": 4,
  "nbformat_minor": 0
}